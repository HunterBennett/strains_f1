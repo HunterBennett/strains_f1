{
 "cells": [
  {
   "cell_type": "markdown",
   "metadata": {},
   "source": [
    "Hunter Bennett | Glass Lab | Kupffer Strains Project | 4 June 2021\n",
    "\n",
    "This is a re-vamp of the differential peak calling pipeline for comparisons within strains in a given condition (healthy, CCl4, NASH). This pipeline takes in ATAC-seq peaks annotated with H3K27Ac ChIP-seq data (or other histone modified data) from three strains (c57, balb, and aj) and compares each strain to the other pairwise. The main outputs of this file are:\n",
    "1. A homer differential peak file containing each pairwise comparison.\n",
    "2. Scatterplots of each pairwise comparison with significant peaks highlighted.\n",
    "3. Heatmaps of differential peaks across all comparisons to highlight patterns.\n",
    "4. Peak files for GREAT analysis of functional annotations associated with genomic regions."
   ]
  },
  {
   "cell_type": "code",
   "execution_count": 1,
   "metadata": {},
   "outputs": [],
   "source": [
    "### header ###\n",
    "__author__ = \"Hunter Bennett\"\n",
    "__license__ = \"BSD\"\n",
    "__email__ = \"hunter.r.bennett@gmail.com\"\n",
    "%load_ext autoreload\n",
    "%autoreload 2\n",
    "### imports ###\n",
    "import sys\n",
    "%matplotlib inline\n",
    "import os\n",
    "import re\n",
    "import glob\n",
    "import pandas as pd\n",
    "import numpy as np\n",
    "import matplotlib\n",
    "import matplotlib.pyplot as plt \n",
    "import seaborn as sns\n",
    "matplotlib.rcParams['savefig.dpi'] = 200\n",
    "sns.set(font_scale=1)\n",
    "sns.set_context('talk')\n",
    "sns.set_style('white')\n",
    "\n",
    "# import custom functions\n",
    "import sys\n",
    "sys.path.insert(0, '/home/h1bennet/code/')\n",
    "from hbUtils import ngs_qc, quantile_normalize_df\n",
    "from plotting_scripts import label_point, pca_rpkm_mat, get_diff_volcano\n",
    "from homer_preprocessing import read_annotated_peaks, import_homer_diffpeak, pull_comparisons_get_diff"
   ]
  },
  {
   "cell_type": "code",
   "execution_count": 2,
   "metadata": {},
   "outputs": [],
   "source": [
    "dataDirectory = '/home/h1bennet/strains/data/H3K27Ac/control_cohort2_untrimmed//'\n",
    "workingDirectory = '/home/h1bennet/strains_f1/results/00_CB6F1_Control/'\n",
    "if not os.path.isdir(workingDirectory):\n",
    "    os.mkdir(workingDirectory)\n",
    "os.chdir(workingDirectory)\n",
    "\n",
    "if not os.path.isdir('./diff_output/'):\n",
    "    os.mkdir('./diff_output/')\n"
   ]
  },
  {
   "cell_type": "code",
   "execution_count": 3,
   "metadata": {},
   "outputs": [],
   "source": [
    "balb_paths = ['/home/h1bennet/strains/data/H3K27Ac/control/01_balbc_Kupffer_H3K27Ac_control_young_Balb10ABC_170915',\n",
    "           '/home/h1bennet/strains/data/H3K27Ac/control/01_balbc_Kupffer_H3K27Ac_control_young_Balb11AB_170915',\n",
    "           '/home/h1bennet/strains/data/H3K27Ac/control_cohort2_untrimmed/tag_mouse_balbcj_Male_Kupffer_ChIP_H3K27ac_Chow_healthyoung_BALB1104_TDT_l20201212_AATCCGGA_CTACAGTT_S30_L001.balbcj.bowtie2_shifted_from_BALBCJ.sam']\n",
    "\n",
    "c57_paths = ['/home/h1bennet/strains/data/H3K27Ac/control/00_C57_Kupffer_H3K27Ac_control_young_C571A_170915',\n",
    "           '/home/h1bennet/strains/data/H3K27Ac/control/00_C57_Kupffer_H3K27Ac_control_young_C572A_180423',\n",
    "           '/home/h1bennet/strains/data/H3K27Ac/control_cohort2_untrimmed/tag_mouse_c57bl6j_Male_Kupffer_ChIP_H3K27ac_Chow_healthyoung_C571104_TDT_l20201212_TAATACAG_ATATTCAC_S31_L001.c57bl6j.bowtie2_shifted_from_C57BL6J.sam']\n",
    "\n",
    "balb_ids = ['BALB10ABC', 'BALB11AB', 'BALB1104']\n",
    "c57_ids = ['C571A', 'C572A', 'C571104']\n",
    "\n",
    "ids = ['balbcj_kupffer_control_young',\n",
    "       'c57bl6j_kupffer_control_young']\n",
    "\n",
    "colors = ['#377eb8',\n",
    "          '#4daf4a']\n",
    "\n",
    "paths = [';'.join(balb_paths),\n",
    "         ';'.join(c57_paths)]\n",
    "short_ids = [';'.join(balb_ids),\n",
    "             ';'.join(c57_ids)]\n",
    "\n",
    "pd.DataFrame([ids,colors,paths,short_ids]).T.to_csv('./sampleDefF0.txt',\n",
    "                                                    sep='\\t',\n",
    "                                                    header=False,\n",
    "                                                    index=False)"
   ]
  },
  {
   "cell_type": "markdown",
   "metadata": {},
   "source": [
    "    source activate r-ouyangPipe\n",
    "\n",
    "    mkdir ./peakQuanF0/\n",
    "\n",
    "    mkdir ./peakDiffF0/\n",
    "\n",
    "    nohup peakQuan.R ./sampleDefF0.txt -o ./peakQuanF0/ -g mm10 -a chip \\\n",
    "    -p ~/strains_f1/data/annotate_mutations_merge_f0_f1.idr \\\n",
    "    --homer='-size 1000 -pc 0' > peakQuanF0.nohup.out\n",
    "\n",
    "    nohup peakDiff.R ./sampleDefF0.txt -o ./peakDiffF0/ -g mm10 -a chip \\\n",
    "    -q ./peakQuanF0/allRawTags.txt > peakDiffF0.nohup.out\n"
   ]
  },
  {
   "cell_type": "code",
   "execution_count": 4,
   "metadata": {},
   "outputs": [],
   "source": [
    "df, mat = read_annotated_peaks('./peakQuanF0/allRawTags.txt')"
   ]
  },
  {
   "cell_type": "code",
   "execution_count": 5,
   "metadata": {},
   "outputs": [],
   "source": [
    "best_reps = ['/home/h1bennet/strains/data/H3K27Ac/control/01_balbc_Kupffer_H3K27Ac_control_young_Balb10ABC_170915',\n",
    "       '/home/h1bennet/strains/data/H3K27Ac/control/01_balbc_Kupffer_H3K27Ac_control_young_Balb11AB_170915',\n",
    "       '/home/h1bennet/strains/data/H3K27Ac/control_cohort2_untrimmed/tag_mouse_balbcj_Male_Kupffer_ChIP_H3K27ac_Chow_healthyoung_BALB1104_TDT_l20201212_AATCCGGA_CTACAGTT_S30_L001.balbcj.bowtie2_shifted_from_BALBCJ.sam',\n",
    "       '/home/h1bennet/strains/data/H3K27Ac/control/00_C57_Kupffer_H3K27Ac_control_young_C571A_170915',\n",
    "       '/home/h1bennet/strains/data/H3K27Ac/control/00_C57_Kupffer_H3K27Ac_control_young_C572A_180423',\n",
    "       '/home/h1bennet/strains/data/H3K27Ac/control_cohort2_untrimmed/tag_mouse_c57bl6j_Male_Kupffer_ChIP_H3K27ac_Chow_healthyoung_C571104_TDT_l20201212_TAATACAG_ATATTCAC_S31_L001.c57bl6j.bowtie2_shifted_from_C57BL6J.sam']"
   ]
  },
  {
   "cell_type": "code",
   "execution_count": 6,
   "metadata": {},
   "outputs": [
    {
     "name": "stdout",
     "output_type": "stream",
     "text": [
      "N IDR Peaks: 137971\n",
      "N Peaks Passing Thresh: 92398\n",
      "N Filtered Peaks: 92398\n"
     ]
    }
   ],
   "source": [
    "# import annotation file\n",
    "df, mat = read_annotated_peaks('./peakQuanF0/allRawTags.txt')\n",
    "\n",
    "# pull out selected samples\n",
    "tst = np.append(np.asarray([True]*18, 'bool'), mat.columns.str.contains('|'.join(best_reps)))\n",
    "df= df.loc[:, tst]\n",
    "mat = mat.loc[:, mat.columns.str.contains('|'.join(best_reps))]\n",
    "\n",
    "df.to_csv('./peakQuan/allRawTags_onlymuts.txt', sep='\\t')\n",
    "\n",
    "\n",
    "# also save version that filters based on amounts of tags\n",
    "groups = [[0,1,2],\n",
    "         [3,4,5]]\n",
    "thresh = 4\n",
    "n_passing_thresh=2\n",
    "\n",
    "peaks = []\n",
    "for group in groups:\n",
    "    bool_peaks = (mat.iloc[:, group] > thresh).sum(1)>n_passing_thresh\n",
    "    peaks.extend(mat.index[bool_peaks])\n",
    "                  \n",
    "mat_filt = mat.reindex(set(peaks)).dropna()\n",
    "df_filt = df.reindex(set(peaks)).dropna()\n",
    "\n",
    "print(\"N IDR Peaks:\", mat.shape[0])\n",
    "print(\"N Peaks Passing Thresh:\", len(set(peaks)))\n",
    "print(\"N Filtered Peaks:\", mat_filt.shape[0])\n",
    "\n",
    "df_filt.to_csv('./peakQuanF0/allRawTags_filtered_peaks.txt', sep='\\t')\n",
    "\n",
    "# save distal version for peak calling\n",
    "df_filt_distal = df_filt.reindex(df_filt.index[np.abs(df_filt['Distance to TSS']) > 3000])\n",
    "df_filt_distal.to_csv('./peakQuanF0/allRawTags_filtered_peaks_distal.txt', sep='\\t')\n"
   ]
  },
  {
   "cell_type": "code",
   "execution_count": 18,
   "metadata": {},
   "outputs": [
    {
     "name": "stderr",
     "output_type": "stream",
     "text": [
      "\tTreating input as file generated by annotatePeaks.pl (-peaks)\n",
      "\n",
      "\tPerforming variance stabalization (rlog)...\n",
      "\n",
      "\n",
      "\tWarning: getDiffExpression.pl now defaults to DESeq2 for calculations (instead of edgeR)\n",
      "\n",
      "\tUsing DESeq2 to calculate differential expression/enrichment...\n",
      "\tOutput Stats balbcj_h3k27ac vs. c57bl6j_h3k27ac:\n",
      "\t\tTotal Genes: 86573\n",
      "\t\tTotal Up-regulated in c57bl6j_h3k27ac vs. balbcj_h3k27ac: 2723 (3.145%) [log2fold>1, FDR<0.05]\n",
      "\t\tTotal Dn-regulated in c57bl6j_h3k27ac vs. balbcj_h3k27ac: 2789 (3.222%) [log2fold<-1, FDR<0.05]\n",
      "\n"
     ]
    }
   ],
   "source": [
    "%%bash\n",
    "\n",
    "source activate deseq_36\n",
    "getDiffExpression.pl ./peakQuanF0/allRawTags_filtered_peaks.txt \\\n",
    "balbcj_h3k27ac balbcj_h3k27ac balbcj_h3k27ac \\\n",
    "c57bl6j_h3k27ac c57bl6j_h3k27ac c57bl6j_h3k27ac \\\n",
    "-peaks > ./diff_output/diff_output_h3k27ac_f0.txt"
   ]
  },
  {
   "cell_type": "markdown",
   "metadata": {},
   "source": [
    "# Filtered peaks"
   ]
  },
  {
   "cell_type": "code",
   "execution_count": 7,
   "metadata": {},
   "outputs": [
    {
     "name": "stdout",
     "output_type": "stream",
     "text": [
      "annotatePeaks all peaks (86573, 24)\n",
      "getDiffExpression selected transcripts (86573, 27)\n",
      "annotatePeaks selected peaks (86573, 24)\n"
     ]
    },
    {
     "data": {
      "text/plain": [
       "dict_keys(['balbcj_h3k27ac vs. c57bl6j_h3k27ac'])"
      ]
     },
     "execution_count": 7,
     "metadata": {},
     "output_type": "execute_result"
    }
   ],
   "source": [
    "diff_peak, peaks, peak_mat, peak_mat_quant = import_homer_diffpeak(\n",
    "    './diff_output/diff_output_h3k27ac_f0.txt',\n",
    "    './peakQuanF0/allRawTags_filtered_peaks.txt')\n",
    "\n",
    "comp_dict = pull_comparisons_get_diff(diff_peak, seq_type='Peak')\n",
    "comp_dict.keys()"
   ]
  },
  {
   "cell_type": "code",
   "execution_count": 8,
   "metadata": {},
   "outputs": [],
   "source": [
    "comps = ['balbcj_h3k27ac vs. c57bl6j_h3k27ac']\n",
    "\n",
    "groups = [[[0,1,2],[3,4,5]]]\n",
    "\n",
    "cols = []\n",
    "for i in groups:\n",
    "    for j in i:\n",
    "        cols.extend(j)\n",
    "cols = [cols]\n",
    "\n",
    "colors = [['#3182bd', '#31a354']]\n",
    "\n",
    "pval = 0.05\n",
    "log2fc = np.log2(2)"
   ]
  },
  {
   "cell_type": "code",
   "execution_count": 9,
   "metadata": {},
   "outputs": [
    {
     "name": "stdout",
     "output_type": "stream",
     "text": [
      "balbcj_h3k27ac vs. c57bl6j_h3k27ac\n",
      "N peaks downregulated 2789\n",
      "N peaks upregulated 2723\n",
      "\n"
     ]
    },
    {
     "data": {
      "image/png": "[encoded data removed]",
      "text/plain": [
       "<Figure size 288x288 with 1 Axes>"
      ]
     },
     "metadata": {},
     "output_type": "display_data"
    }
   ],
   "source": [
    "for key, col, group, color in zip(comps, cols, groups, colors):\n",
    "    \n",
    "    # make columns for plotting\n",
    "    de = comp_dict[key]\n",
    "    de['logtpm'] = np.log2(peak_mat.iloc[:, col].mean(1)+1)\n",
    "    de['log10p'] = -np.log10(de.adj_pval + 10**(-50))\n",
    "    de['g0_mean'] = np.log2(peak_mat.iloc[:, group[0]].mean(1)+1)\n",
    "    de['g1_mean'] = np.log2(peak_mat.iloc[:, group[1]].mean(1)+1)\n",
    "    de = de.reindex(de.index[(de.g0_mean >= 3) | (de.g1_mean >= 3)])\n",
    "\n",
    "    dot_colors = []\n",
    "    dot_sizes = []\n",
    "    \n",
    "    # create dot size list\n",
    "    for index, row in de.iterrows():\n",
    "        if (row.adj_pval <= pval) & (-row.log2fc < -log2fc):\n",
    "            dot_colors.append(color[1])\n",
    "            dot_sizes.append(row.log10p)\n",
    "        elif (row.adj_pval <= pval) & (-row.log2fc > log2fc):\n",
    "            dot_colors.append(color[0])\n",
    "            dot_sizes.append(row.log10p)\n",
    "        else:\n",
    "            dot_colors.append('#636363')\n",
    "            dot_sizes.append(0.5)\n",
    "    \n",
    "    # print DE peaks\n",
    "    print(key)\n",
    "    print('N peaks downregulated', np.sum((de.adj_pval <= pval) & (de.log2fc < -log2fc)))\n",
    "    print('N peaks upregulated', np.sum((de.adj_pval <= pval) & (de.log2fc > log2fc)))\n",
    "    print('')\n",
    "    \n",
    "    fig, ax = plt.subplots(figsize=(4,4))\n",
    "    \n",
    "        # plot group by group scatter:\n",
    "    ax.scatter(\n",
    "        x=de.g0_mean,\n",
    "        y=de.g1_mean,\n",
    "        s=0.5, #de.log10p+0.05,\n",
    "        c=dot_colors)\n",
    "    \n",
    "    ax.set_xlabel(key.split(' vs. ')[0] + ' Mean Tags')\n",
    "    ax.set_ylabel(key.split(' vs. ')[1] + ' Mean Tags')\n",
    "    \n",
    "    #set max and min\n",
    "    countmax = np.max([np.max(de.g0_mean), np.max(de.g1_mean)])\n",
    "    ax.set_xlim([0,np.ceil(countmax)])\n",
    "    ax.set_ylim([0,np.ceil(countmax)])\n",
    "    \n",
    "#     ax.text(0.5,15,\n",
    "#         s='%d %s spec peaks' % (np.sum((de.adj_pval <= 0.05) & (de.log2fc > 1)), key.split(' vs. ')[1]),\n",
    "#         fontsize=12,\n",
    "#         c=color[1])\n",
    "#     ax.text(15,0.5,\n",
    "#         s='%d %s spec peaks' % (np.sum((de.adj_pval <= 0.05) & (de.log2fc < -1)), key.split(' vs. ')[0]),\n",
    "#         fontsize=12,\n",
    "#         c=color[0],\n",
    "#         rotation=-90)\n",
    "    \n",
    "    plt.savefig('./figures/'+key+'_scatter_notext.png', bbox_inches='tight')\n",
    "    # plt.close()"
   ]
  },
  {
   "cell_type": "markdown",
   "metadata": {},
   "source": [
    "Reverse plot to match F1"
   ]
  },
  {
   "cell_type": "code",
   "execution_count": 10,
   "metadata": {},
   "outputs": [],
   "source": [
    "comps = ['balbcj_h3k27ac vs. c57bl6j_h3k27ac']\n",
    "\n",
    "groups = [[[3,4,5], [0,1,2]]]\n",
    "\n",
    "cols = []\n",
    "for i in groups:\n",
    "    for j in i:\n",
    "        cols.extend(j)\n",
    "cols = [cols]\n",
    "\n",
    "colors = [['#3182bd', '#31a354']]\n",
    "\n",
    "pval = 0.05\n",
    "log2fc = np.log2(2)"
   ]
  },
  {
   "cell_type": "code",
   "execution_count": 12,
   "metadata": {
    "scrolled": false
   },
   "outputs": [
    {
     "name": "stdout",
     "output_type": "stream",
     "text": [
      "balbcj_h3k27ac vs. c57bl6j_h3k27ac\n",
      "N peaks downregulated 2723\n",
      "N peaks upregulated 2789\n",
      "\n"
     ]
    },
    {
     "data": {
      "image/png": "[encoded data removed]",
      "text/plain": [
       "<Figure size 288x288 with 1 Axes>"
      ]
     },
     "metadata": {},
     "output_type": "display_data"
    }
   ],
   "source": [
    "for key, col, group, color in zip(comps, cols, groups, colors):\n",
    "    \n",
    "    # make columns for plotting\n",
    "    de = comp_dict[key]\n",
    "    de['logtpm'] = np.log2(peak_mat.iloc[:, col].mean(1)+1)\n",
    "    de['log10p'] = -np.log10(de.adj_pval + 10**(-50))\n",
    "    de['g0_mean'] = np.log2(peak_mat.iloc[:, group[0]].mean(1)+1)\n",
    "    de['g1_mean'] = np.log2(peak_mat.iloc[:, group[1]].mean(1)+1)\n",
    "    de = de.reindex(de.index[(de.g0_mean >= 3) | (de.g1_mean >= 3)])\n",
    "\n",
    "    dot_colors = []\n",
    "    dot_sizes = []\n",
    "    \n",
    "    # create dot size list\n",
    "    for index, row in de.iterrows():\n",
    "        if (row.adj_pval <= pval) & (-row.log2fc < -log2fc):\n",
    "            dot_colors.append(color[1])\n",
    "            dot_sizes.append(row.log10p)\n",
    "        elif (row.adj_pval <= pval) & (-row.log2fc > log2fc):\n",
    "            dot_colors.append(color[0])\n",
    "            dot_sizes.append(row.log10p)\n",
    "        else:\n",
    "            dot_colors.append('#636363')\n",
    "            dot_sizes.append(0.5)\n",
    "    \n",
    "    # print DE peaks\n",
    "    print(key)\n",
    "    print('N peaks downregulated', np.sum((de.adj_pval <= pval) & (de.log2fc > log2fc))) #FLIPPED\n",
    "    print('N peaks upregulated', np.sum((de.adj_pval <= pval) & (de.log2fc < -log2fc))) #FLIPPED\n",
    "    print('')\n",
    "    \n",
    "    fig, ax = plt.subplots(figsize=(4,4))\n",
    "    \n",
    "        # plot group by group scatter:\n",
    "    ax.scatter(\n",
    "        x=de.g0_mean,\n",
    "        y=de.g1_mean,\n",
    "        s=0.5, #de.log10p+0.05,\n",
    "        c=dot_colors)\n",
    "    \n",
    "    ax.set_xlabel(key.split(' vs. ')[0] + ' Mean Tags')\n",
    "    ax.set_ylabel(key.split(' vs. ')[1] + ' Mean Tags')\n",
    "    \n",
    "    #set max and min\n",
    "    countmax = np.max([np.max(de.g0_mean), np.max(de.g1_mean)])\n",
    "    ax.set_xlim([0,np.ceil(countmax)])\n",
    "    ax.set_ylim([0,np.ceil(countmax)])\n",
    "    \n",
    "#     ax.text(0.5,15,\n",
    "#         s='%d %s spec peaks' % (np.sum((de.adj_pval <= 0.05) & (de.log2fc > 1)), key.split(' vs. ')[1]),\n",
    "#         fontsize=12,\n",
    "#         c=color[1])\n",
    "#     ax.text(15,0.5,\n",
    "#         s='%d %s spec peaks' % (np.sum((de.adj_pval <= 0.05) & (de.log2fc < -1)), key.split(' vs. ')[0]),\n",
    "#         fontsize=12,\n",
    "#         c=color[0],\n",
    "#         rotation=-90)\n",
    "    \n",
    "    plt.savefig('./figures/'+key+'_scatter_notext_flipped.png', bbox_inches='tight')\n",
    "    # plt.close()"
   ]
  },
  {
   "cell_type": "markdown",
   "metadata": {},
   "source": [
    "# Extract target peaks\n",
    "- since this was annotated with a size of 1000 bp we need to resize the peaks in homer to 200 bp (since they are annotated on ATAC-seq IDr peaks)"
   ]
  },
  {
   "cell_type": "code",
   "execution_count": 13,
   "metadata": {},
   "outputs": [],
   "source": [
    "if not os.path.isdir('./motif_calling/'):\n",
    "    os.mkdir('./motif_calling/') # Extract target peaks"
   ]
  },
  {
   "cell_type": "code",
   "execution_count": 14,
   "metadata": {},
   "outputs": [
    {
     "name": "stdout",
     "output_type": "stream",
     "text": [
      "annotatePeaks all peaks (86573, 24)\n",
      "getDiffExpression selected transcripts (86573, 27)\n",
      "annotatePeaks selected peaks (86573, 24)\n",
      "n balb peaks: 2789\n",
      "n distal balb peaks: 2172\n",
      "n c57 peaks: 2723\n",
      "n distal c57 peaks: 2005\n"
     ]
    }
   ],
   "source": [
    "convert_dict = {'Start': int,\n",
    "                'End': int}\n",
    "\n",
    "# set p value and log2fcs\n",
    "pval = 0.05\n",
    "log2fc = np.log2(2)\n",
    "\n",
    "peak_dict = {}\n",
    "\n",
    "# this is just c57 vs balb, c57 being coded as positive\n",
    "\n",
    "for i in glob.glob('./diff_output/diff_output_h3k27ac_f0.txt'):\n",
    "    diff_peak, peaks, peak_mat, peak_mat_quant = import_homer_diffpeak(\n",
    "        i,\n",
    "        './peakQuanF0/allRawTags_filtered_peaks.txt')\n",
    "    \n",
    "    # force comparison name\n",
    "    strain1 = 'c57bl6j'\n",
    "    strain2 = 'balbcj'\n",
    "    \n",
    "    # extract distal peaks only\n",
    "    diff_peak_distal = diff_peak.loc[np.abs(diff_peak.loc[:, 'Distance to TSS']) >= 3000, :]\n",
    "    \n",
    "    # log2fc is in position -3, adj p value is in position -1\n",
    "    # positive peaks are up in NASH, negative peaks are down in NASH\n",
    "    balb = diff_peak.loc[(diff_peak.iloc[:, -3] <= -log2fc) & (diff_peak.iloc[:, -1] < pval), :].index.tolist()\n",
    "    c57 = diff_peak.loc[(diff_peak.iloc[:, -3] >= log2fc) & (diff_peak.iloc[:, -1] < pval), :].index.tolist()\n",
    "    \n",
    "    # activated peaks stored in the [0] position.\n",
    "#     peak_dict['c57_vs_balb'] = [act, rep]\n",
    "    \n",
    "    # save to list\n",
    "    # print(comp_name)\n",
    "    print('n balb peaks:',diff_peak.reindex(balb).dropna(how='all').shape[0])\n",
    "    diff_peak.reindex(balb).dropna(how='all').iloc[:, :4].astype(convert_dict).to_csv(\n",
    "    './motif_calling/%s_log2fc_%.1f_pval_%.2f.txt' % ('balbcj', log2fc, pval),\n",
    "    sep='\\t')\n",
    "    \n",
    "    print('n distal balb peaks:',diff_peak_distal.reindex(balb).dropna(how='all').shape[0])\n",
    "    diff_peak_distal.reindex(balb).dropna(how='all').iloc[:, :4].astype(convert_dict).to_csv(\n",
    "    './motif_calling/%s_distal_log2fc_%.1f_pval_%.2f.txt' % ('balbcj', log2fc, pval),\n",
    "    sep='\\t')\n",
    "    \n",
    "    print('n c57 peaks:',diff_peak.reindex(c57).dropna(how='all').shape[0])\n",
    "    diff_peak.reindex(c57).dropna(how='all').iloc[:, :4].astype(convert_dict).to_csv(\n",
    "    './motif_calling/%s_log2fc_%.1f_pval_%.2f.txt' % ('c57bl6j', log2fc, pval),\n",
    "    sep='\\t')\n",
    "    \n",
    "    print('n distal c57 peaks:',diff_peak_distal.reindex(c57).dropna(how='all').shape[0])\n",
    "    diff_peak_distal.reindex(c57).dropna(how='all').iloc[:, :4].astype(convert_dict).to_csv(\n",
    "    './motif_calling/%s_distal_log2fc_%.1f_pval_%.2f.txt' % ('c57bl6j', log2fc, pval),\n",
    "    sep='\\t')"
   ]
  },
  {
   "cell_type": "code",
   "execution_count": 15,
   "metadata": {},
   "outputs": [],
   "source": [
    "strain_dict = {'c57bl6j': 'c57bl6j',\n",
    "               'balbcj': 'balbcj',\n",
    "               'aj': 'aj'}\n",
    "\n",
    "# background set all peaks that were considered as differential\n",
    "all_peaks = './peakQuanF0/allRawTags_filtered_peaks.txt' \n",
    "all_peaks_distal = './peakQuanF0/allRawTags_filtered_peaks_distal.txt'\n",
    "\n",
    "with open('./findMotifs_differential.sh', 'w') as f:\n",
    "    for peakfile in np.sort(glob.glob('./motif_calling/*log2fc*.txt')):\n",
    "        strain = peakfile.split('/')[-1].split('_')[0]\n",
    "        if 'distal' in peakfile:\n",
    "            call = ['/home/vlink/code/marge/bin/MMARGE.pl', 'denovo_motifs',\n",
    "                    peakfile, 'mm10', peakfile.replace('.txt', '_motifs'),\n",
    "                    '-bg', all_peaks_distal, '-size 200',\n",
    "                    '-len 8,10,12,14,16', '-fg_strain', strain_dict[strain],\n",
    "                    '-bg_strain', strain_dict[strain], '-p 8\\n\\n']\n",
    "        else:\n",
    "            call = ['/home/vlink/code/marge/bin/MMARGE.pl', 'denovo_motifs',\n",
    "                    peakfile, 'mm10', peakfile.replace('.txt', '_motifs'),\n",
    "                    '-bg', all_peaks, '-size 200',\n",
    "                    '-len 8,10,12,14,16', '-fg_strain', strain_dict[strain],\n",
    "                    '-bg_strain', strain_dict[strain], '-p 8\\n\\n']\n",
    "        f.write(' '.join(call))"
   ]
  },
  {
   "cell_type": "code",
   "execution_count": null,
   "metadata": {},
   "outputs": [],
   "source": []
  }
 ],
 "metadata": {
  "kernelspec": {
   "display_name": "dataviz",
   "language": "python",
   "name": "dataviz"
  },
  "language_info": {
   "codemirror_mode": {
    "name": "ipython",
    "version": 3
   },
   "file_extension": ".py",
   "mimetype": "text/x-python",
   "name": "python",
   "nbconvert_exporter": "python",
   "pygments_lexer": "ipython3",
   "version": "3.7.5"
  }
 },
 "nbformat": 4,
 "nbformat_minor": 2
}
