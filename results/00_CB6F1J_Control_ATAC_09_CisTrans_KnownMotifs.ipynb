{
 "cells": [
  {
   "cell_type": "code",
   "execution_count": 1,
   "id": "african-belize",
   "metadata": {},
   "outputs": [],
   "source": [
    "### header ###\n",
    "__author__ = \"Hunter Bennett\"\n",
    "__license__ = \"BSD\"\n",
    "__email__ = \"hunter.r.bennett@gmail.com\"\n",
    "%load_ext autoreload\n",
    "%autoreload 2\n",
    "### imports ###\n",
    "import sys\n",
    "%matplotlib inline\n",
    "import os\n",
    "import re\n",
    "import glob\n",
    "import pandas as pd\n",
    "import numpy as np\n",
    "import matplotlib\n",
    "import matplotlib.pyplot as plt \n",
    "import seaborn as sns\n",
    "\n",
    "# import custom functions\n",
    "import sys\n",
    "sys.path.insert(0, '/home/h1bennet/code/')\n",
    "from hbUtils import ngs_qc, quantile_normalize_df\n",
    "from plotting_scripts import label_point, pca_rpkm_mat, get_diff_volcano\n",
    "from homer_preprocessing import read_annotated_peaks, import_homer_diffpeak, pull_comparisons_get_diff"
   ]
  },
  {
   "cell_type": "code",
   "execution_count": 13,
   "id": "reverse-vision",
   "metadata": {},
   "outputs": [],
   "source": [
    "#### PLOTTING PARAMETERS FOR MANUSCRIPT ####\n",
    "# # get matplotlib to save readable fonts\n",
    "matplotlib.rcParams['pdf.fonttype'] = 42\n",
    "matplotlib.rcParams['ps.fonttype'] = 42\n",
    "matplotlib.rcParams['font.size'] = 6\n",
    "matplotlib.rcParams['savefig.dpi'] = 500\n",
    "\n",
    "# line widths\n",
    "matplotlib.rcParams['axes.linewidth'] = 1\n",
    "matplotlib.rcParams['xtick.major.width'] = 1\n",
    "matplotlib.rcParams['ytick.major.width'] = 1\n",
    "\n",
    "# adjust defualt color for plots to black\n",
    "# normal default is a dark gray\n",
    "COLOR = 'black'\n",
    "matplotlib.rcParams['text.color'] = COLOR\n",
    "matplotlib.rcParams['axes.labelcolor'] = COLOR\n",
    "matplotlib.rcParams['xtick.color'] = COLOR\n",
    "matplotlib.rcParams['ytick.color'] = COLOR\n",
    "matplotlib.rcParams['axes.edgecolor'] = COLOR\n",
    "\n",
    "#### PLOT PARAMETERS FOR THIS PLOT ####"
   ]
  },
  {
   "cell_type": "code",
   "execution_count": 14,
   "id": "noticed-stopping",
   "metadata": {},
   "outputs": [],
   "source": [
    "# dataDirectory = '/home/h1bennet/strains/data/ATAC/control_cohort2/'\n",
    "workingDirectory = '/home/h1bennet/strains_f1/results/00_CB6F1_Control_ATAC/'\n",
    "if not os.path.isdir(workingDirectory):\n",
    "    os.mkdir(workingDirectory)\n",
    "os.chdir(workingDirectory)"
   ]
  },
  {
   "cell_type": "code",
   "execution_count": 15,
   "id": "incredible-basin",
   "metadata": {},
   "outputs": [],
   "source": [
    "if not os.path.isdir('./motif_enrichment_heatmaps/'):\n",
    "    os.mkdir('./motif_enrichment_heatmaps/')"
   ]
  },
  {
   "cell_type": "code",
   "execution_count": 16,
   "id": "vocational-toner",
   "metadata": {},
   "outputs": [],
   "source": [
    "known_motif_pval_dict = {}\n",
    "for f in np.sort(glob.glob('./motif_calling/*/knownResults.txt')):\n",
    "    # read in signifance values using pandas\n",
    "    frame = pd.read_csv(f, sep='\\t', index_col=0)\n",
    "    \n",
    "    # remove duplicates\n",
    "    frame = frame[~frame.index.duplicated(keep='first')]\n",
    "    pval = frame.iloc[:, 2]\n",
    "    \n",
    "    # extract name of sample\n",
    "    sample = f.split('/')[-2]\n",
    "    \n",
    "    # store in dict\n",
    "    known_motif_pval_dict[sample] = pval    \n",
    "    \n",
    "# create data frame\n",
    "known_motif_pval_frame = pd.DataFrame(known_motif_pval_dict)\n",
    "\n",
    "# sort by average p value\n",
    "known_motif_pval_frame = known_motif_pval_frame.reindex(known_motif_pval_frame.mean(axis=1).sort_values().index.tolist())\n",
    "\n",
    "known_motif_pval_frame.to_csv('./homer_known_motifs_all.txt', sep='\\t')"
   ]
  },
  {
   "cell_type": "markdown",
   "id": "established-outside",
   "metadata": {},
   "source": [
    "# Explore data a bit - this is a much easier way to compare results of known motif analysis"
   ]
  },
  {
   "cell_type": "code",
   "execution_count": 17,
   "id": "studied-brooks",
   "metadata": {},
   "outputs": [
    {
     "data": {
      "text/plain": [
       "<matplotlib.axes._subplots.AxesSubplot at 0x7f29631cbed0>"
      ]
     },
     "execution_count": 17,
     "metadata": {},
     "output_type": "execute_result"
    },
    {
     "data": {
      "image/png": "[encoded data removed]",
      "text/plain": [
       "<Figure size 216x360 with 2 Axes>"
      ]
     },
     "metadata": {
      "needs_background": "light"
     },
     "output_type": "display_data"
    }
   ],
   "source": [
    "top_n = 5\n",
    "\n",
    "\n",
    "# filter data\n",
    "df = known_motif_pval_frame.loc[:, known_motif_pval_frame.columns.str.contains('hunterFCThenPadj')]\n",
    "# df = df.loc[:, ~df.columns.str.contains('distal')]\n",
    "df = df.loc[:, df.columns.str.contains('trans')]\n",
    "\n",
    "# select top motifs\n",
    "motifs = []\n",
    "for col in df.columns:\n",
    "    motifs.extend(df.sort_values(col, ascending=True).index.tolist()[:top_n])\n",
    "    \n",
    "fig, ax = plt.subplots(figsize=(3,5))\n",
    "\n",
    "tmp_df = -df.loc[motifs]\n",
    "tmp_df.index = tmp_df.index.str.split('/').str[0]\n",
    "\n",
    "sns.heatmap(tmp_df,\n",
    "            cmap='Reds',\n",
    "            linewidth=1,\n",
    "            linecolor='k',\n",
    "            # vmax=25,\n",
    "            annot=True,\n",
    "            fmt='.1f',\n",
    "            xticklabels=0,\n",
    "            cbar_kws={'orientation':'horizontal',\n",
    "                      'pad':0.05})\n",
    "    "
   ]
  },
  {
   "cell_type": "code",
   "execution_count": 21,
   "id": "naughty-belfast",
   "metadata": {},
   "outputs": [
    {
     "data": {
      "image/png": "[encoded data removed]",
      "text/plain": [
       "<Figure size 54x144 with 2 Axes>"
      ]
     },
     "metadata": {
      "needs_background": "light"
     },
     "output_type": "display_data"
    }
   ],
   "source": [
    "# top_n = 6\n",
    "\n",
    "\n",
    "# filter data\n",
    "df = known_motif_pval_frame.loc[:, known_motif_pval_frame.columns.str.contains('hunterFCThenPadj')]\n",
    "df = df.loc[:, df.columns.str.contains('distal')]\n",
    "df = df.loc[:, df.columns.str.contains('mixed')]\n",
    "\n",
    "# select top motifs\n",
    "motifs = []\n",
    "for col in df.columns:\n",
    "    motifs.extend(df.sort_values(col, ascending=True).index.tolist()[:top_n])\n",
    "    \n",
    "fig, ax = plt.subplots(figsize=(0.75,2))\n",
    "\n",
    "tmp_df = -df.loc[motifs]\n",
    "tmp_df.index = tmp_df.index.str.split('/').str[0]\n",
    "\n",
    "sns.heatmap(tmp_df,\n",
    "            cmap='Reds',\n",
    "            linewidth=1,\n",
    "            linecolor='k',\n",
    "            # vmax=25,\n",
    "            annot=False,\n",
    "            fmt='.1f',\n",
    "            xticklabels=0,\n",
    "            cbar_kws={'orientation':'horizontal',\n",
    "                      'pad':0.05})\n",
    "\n",
    "plt.savefig('./figures/atac_mixed_distal_enrichment.pdf',\n",
    "            bbox_inches='tight')"
   ]
  },
  {
   "cell_type": "code",
   "execution_count": 31,
   "id": "enhanced-composer",
   "metadata": {},
   "outputs": [
    {
     "data": {
      "text/plain": [
       "Index(['atac_mixed_balb_hunterFCThenPadj_distal_motifs', 'atac_mixed_c57_hunterFCThenPadj_distal_motifs'], dtype='object')"
      ]
     },
     "execution_count": 31,
     "metadata": {},
     "output_type": "execute_result"
    }
   ],
   "source": [
    "df.columns"
   ]
  },
  {
   "cell_type": "code",
   "execution_count": 33,
   "id": "white-mitchell",
   "metadata": {},
   "outputs": [
    {
     "data": {
      "text/plain": [
       "31"
      ]
     },
     "execution_count": 33,
     "metadata": {},
     "output_type": "execute_result"
    }
   ],
   "source": [
    "((df)<np.log(0.05)).any(1).sum()"
   ]
  },
  {
   "cell_type": "code",
   "execution_count": 32,
   "id": "signal-evaluation",
   "metadata": {},
   "outputs": [
    {
     "name": "stderr",
     "output_type": "stream",
     "text": [
      "/gpfs/data01/glasslab/home/h1bennet/.conda/envs/dataviz/lib/python3.7/site-packages/ipykernel_launcher.py:13: FutureWarning: \n",
      "Passing list-likes to .loc or [] with any missing label will raise\n",
      "KeyError in the future, you can use .reindex() as an alternative.\n",
      "\n",
      "See the documentation here:\n",
      "https://pandas.pydata.org/pandas-docs/stable/user_guide/indexing.html#deprecate-loc-reindex-listlike\n",
      "  del sys.path[0]\n"
     ]
    },
    {
     "data": {
      "image/png": "[encoded data removed]",
      "text/plain": [
       "<Figure size 54x144 with 2 Axes>"
      ]
     },
     "metadata": {
      "needs_background": "light"
     },
     "output_type": "display_data"
    }
   ],
   "source": [
    "# top_n = 6\n",
    "\n",
    "\n",
    "# filter data\n",
    "df = known_motif_pval_frame.loc[:, known_motif_pval_frame.columns.str.contains('hunterFCThenPadj')]\n",
    "df = df.loc[:, ~ df.columns.str.contains('distal')]\n",
    "df = df.loc[:, df.columns.str.contains('mixed')]\n",
    "# only significant\n",
    "df = df.loc[((df)<np.log(0.05)).any(1), :]\n",
    "\n",
    "fig, ax = plt.subplots(figsize=(0.75,2))\n",
    "\n",
    "tmp_df = -df.loc[motifs]\n",
    "tmp_df.index = tmp_df.index.str.split('/').str[0]\n",
    "\n",
    "sns.heatmap(tmp_df,\n",
    "            cmap='Reds',\n",
    "            linewidth=1,\n",
    "            linecolor='k',\n",
    "            # vmax=25,\n",
    "            annot=False,\n",
    "            fmt='.1f',\n",
    "            xticklabels=0,\n",
    "            cbar_kws={'orientation':'horizontal',\n",
    "                      'pad':0.05})\n",
    "\n",
    "plt.savefig('./figures/atac_mixed_distal_enrichment_sig_only.pdf',\n",
    "            bbox_inches='tight')"
   ]
  },
  {
   "cell_type": "code",
   "execution_count": 19,
   "id": "former-advocate",
   "metadata": {},
   "outputs": [
    {
     "data": {
      "text/plain": [
       "<matplotlib.axes._subplots.AxesSubplot at 0x7f2961efe1d0>"
      ]
     },
     "execution_count": 19,
     "metadata": {},
     "output_type": "execute_result"
    },
    {
     "data": {
      "image/png": "[encoded data removed]",
      "text/plain": [
       "<Figure size 216x360 with 2 Axes>"
      ]
     },
     "metadata": {
      "needs_background": "light"
     },
     "output_type": "display_data"
    }
   ],
   "source": [
    "top_n = 5\n",
    "\n",
    "\n",
    "# filter data\n",
    "df = known_motif_pval_frame.loc[:, known_motif_pval_frame.columns.str.contains('hunterFCThenPadj')]\n",
    "df = df.loc[:, ~df.columns.str.contains('distal')]\n",
    "df = df.loc[:, df.columns.str.contains('cis')]\n",
    "\n",
    "# select top motifs\n",
    "motifs = []\n",
    "for col in df.columns:\n",
    "    motifs.extend(df.sort_values(col, ascending=True).index.tolist()[:top_n])\n",
    "    \n",
    "fig, ax = plt.subplots(figsize=(3,5))\n",
    "\n",
    "tmp_df = -df.loc[motifs]\n",
    "tmp_df.index = tmp_df.index.str.split('/').str[0]\n",
    "\n",
    "sns.heatmap(tmp_df,\n",
    "            cmap='Reds',\n",
    "            linewidth=1,\n",
    "            linecolor='k',\n",
    "            # vmax=25,\n",
    "            annot=True,\n",
    "            fmt='.1f',\n",
    "            xticklabels=0,\n",
    "            cbar_kws={'orientation':'horizontal',\n",
    "                      'pad':0.05})"
   ]
  },
  {
   "cell_type": "markdown",
   "id": "upset-andrews",
   "metadata": {},
   "source": [
    "It seems like mixed motifs for balbcj correlate decently well with trans motifs for c57..."
   ]
  },
  {
   "cell_type": "code",
   "execution_count": 9,
   "id": "following-navigator",
   "metadata": {},
   "outputs": [
    {
     "data": {
      "text/plain": [
       "Index(['atac_cis_balb_hunterFCThenPadj_motifs',\n",
       "       'atac_cis_c57_hunterFCThenPadj_motifs',\n",
       "       'atac_mixed_balb_hunterFCThenPadj_motifs',\n",
       "       'atac_mixed_c57_hunterFCThenPadj_motifs',\n",
       "       'atac_trans_balb_hunterFCThenPadj_motifs',\n",
       "       'atac_trans_c57_hunterFCThenPadj_motifs'],\n",
       "      dtype='object')"
      ]
     },
     "execution_count": 9,
     "metadata": {},
     "output_type": "execute_result"
    }
   ],
   "source": [
    "df = known_motif_pval_frame.loc[:, known_motif_pval_frame.columns.str.contains('hunterFCThenPadj')]\n",
    "df = df.loc[:, ~df.columns.str.contains('distal')]\n",
    "df.columns"
   ]
  },
  {
   "cell_type": "code",
   "execution_count": 10,
   "id": "attended-applicant",
   "metadata": {
    "scrolled": true
   },
   "outputs": [
    {
     "data": {
      "text/plain": [
       "Index(['atac_cis_balb_hunterFCThenPadj_motifs',\n",
       "       'atac_cis_c57_hunterFCThenPadj_motifs',\n",
       "       'atac_mixed_balb_hunterFCThenPadj_motifs',\n",
       "       'atac_mixed_c57_hunterFCThenPadj_motifs',\n",
       "       'atac_trans_balb_hunterFCThenPadj_motifs',\n",
       "       'atac_trans_c57_hunterFCThenPadj_motifs'],\n",
       "      dtype='object')"
      ]
     },
     "execution_count": 10,
     "metadata": {},
     "output_type": "execute_result"
    }
   ],
   "source": [
    "df.columns"
   ]
  },
  {
   "cell_type": "code",
   "execution_count": 11,
   "id": "coral-basement",
   "metadata": {},
   "outputs": [],
   "source": [
    "# cluster targets\n",
    "import scipy\n",
    "import scipy.cluster.hierarchy as sch\n",
    "import scipy.spatial.distance as dist"
   ]
  },
  {
   "cell_type": "code",
   "execution_count": 13,
   "id": "declared-civilian",
   "metadata": {},
   "outputs": [
    {
     "name": "stderr",
     "output_type": "stream",
     "text": [
      "/gpfs/data01/glasslab/home/h1bennet/.conda/envs/dataviz/lib/python3.7/site-packages/ipykernel_launcher.py:24: ClusterWarning: scipy.cluster: The symmetric non-negative hollow observation matrix looks suspiciously like an uncondensed distance matrix\n"
     ]
    },
    {
     "data": {
      "text/plain": [
       "<matplotlib.axes._subplots.AxesSubplot at 0x7ff1b4d74890>"
      ]
     },
     "execution_count": 13,
     "metadata": {},
     "output_type": "execute_result"
    },
    {
     "data": {
      "image/png": "[encoded data removed]",
      "text/plain": [
       "<Figure size 216x360 with 2 Axes>"
      ]
     },
     "metadata": {
      "needs_background": "light"
     },
     "output_type": "display_data"
    }
   ],
   "source": [
    "top_n = 5\n",
    "\n",
    "\n",
    "# filter data\n",
    "# df = known_motif_pval_frame.loc[:, known_motif_pval_frame.columns.str.contains('hunterFCThenPadj')]\n",
    "# df = df.loc[:, ~df.columns.str.contains('distal')]\n",
    "# df = df.loc[:, df.columns.str.contains('trans|mixed')]\n",
    "df = known_motif_pval_frame.loc[:, ['atac_trans_c57_hunterFCThenPadj_motifs',\n",
    "                                    'atac_mixed_balb_hunterFCThenPadj_motifs',\n",
    "                                    'atac_cis_balb_hunterFCThenPadj_motifs']]\n",
    "\n",
    "# select top motifs\n",
    "motifs = []\n",
    "for col in df.columns:\n",
    "    motifs.extend(df.sort_values(col, ascending=True).index.tolist()[:top_n])\n",
    "    \n",
    "fig, ax = plt.subplots(figsize=(3,5))\n",
    "\n",
    "tmp_df = -df.loc[motifs]\n",
    "tmp_df.index = tmp_df.index.str.split('/').str[0]\n",
    "\n",
    "d2 = dist.pdist(tmp_df.T)\n",
    "D2 = dist.squareform(d2)\n",
    "Y2 = sch.linkage(D2, method='average', metric='euclidean') ### array-clustering metric - 'average', 'single', 'centroid', 'complete'\n",
    "Z2 = sch.dendrogram(Y2, no_plot=True)\n",
    "\n",
    "sns.heatmap(tmp_df.iloc[:, Z2['leaves']],\n",
    "            cmap='Reds',\n",
    "            linewidth=1,\n",
    "            linecolor='k',\n",
    "            # vmax=25,\n",
    "            annot=True,\n",
    "            fmt='.1f',\n",
    "            xticklabels=0,\n",
    "            cbar_kws={'orientation':'horizontal',\n",
    "                      'pad':0.05})"
   ]
  },
  {
   "cell_type": "code",
   "execution_count": 14,
   "id": "corporate-effect",
   "metadata": {},
   "outputs": [
    {
     "name": "stderr",
     "output_type": "stream",
     "text": [
      "/gpfs/data01/glasslab/home/h1bennet/.conda/envs/dataviz/lib/python3.7/site-packages/ipykernel_launcher.py:24: ClusterWarning: scipy.cluster: The symmetric non-negative hollow observation matrix looks suspiciously like an uncondensed distance matrix\n"
     ]
    },
    {
     "data": {
      "text/plain": [
       "<matplotlib.axes._subplots.AxesSubplot at 0x7ff1b4c1c950>"
      ]
     },
     "execution_count": 14,
     "metadata": {},
     "output_type": "execute_result"
    },
    {
     "data": {
      "image/png": "[encoded data removed]",
      "text/plain": [
       "<Figure size 216x360 with 2 Axes>"
      ]
     },
     "metadata": {
      "needs_background": "light"
     },
     "output_type": "display_data"
    }
   ],
   "source": [
    "top_n = 5\n",
    "\n",
    "\n",
    "# filter data\n",
    "# df = known_motif_pval_frame.loc[:, known_motif_pval_frame.columns.str.contains('hunterFCThenPadj')]\n",
    "# df = df.loc[:, ~df.columns.str.contains('distal')]\n",
    "# df = df.loc[:, df.columns.str.contains('trans|mixed')]\n",
    "df = known_motif_pval_frame.loc[:, ['atac_trans_balb_hunterFCThenPadj_motifs',\n",
    "                                    'atac_mixed_c57_hunterFCThenPadj_motifs',\n",
    "                                    'atac_cis_c57_hunterFCThenPadj_motifs']]\n",
    "\n",
    "# select top motifs\n",
    "motifs = []\n",
    "for col in df.columns:\n",
    "    motifs.extend(df.sort_values(col, ascending=True).index.tolist()[:top_n])\n",
    "    \n",
    "fig, ax = plt.subplots(figsize=(3,5))\n",
    "\n",
    "tmp_df = -df.loc[motifs]\n",
    "tmp_df.index = tmp_df.index.str.split('/').str[0]\n",
    "\n",
    "d2 = dist.pdist(tmp_df.T)\n",
    "D2 = dist.squareform(d2)\n",
    "Y2 = sch.linkage(D2, method='average', metric='euclidean') ### array-clustering metric - 'average', 'single', 'centroid', 'complete'\n",
    "Z2 = sch.dendrogram(Y2, no_plot=True)\n",
    "\n",
    "sns.heatmap(tmp_df.iloc[:, Z2['leaves']],\n",
    "            cmap='Reds',\n",
    "            linewidth=1,\n",
    "            linecolor='k',\n",
    "            # vmax=25,\n",
    "            annot=True,\n",
    "            fmt='.1f',\n",
    "            xticklabels=0,\n",
    "            cbar_kws={'orientation':'horizontal',\n",
    "                      'pad':0.05})"
   ]
  },
  {
   "cell_type": "code",
   "execution_count": 46,
   "id": "rocky-plain",
   "metadata": {},
   "outputs": [],
   "source": [
    "from scipy.stats import spearmanr"
   ]
  },
  {
   "cell_type": "code",
   "execution_count": 47,
   "id": "sonic-consortium",
   "metadata": {},
   "outputs": [
    {
     "data": {
      "text/plain": [
       "SpearmanrResult(correlation=-0.06178048180476145, pvalue=0.2031585831883146)"
      ]
     },
     "execution_count": 47,
     "metadata": {},
     "output_type": "execute_result"
    }
   ],
   "source": [
    "spearmanr(-known_motif_pval_frame.loc[:, 'atac_%s_balb_hunterFCThenPadj_motifs' % settype],\n",
    "                           -known_motif_pval_frame.loc[:, 'atac_%s_c57_hunterFCThenPadj_motifs'% settype])"
   ]
  },
  {
   "cell_type": "code",
   "execution_count": 60,
   "id": "whole-stocks",
   "metadata": {},
   "outputs": [
    {
     "data": {
      "text/plain": [
       "Text(0.5, 0, 'BALB/cJ')"
      ]
     },
     "execution_count": 60,
     "metadata": {},
     "output_type": "execute_result"
    },
    {
     "data": {
      "image/png": "[encoded data removed]",
      "text/plain": [
       "<Figure size 72x288 with 3 Axes>"
      ]
     },
     "metadata": {
      "needs_background": "light"
     },
     "output_type": "display_data"
    }
   ],
   "source": [
    "\n",
    "fig, axs = plt.subplots(3, 1, figsize=(1,4),\n",
    "                        sharex=True,\n",
    "                        sharey=True)\n",
    "plt.subplots_adjust(hspace=0.33)\n",
    "\n",
    "for settype, ax in zip(['cis', 'mixed', 'trans'], axs):\n",
    "\n",
    "    ax.scatter(-known_motif_pval_frame.loc[:, 'atac_%s_balb_hunterFCThenPadj_motifs' % settype],\n",
    "                   -known_motif_pval_frame.loc[:, 'atac_%s_c57_hunterFCThenPadj_motifs'% settype],\n",
    "                   s=1,\n",
    "                   c='#636363')\n",
    "    \n",
    "    corr = spearmanr(-known_motif_pval_frame.loc[:, 'atac_%s_balb_hunterFCThenPadj_motifs' % settype],\n",
    "                            -known_motif_pval_frame.loc[:, 'atac_%s_c57_hunterFCThenPadj_motifs'% settype])\n",
    "    \n",
    "    ax.text(5.5, 5.5, 'Rho:\\n%.2f' % corr.correlation)\n",
    "    \n",
    "    ax.set_ylabel('C57BL/6J')\n",
    "    ax.set_title(settype)\n",
    "\n",
    "# axs[0].set_xticks([])\n",
    "# axs[1].set_xticks([])\n",
    "axs[2].set_xlabel('BALB/cJ')\n"
   ]
  },
  {
   "cell_type": "code",
   "execution_count": 35,
   "id": "available-congo",
   "metadata": {},
   "outputs": [
    {
     "data": {
      "text/plain": [
       "-0.06178048180476145"
      ]
     },
     "execution_count": 35,
     "metadata": {},
     "output_type": "execute_result"
    }
   ],
   "source": [
    "(-known_motif_pval_frame).corr(method='spearman').loc['atac_trans_balb_hunterFCThenPadj_motifs',\n",
    "                 'atac_trans_c57_hunterFCThenPadj_motifs']"
   ]
  },
  {
   "cell_type": "code",
   "execution_count": 36,
   "id": "defensive-generic",
   "metadata": {},
   "outputs": [
    {
     "data": {
      "text/plain": [
       "0.17459625134750764"
      ]
     },
     "execution_count": 36,
     "metadata": {},
     "output_type": "execute_result"
    }
   ],
   "source": [
    "(-known_motif_pval_frame).corr(method='spearman').loc['atac_mixed_balb_hunterFCThenPadj_motifs',\n",
    "                 'atac_mixed_c57_hunterFCThenPadj_motifs']"
   ]
  },
  {
   "cell_type": "code",
   "execution_count": 37,
   "id": "allied-liberal",
   "metadata": {},
   "outputs": [
    {
     "data": {
      "text/plain": [
       "0.3426876742953986"
      ]
     },
     "execution_count": 37,
     "metadata": {},
     "output_type": "execute_result"
    }
   ],
   "source": [
    "(-known_motif_pval_frame).corr(method='spearman').loc['atac_cis_balb_hunterFCThenPadj_motifs',\n",
    "                 'atac_cis_c57_hunterFCThenPadj_motifs']"
   ]
  },
  {
   "cell_type": "code",
   "execution_count": null,
   "id": "hairy-phase",
   "metadata": {},
   "outputs": [],
   "source": []
  }
 ],
 "metadata": {
  "kernelspec": {
   "display_name": "dataviz",
   "language": "python",
   "name": "dataviz"
  },
  "language_info": {
   "codemirror_mode": {
    "name": "ipython",
    "version": 3
   },
   "file_extension": ".py",
   "mimetype": "text/x-python",
   "name": "python",
   "nbconvert_exporter": "python",
   "pygments_lexer": "ipython3",
   "version": "3.7.5"
  }
 },
 "nbformat": 4,
 "nbformat_minor": 5
}
