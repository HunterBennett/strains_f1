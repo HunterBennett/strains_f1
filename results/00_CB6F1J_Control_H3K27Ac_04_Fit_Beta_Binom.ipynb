{
 "cells": [
  {
   "cell_type": "markdown",
   "metadata": {},
   "source": [
    "Hunter Bennett | Glass Lab | Kupffer Strains Project | 04 June 2021"
   ]
  },
  {
   "cell_type": "code",
   "execution_count": 1,
   "metadata": {},
   "outputs": [],
   "source": [
    "### header ###\n",
    "__author__ = \"Hunter Bennett\"\n",
    "__license__ = \"BSD\"\n",
    "__email__ = \"hunter.r.bennett@gmail.com\"\n",
    "%load_ext autoreload\n",
    "%autoreload 2\n",
    "### imports ###\n",
    "import sys\n",
    "%matplotlib inline\n",
    "import os\n",
    "import re\n",
    "import glob\n",
    "import pandas as pd\n",
    "import numpy as np\n",
    "import matplotlib\n",
    "import matplotlib.pyplot as plt \n",
    "import matplotlib_venn as venn\n",
    "import seaborn as sns\n",
    "from scipy.stats import betabinom, beta, binom\n",
    "from scipy.optimize import fmin\n",
    "\n",
    "matplotlib.rcParams['savefig.dpi'] = 200\n",
    "sns.set(font_scale=1)\n",
    "sns.set_context('talk')\n",
    "sns.set_style('white')\n",
    "\n",
    "# import custom functions\n",
    "import sys\n",
    "sys.path.insert(0, '/home/h1bennet/code/')\n",
    "from hbUtils import ngs_qc, quantile_normalize_df\n",
    "from plotting_scripts import label_point, pca_rpkm_mat\n",
    "from homer_preprocessing import read_annotated_peaks"
   ]
  },
  {
   "cell_type": "markdown",
   "metadata": {},
   "source": [
    "# Set working directory"
   ]
  },
  {
   "cell_type": "code",
   "execution_count": 2,
   "metadata": {},
   "outputs": [],
   "source": [
    "dataDirectory = '/home/h1bennet/strains/data/H3K27Ac/control_f1/'\n",
    "workingDirectory = '/home/h1bennet/strains_f1/results/00_CB6F1_Control/'\n",
    "if not os.path.isdir(workingDirectory):\n",
    "    os.mkdir(workingDirectory)\n",
    "os.chdir(workingDirectory)\n"
   ]
  },
  {
   "cell_type": "markdown",
   "metadata": {},
   "source": [
    "# Read in ASBs"
   ]
  },
  {
   "cell_type": "code",
   "execution_count": 5,
   "metadata": {},
   "outputs": [],
   "source": [
    "df = pd.read_csv('./peaks_with_asb_min_tag_filter.txt',\n",
    "                 sep='\\t',\n",
    "                 index_col=0)"
   ]
  },
  {
   "cell_type": "code",
   "execution_count": 6,
   "metadata": {},
   "outputs": [],
   "source": [
    "asbs = df.loc[:, 'allelic_bias_only_muts_mean_second'].tolist()"
   ]
  },
  {
   "cell_type": "markdown",
   "metadata": {},
   "source": [
    "Need to fiddle with data slightly to fit to the beta distribution, in this case we will slightly move our 1 and 0 values towards 0.5"
   ]
  },
  {
   "cell_type": "code",
   "execution_count": 7,
   "metadata": {},
   "outputs": [],
   "source": [
    "asbs_fixed = []\n",
    "pseudocount = 0.0001\n",
    "\n",
    "for i in asbs:\n",
    "    if i == 0:\n",
    "        i = i + pseudocount\n",
    "    elif i == 1:\n",
    "        i = i - pseudocount\n",
    "    \n",
    "    asbs_fixed.append(i)"
   ]
  },
  {
   "cell_type": "markdown",
   "metadata": {},
   "source": [
    "Fit data to beta distribution"
   ]
  },
  {
   "cell_type": "code",
   "execution_count": 8,
   "metadata": {},
   "outputs": [],
   "source": [
    "a, b, floc, fscale = beta.fit(asbs_fixed, floc=0, fscale=1)"
   ]
  },
  {
   "cell_type": "markdown",
   "metadata": {},
   "source": [
    "Check quality of fit"
   ]
  },
  {
   "cell_type": "code",
   "execution_count": 11,
   "metadata": {},
   "outputs": [],
   "source": [
    "beta_prob = []\n",
    "beta_val = np.arange(0,1,0.001)\n",
    "for i in beta_val:\n",
    "    beta_prob.append(beta.pdf(i, a, b, floc, fscale))"
   ]
  },
  {
   "cell_type": "markdown",
   "metadata": {},
   "source": [
    "We can see that this isn't very good, it is assuming that our biases tend more closely towards 0.5"
   ]
  },
  {
   "cell_type": "code",
   "execution_count": 28,
   "metadata": {
    "scrolled": true
   },
   "outputs": [
    {
     "data": {
      "text/plain": [
       "<matplotlib.legend.Legend at 0x7f4cf63b5310>"
      ]
     },
     "execution_count": 28,
     "metadata": {},
     "output_type": "execute_result"
    },
    {
     "data": {
      "image/png": "[encoded data removed]",
      "text/plain": [
       "<Figure size 288x288 with 1 Axes>"
      ]
     },
     "metadata": {},
     "output_type": "display_data"
    }
   ],
   "source": [
    "fig, ax = plt.subplots(figsize=(4,4))\n",
    "\n",
    "ax.plot(beta_val, beta_prob,\n",
    "        label='Fitted Beta Distribution')\n",
    "ax.hist(asbs_fixed,\n",
    "        bins=30,\n",
    "        density=1,\n",
    "        label='Allele Specific Bias');\n",
    "\n",
    "ax.legend(fontsize=8,\n",
    "          loc='upper left')"
   ]
  },
  {
   "cell_type": "markdown",
   "metadata": {},
   "source": [
    "We can then try to use the beta distribution to estimate the likelihood of a given count observation."
   ]
  },
  {
   "cell_type": "code",
   "execution_count": 15,
   "metadata": {},
   "outputs": [
    {
     "data": {
      "text/plain": [
       "0.30221757248592485"
      ]
     },
     "execution_count": 15,
     "metadata": {},
     "output_type": "execute_result"
    }
   ],
   "source": [
    "beta.sf(0.602311, a, b, loc=0, scale=1)"
   ]
  },
  {
   "cell_type": "code",
   "execution_count": 18,
   "metadata": {},
   "outputs": [
    {
     "data": {
      "text/plain": [
       "0.31129760113205773"
      ]
     },
     "execution_count": 18,
     "metadata": {},
     "output_type": "execute_result"
    }
   ],
   "source": [
    "beta.cdf(0.5-(0.602311-0.5), a, b, loc=0, scale=1)"
   ]
  },
  {
   "cell_type": "code",
   "execution_count": 21,
   "metadata": {},
   "outputs": [
    {
     "data": {
      "text/plain": [
       "8.881784197001252e-16"
      ]
     },
     "execution_count": 21,
     "metadata": {},
     "output_type": "execute_result"
    }
   ],
   "source": [
    "beta.sf(0.99999, a, b, loc=0, scale=1)"
   ]
  },
  {
   "cell_type": "code",
   "execution_count": 23,
   "metadata": {},
   "outputs": [
    {
     "data": {
      "text/plain": [
       "1.9829562920684835e-12"
      ]
     },
     "execution_count": 23,
     "metadata": {},
     "output_type": "execute_result"
    }
   ],
   "source": [
    "beta.cdf(0.0001, a, b, loc=0, scale=1)"
   ]
  },
  {
   "cell_type": "markdown",
   "metadata": {},
   "source": [
    "# Binomial distribution\n",
    "I think i was getting this wrong when i first thought about it, this should be modeled for each gene as the likelihood of observing the proportion of reads given the total reads."
   ]
  },
  {
   "cell_type": "code",
   "execution_count": 24,
   "metadata": {},
   "outputs": [
    {
     "data": {
      "text/html": [
       "<div>\n",
       "<style scoped>\n",
       "    .dataframe tbody tr th:only-of-type {\n",
       "        vertical-align: middle;\n",
       "    }\n",
       "\n",
       "    .dataframe tbody tr th {\n",
       "        vertical-align: top;\n",
       "    }\n",
       "\n",
       "    .dataframe thead th {\n",
       "        text-align: right;\n",
       "    }\n",
       "</style>\n",
       "<table border=\"1\" class=\"dataframe\">\n",
       "  <thead>\n",
       "    <tr style=\"text-align: right;\">\n",
       "      <th></th>\n",
       "      <th>Chr</th>\n",
       "      <th>Start</th>\n",
       "      <th>End</th>\n",
       "      <th>Strand</th>\n",
       "      <th>Peak Score</th>\n",
       "      <th>allelic_bias_only_muts</th>\n",
       "      <th>allelic_bias_only_muts_mean_second</th>\n",
       "      <th>abs_asb_diff</th>\n",
       "      <th>location</th>\n",
       "    </tr>\n",
       "    <tr>\n",
       "      <th>PeakID</th>\n",
       "      <th></th>\n",
       "      <th></th>\n",
       "      <th></th>\n",
       "      <th></th>\n",
       "      <th></th>\n",
       "      <th></th>\n",
       "      <th></th>\n",
       "      <th></th>\n",
       "      <th></th>\n",
       "    </tr>\n",
       "  </thead>\n",
       "  <tbody>\n",
       "    <tr>\n",
       "      <th>Merged-chr15-65787139-4</th>\n",
       "      <td>chr15</td>\n",
       "      <td>65786655</td>\n",
       "      <td>65787655</td>\n",
       "      <td>+</td>\n",
       "      <td>1000.000000</td>\n",
       "      <td>0.600762</td>\n",
       "      <td>0.602311</td>\n",
       "      <td>0.001549</td>\n",
       "      <td>chr15:65786655-65787655</td>\n",
       "    </tr>\n",
       "    <tr>\n",
       "      <th>Merged-chr4-88436803-4</th>\n",
       "      <td>chr4</td>\n",
       "      <td>88436255</td>\n",
       "      <td>88437255</td>\n",
       "      <td>+</td>\n",
       "      <td>908.416687</td>\n",
       "      <td>0.427912</td>\n",
       "      <td>0.378938</td>\n",
       "      <td>0.048974</td>\n",
       "      <td>chr4:88436255-88437255</td>\n",
       "    </tr>\n",
       "    <tr>\n",
       "      <th>Merged-chr11-76495459-4</th>\n",
       "      <td>chr11</td>\n",
       "      <td>76494917</td>\n",
       "      <td>76495917</td>\n",
       "      <td>+</td>\n",
       "      <td>938.187500</td>\n",
       "      <td>0.504159</td>\n",
       "      <td>0.499411</td>\n",
       "      <td>0.004748</td>\n",
       "      <td>chr11:76494917-76495917</td>\n",
       "    </tr>\n",
       "    <tr>\n",
       "      <th>Merged-chr5-145180857-2</th>\n",
       "      <td>chr5</td>\n",
       "      <td>145180360</td>\n",
       "      <td>145181360</td>\n",
       "      <td>+</td>\n",
       "      <td>857.250000</td>\n",
       "      <td>0.504238</td>\n",
       "      <td>0.293063</td>\n",
       "      <td>0.211175</td>\n",
       "      <td>chr5:145180360-145181360</td>\n",
       "    </tr>\n",
       "    <tr>\n",
       "      <th>Merged-chr9-35175922-5</th>\n",
       "      <td>chr9</td>\n",
       "      <td>35175339</td>\n",
       "      <td>35176339</td>\n",
       "      <td>+</td>\n",
       "      <td>966.799988</td>\n",
       "      <td>0.465430</td>\n",
       "      <td>0.447460</td>\n",
       "      <td>0.017971</td>\n",
       "      <td>chr9:35175339-35176339</td>\n",
       "    </tr>\n",
       "    <tr>\n",
       "      <th>...</th>\n",
       "      <td>...</td>\n",
       "      <td>...</td>\n",
       "      <td>...</td>\n",
       "      <td>...</td>\n",
       "      <td>...</td>\n",
       "      <td>...</td>\n",
       "      <td>...</td>\n",
       "      <td>...</td>\n",
       "      <td>...</td>\n",
       "    </tr>\n",
       "    <tr>\n",
       "      <th>Merged-chr15-58140968-1</th>\n",
       "      <td>chr15</td>\n",
       "      <td>58140468</td>\n",
       "      <td>58141468</td>\n",
       "      <td>+</td>\n",
       "      <td>1000.000000</td>\n",
       "      <td>0.562711</td>\n",
       "      <td>0.565153</td>\n",
       "      <td>0.002442</td>\n",
       "      <td>chr15:58140468-58141468</td>\n",
       "    </tr>\n",
       "    <tr>\n",
       "      <th>Merged-chr2-159843478-4</th>\n",
       "      <td>chr2</td>\n",
       "      <td>159842967</td>\n",
       "      <td>159843967</td>\n",
       "      <td>+</td>\n",
       "      <td>929.750000</td>\n",
       "      <td>0.176525</td>\n",
       "      <td>0.176472</td>\n",
       "      <td>0.000053</td>\n",
       "      <td>chr2:159842967-159843967</td>\n",
       "    </tr>\n",
       "    <tr>\n",
       "      <th>Merged-chr5-135570083-2</th>\n",
       "      <td>chr5</td>\n",
       "      <td>135569583</td>\n",
       "      <td>135570583</td>\n",
       "      <td>+</td>\n",
       "      <td>663.000000</td>\n",
       "      <td>0.618047</td>\n",
       "      <td>0.609884</td>\n",
       "      <td>0.008163</td>\n",
       "      <td>chr5:135569583-135570583</td>\n",
       "    </tr>\n",
       "    <tr>\n",
       "      <th>Merged-chr6-83120996-2</th>\n",
       "      <td>chr6</td>\n",
       "      <td>83120496</td>\n",
       "      <td>83121496</td>\n",
       "      <td>+</td>\n",
       "      <td>696.500000</td>\n",
       "      <td>0.339469</td>\n",
       "      <td>0.316635</td>\n",
       "      <td>0.022834</td>\n",
       "      <td>chr6:83120496-83121496</td>\n",
       "    </tr>\n",
       "    <tr>\n",
       "      <th>Merged-chr15-50751201-3</th>\n",
       "      <td>chr15</td>\n",
       "      <td>50750724</td>\n",
       "      <td>50751724</td>\n",
       "      <td>+</td>\n",
       "      <td>942.555542</td>\n",
       "      <td>0.595145</td>\n",
       "      <td>0.606563</td>\n",
       "      <td>0.011417</td>\n",
       "      <td>chr15:50750724-50751724</td>\n",
       "    </tr>\n",
       "  </tbody>\n",
       "</table>\n",
       "<p>28243 rows × 9 columns</p>\n",
       "</div>"
      ],
      "text/plain": [
       "                           Chr      Start        End Strand   Peak Score  \\\n",
       "PeakID                                                                     \n",
       "Merged-chr15-65787139-4  chr15   65786655   65787655      +  1000.000000   \n",
       "Merged-chr4-88436803-4    chr4   88436255   88437255      +   908.416687   \n",
       "Merged-chr11-76495459-4  chr11   76494917   76495917      +   938.187500   \n",
       "Merged-chr5-145180857-2   chr5  145180360  145181360      +   857.250000   \n",
       "Merged-chr9-35175922-5    chr9   35175339   35176339      +   966.799988   \n",
       "...                        ...        ...        ...    ...          ...   \n",
       "Merged-chr15-58140968-1  chr15   58140468   58141468      +  1000.000000   \n",
       "Merged-chr2-159843478-4   chr2  159842967  159843967      +   929.750000   \n",
       "Merged-chr5-135570083-2   chr5  135569583  135570583      +   663.000000   \n",
       "Merged-chr6-83120996-2    chr6   83120496   83121496      +   696.500000   \n",
       "Merged-chr15-50751201-3  chr15   50750724   50751724      +   942.555542   \n",
       "\n",
       "                         allelic_bias_only_muts  \\\n",
       "PeakID                                            \n",
       "Merged-chr15-65787139-4                0.600762   \n",
       "Merged-chr4-88436803-4                 0.427912   \n",
       "Merged-chr11-76495459-4                0.504159   \n",
       "Merged-chr5-145180857-2                0.504238   \n",
       "Merged-chr9-35175922-5                 0.465430   \n",
       "...                                         ...   \n",
       "Merged-chr15-58140968-1                0.562711   \n",
       "Merged-chr2-159843478-4                0.176525   \n",
       "Merged-chr5-135570083-2                0.618047   \n",
       "Merged-chr6-83120996-2                 0.339469   \n",
       "Merged-chr15-50751201-3                0.595145   \n",
       "\n",
       "                         allelic_bias_only_muts_mean_second  abs_asb_diff  \\\n",
       "PeakID                                                                      \n",
       "Merged-chr15-65787139-4                            0.602311      0.001549   \n",
       "Merged-chr4-88436803-4                             0.378938      0.048974   \n",
       "Merged-chr11-76495459-4                            0.499411      0.004748   \n",
       "Merged-chr5-145180857-2                            0.293063      0.211175   \n",
       "Merged-chr9-35175922-5                             0.447460      0.017971   \n",
       "...                                                     ...           ...   \n",
       "Merged-chr15-58140968-1                            0.565153      0.002442   \n",
       "Merged-chr2-159843478-4                            0.176472      0.000053   \n",
       "Merged-chr5-135570083-2                            0.609884      0.008163   \n",
       "Merged-chr6-83120996-2                             0.316635      0.022834   \n",
       "Merged-chr15-50751201-3                            0.606563      0.011417   \n",
       "\n",
       "                                         location  \n",
       "PeakID                                             \n",
       "Merged-chr15-65787139-4   chr15:65786655-65787655  \n",
       "Merged-chr4-88436803-4     chr4:88436255-88437255  \n",
       "Merged-chr11-76495459-4   chr11:76494917-76495917  \n",
       "Merged-chr5-145180857-2  chr5:145180360-145181360  \n",
       "Merged-chr9-35175922-5     chr9:35175339-35176339  \n",
       "...                                           ...  \n",
       "Merged-chr15-58140968-1   chr15:58140468-58141468  \n",
       "Merged-chr2-159843478-4  chr2:159842967-159843967  \n",
       "Merged-chr5-135570083-2  chr5:135569583-135570583  \n",
       "Merged-chr6-83120996-2     chr6:83120496-83121496  \n",
       "Merged-chr15-50751201-3   chr15:50750724-50751724  \n",
       "\n",
       "[28243 rows x 9 columns]"
      ]
     },
     "execution_count": 24,
     "metadata": {},
     "output_type": "execute_result"
    }
   ],
   "source": [
    "df"
   ]
  },
  {
   "cell_type": "code",
   "execution_count": null,
   "metadata": {},
   "outputs": [],
   "source": []
  }
 ],
 "metadata": {
  "kernelspec": {
   "display_name": "dataviz",
   "language": "python",
   "name": "dataviz"
  },
  "language_info": {
   "codemirror_mode": {
    "name": "ipython",
    "version": 3
   },
   "file_extension": ".py",
   "mimetype": "text/x-python",
   "name": "python",
   "nbconvert_exporter": "python",
   "pygments_lexer": "ipython3",
   "version": "3.7.5"
  }
 },
 "nbformat": 4,
 "nbformat_minor": 2
}
