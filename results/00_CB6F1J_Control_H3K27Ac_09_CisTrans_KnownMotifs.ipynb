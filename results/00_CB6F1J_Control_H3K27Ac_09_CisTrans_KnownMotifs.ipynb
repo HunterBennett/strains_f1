{
 "cells": [
  {
   "cell_type": "markdown",
   "id": "approximate-slide",
   "metadata": {},
   "source": [
    "Hunter Bennett | Strains Project | June 16 2021"
   ]
  },
  {
   "cell_type": "code",
   "execution_count": 1,
   "id": "african-belize",
   "metadata": {},
   "outputs": [],
   "source": [
    "### header ###\n",
    "__author__ = \"Hunter Bennett\"\n",
    "__license__ = \"BSD\"\n",
    "__email__ = \"hunter.r.bennett@gmail.com\"\n",
    "%load_ext autoreload\n",
    "%autoreload 2\n",
    "### imports ###\n",
    "import sys\n",
    "%matplotlib inline\n",
    "import os\n",
    "import re\n",
    "import glob\n",
    "import pandas as pd\n",
    "import numpy as np\n",
    "import matplotlib\n",
    "import matplotlib.pyplot as plt \n",
    "import seaborn as sns\n",
    "\n",
    "# import custom functions\n",
    "import sys\n",
    "sys.path.insert(0, '/home/h1bennet/code/')\n",
    "from hbUtils import ngs_qc, quantile_normalize_df\n",
    "from plotting_scripts import label_point, pca_rpkm_mat, get_diff_volcano\n",
    "from homer_preprocessing import read_annotated_peaks, import_homer_diffpeak, pull_comparisons_get_diff"
   ]
  },
  {
   "cell_type": "code",
   "execution_count": 11,
   "id": "reverse-vision",
   "metadata": {},
   "outputs": [],
   "source": [
    "#### PLOTTING PARAMETERS FOR MANUSCRIPT ####\n",
    "# # get matplotlib to save readable fonts\n",
    "matplotlib.rcParams['pdf.fonttype'] = 42\n",
    "matplotlib.rcParams['ps.fonttype'] = 42\n",
    "matplotlib.rcParams['font.size'] = 6\n",
    "matplotlib.rcParams['savefig.dpi'] = 500\n",
    "\n",
    "# line widths\n",
    "matplotlib.rcParams['axes.linewidth'] = 1\n",
    "matplotlib.rcParams['xtick.major.width'] = 1\n",
    "matplotlib.rcParams['ytick.major.width'] = 1\n",
    "\n",
    "# adjust defualt color for plots to black\n",
    "# normal default is a dark gray\n",
    "COLOR = 'black'\n",
    "matplotlib.rcParams['text.color'] = COLOR\n",
    "matplotlib.rcParams['axes.labelcolor'] = COLOR\n",
    "matplotlib.rcParams['xtick.color'] = COLOR\n",
    "matplotlib.rcParams['ytick.color'] = COLOR\n",
    "matplotlib.rcParams['axes.edgecolor'] = COLOR\n",
    "\n",
    "#### PLOT PARAMETERS FOR THIS PLOT ####"
   ]
  },
  {
   "cell_type": "code",
   "execution_count": 12,
   "id": "noticed-stopping",
   "metadata": {},
   "outputs": [],
   "source": [
    "# dataDirectory = '/home/h1bennet/strains/data/ATAC/control_cohort2/'\n",
    "workingDirectory = '/home/h1bennet/strains_f1/results/00_CB6F1_Control//'\n",
    "if not os.path.isdir(workingDirectory):\n",
    "    os.mkdir(workingDirectory)\n",
    "os.chdir(workingDirectory)"
   ]
  },
  {
   "cell_type": "code",
   "execution_count": 13,
   "id": "incredible-basin",
   "metadata": {},
   "outputs": [],
   "source": [
    "if not os.path.isdir('./motif_enrichment_heatmaps/'):\n",
    "    os.mkdir('./motif_enrichment_heatmaps/')"
   ]
  },
  {
   "cell_type": "code",
   "execution_count": 14,
   "id": "vocational-toner",
   "metadata": {},
   "outputs": [],
   "source": [
    "known_motif_pval_dict = {}\n",
    "for f in np.sort(glob.glob('./motif_calling/*/knownResults.txt')):\n",
    "    # read in signifance values using pandas\n",
    "    frame = pd.read_csv(f, sep='\\t', index_col=0)\n",
    "    \n",
    "    # remove duplicates\n",
    "    frame = frame[~frame.index.duplicated(keep='first')]\n",
    "    pval = frame.iloc[:, 2]\n",
    "    \n",
    "    # extract name of sample\n",
    "    sample = f.split('/')[-2]\n",
    "    \n",
    "    # store in dict\n",
    "    known_motif_pval_dict[sample] = pval    \n",
    "    \n",
    "# create data frame\n",
    "known_motif_pval_frame = pd.DataFrame(known_motif_pval_dict)\n",
    "\n",
    "# sort by average p value\n",
    "known_motif_pval_frame = known_motif_pval_frame.reindex(known_motif_pval_frame.mean(axis=1).sort_values().index.tolist())\n",
    "\n",
    "known_motif_pval_frame.to_csv('./homer_known_motifs_all.txt', sep='\\t')"
   ]
  },
  {
   "cell_type": "markdown",
   "id": "established-outside",
   "metadata": {},
   "source": [
    "# Explore data a bit - this is a much easier way to compare results of known motif analysis"
   ]
  },
  {
   "cell_type": "code",
   "execution_count": 15,
   "id": "studied-brooks",
   "metadata": {},
   "outputs": [
    {
     "data": {
      "text/plain": [
       "<matplotlib.axes._subplots.AxesSubplot at 0x7fad12deba90>"
      ]
     },
     "execution_count": 15,
     "metadata": {},
     "output_type": "execute_result"
    },
    {
     "data": {
      "image/png": "[encoded data removed]",
      "text/plain": [
       "<Figure size 144x360 with 2 Axes>"
      ]
     },
     "metadata": {
      "needs_background": "light"
     },
     "output_type": "display_data"
    }
   ],
   "source": [
    "top_n = 10\n",
    "\n",
    "\n",
    "# filter data\n",
    "df = known_motif_pval_frame.loc[:, known_motif_pval_frame.columns.str.contains('hunterFCThenPadj')]\n",
    "df = df.loc[:, ~df.columns.str.contains('distal')]\n",
    "df = df.loc[:, df.columns.str.contains('trans')]\n",
    "\n",
    "# select top motifs\n",
    "motifs = []\n",
    "for col in df.columns:\n",
    "    motifs.extend(df.sort_values(col, ascending=True).index.tolist()[:top_n])\n",
    "    \n",
    "fig, ax = plt.subplots(figsize=(2,5))\n",
    "\n",
    "tmp_df = -df.loc[motifs]\n",
    "tmp_df.index = tmp_df.index.str.split('/').str[0]\n",
    "\n",
    "sns.heatmap(tmp_df,\n",
    "            cmap='Reds',\n",
    "            linewidth=1,\n",
    "            linecolor='k',\n",
    "            # vmax=25,\n",
    "            annot=True,\n",
    "            fmt='.1f',\n",
    "            xticklabels=0,\n",
    "            cbar_kws={'orientation':'horizontal',\n",
    "                      'pad':0.05})\n",
    "    "
   ]
  },
  {
   "cell_type": "code",
   "execution_count": 16,
   "id": "consolidated-marketing",
   "metadata": {},
   "outputs": [
    {
     "data": {
      "text/plain": [
       "Index(['h3k27ac_trans_balb_hunterFCThenPadj_motifs', 'h3k27ac_trans_c57_hunterFCThenPadj_motifs'], dtype='object')"
      ]
     },
     "execution_count": 16,
     "metadata": {},
     "output_type": "execute_result"
    }
   ],
   "source": [
    "df.columns"
   ]
  },
  {
   "cell_type": "code",
   "execution_count": 23,
   "id": "naughty-belfast",
   "metadata": {},
   "outputs": [
    {
     "data": {
      "image/png": "[encoded data removed]",
      "text/plain": [
       "<Figure size 54x144 with 2 Axes>"
      ]
     },
     "metadata": {
      "needs_background": "light"
     },
     "output_type": "display_data"
    }
   ],
   "source": [
    "top_n = 6\n",
    "\n",
    "\n",
    "# filter data\n",
    "df = known_motif_pval_frame.loc[:, known_motif_pval_frame.columns.str.contains('hunterFCThenPadj')]\n",
    "df = df.loc[:, df.columns.str.contains('distal')]\n",
    "df = df.loc[:, df.columns.str.contains('mixed')]\n",
    "\n",
    "# select top motifs\n",
    "motifs = []\n",
    "for col in df.columns:\n",
    "    motifs.extend(df.sort_values(col, ascending=True).index.tolist()[:top_n])\n",
    "    \n",
    "fig, ax = plt.subplots(figsize=(0.75,2))\n",
    "\n",
    "tmp_df = -df.loc[motifs]\n",
    "tmp_df.index = tmp_df.index.str.split('/').str[0]\n",
    "\n",
    "sns.heatmap(tmp_df,\n",
    "            cmap='Reds',\n",
    "            linewidth=1,\n",
    "            linecolor='k',\n",
    "            # vmax=25,\n",
    "            annot=False,\n",
    "            fmt='.1f',\n",
    "            xticklabels=0,\n",
    "            cbar_kws={'orientation':'horizontal',\n",
    "                      'pad':0.05})\n",
    "\n",
    "plt.savefig('./figures/h3k27ac_mixed_distal_enrichment.pdf',\n",
    "            bbox_inches='tight')"
   ]
  },
  {
   "cell_type": "code",
   "execution_count": 29,
   "id": "frequent-power",
   "metadata": {},
   "outputs": [
    {
     "data": {
      "text/html": [
       "<div>\n",
       "<style scoped>\n",
       "    .dataframe tbody tr th:only-of-type {\n",
       "        vertical-align: middle;\n",
       "    }\n",
       "\n",
       "    .dataframe tbody tr th {\n",
       "        vertical-align: top;\n",
       "    }\n",
       "\n",
       "    .dataframe thead th {\n",
       "        text-align: right;\n",
       "    }\n",
       "</style>\n",
       "<table border=\"1\" class=\"dataframe\">\n",
       "  <thead>\n",
       "    <tr style=\"text-align: right;\">\n",
       "      <th></th>\n",
       "      <th>h3k27ac_mixed_balb_hunterFCThenPadj_motifs</th>\n",
       "      <th>h3k27ac_mixed_c57_hunterFCThenPadj_motifs</th>\n",
       "    </tr>\n",
       "  </thead>\n",
       "  <tbody>\n",
       "    <tr>\n",
       "      <th>IRF2(IRF)/Erythroblas-IRF2-ChIP-Seq(GSE36985)/Homer</th>\n",
       "      <td>-5.0800</td>\n",
       "      <td>-3.684</td>\n",
       "    </tr>\n",
       "    <tr>\n",
       "      <th>IRF3(IRF)/BMDM-Irf3-ChIP-Seq(GSE67343)/Homer</th>\n",
       "      <td>-1.0660</td>\n",
       "      <td>-1.188</td>\n",
       "    </tr>\n",
       "    <tr>\n",
       "      <th>ISRE(IRF)/ThioMac-LPS-Expression(GSE23622)/Homer</th>\n",
       "      <td>-1.0290</td>\n",
       "      <td>-1.881</td>\n",
       "    </tr>\n",
       "    <tr>\n",
       "      <th>IRF1(IRF)/PBMC-IRF1-ChIP-Seq(GSE43036)/Homer</th>\n",
       "      <td>-3.5460</td>\n",
       "      <td>-1.498</td>\n",
       "    </tr>\n",
       "    <tr>\n",
       "      <th>MITF(bHLH)/MastCells-MITF-ChIP-Seq(GSE48085)/Homer</th>\n",
       "      <td>-0.2695</td>\n",
       "      <td>-1.695</td>\n",
       "    </tr>\n",
       "  </tbody>\n",
       "</table>\n",
       "</div>"
      ],
      "text/plain": [
       "                                                    h3k27ac_mixed_balb_hunterFCThenPadj_motifs  \\\n",
       "IRF2(IRF)/Erythroblas-IRF2-ChIP-Seq(GSE36985)/H...                                     -5.0800   \n",
       "IRF3(IRF)/BMDM-Irf3-ChIP-Seq(GSE67343)/Homer                                           -1.0660   \n",
       "ISRE(IRF)/ThioMac-LPS-Expression(GSE23622)/Homer                                       -1.0290   \n",
       "IRF1(IRF)/PBMC-IRF1-ChIP-Seq(GSE43036)/Homer                                           -3.5460   \n",
       "MITF(bHLH)/MastCells-MITF-ChIP-Seq(GSE48085)/Homer                                     -0.2695   \n",
       "\n",
       "                                                    h3k27ac_mixed_c57_hunterFCThenPadj_motifs  \n",
       "IRF2(IRF)/Erythroblas-IRF2-ChIP-Seq(GSE36985)/H...                                     -3.684  \n",
       "IRF3(IRF)/BMDM-Irf3-ChIP-Seq(GSE67343)/Homer                                           -1.188  \n",
       "ISRE(IRF)/ThioMac-LPS-Expression(GSE23622)/Homer                                       -1.881  \n",
       "IRF1(IRF)/PBMC-IRF1-ChIP-Seq(GSE43036)/Homer                                           -1.498  \n",
       "MITF(bHLH)/MastCells-MITF-ChIP-Seq(GSE48085)/Homer                                     -1.695  "
      ]
     },
     "execution_count": 29,
     "metadata": {},
     "output_type": "execute_result"
    }
   ],
   "source": [
    "df.head()"
   ]
  },
  {
   "cell_type": "code",
   "execution_count": 30,
   "id": "stopped-devon",
   "metadata": {},
   "outputs": [
    {
     "data": {
      "text/plain": [
       "-2.995732273553991"
      ]
     },
     "execution_count": 30,
     "metadata": {},
     "output_type": "execute_result"
    }
   ],
   "source": [
    "np.log(0.05)"
   ]
  },
  {
   "cell_type": "code",
   "execution_count": 26,
   "id": "yellow-visiting",
   "metadata": {},
   "outputs": [
    {
     "data": {
      "image/png": "[encoded data removed]",
      "text/plain": [
       "<Figure size 54x144 with 2 Axes>"
      ]
     },
     "metadata": {
      "needs_background": "light"
     },
     "output_type": "display_data"
    }
   ],
   "source": [
    "# top_n = 6\n",
    "\n",
    "\n",
    "# filter data\n",
    "df = known_motif_pval_frame.loc[:, known_motif_pval_frame.columns.str.contains('hunterFCThenPadj')]\n",
    "df = df.loc[:, ~df.columns.str.contains('distal')]\n",
    "df = df.loc[:, df.columns.str.contains('mixed')]\n",
    "# only significant\n",
    "tmp_df = df.loc[((df)<np.log(0.05)).any(1), :]\n",
    "\n",
    "fig, ax = plt.subplots(figsize=(0.75,2))\n",
    "\n",
    "# tmp_df = -df.loc[motifs]\n",
    "tmp_df.index = tmp_df.index.str.split('/').str[0]\n",
    "\n",
    "sns.heatmap(tmp_df,\n",
    "            cmap='Reds',\n",
    "            linewidth=1,\n",
    "            linecolor='k',\n",
    "            # vmax=25,\n",
    "            annot=False,\n",
    "            fmt='.1f',\n",
    "            xticklabels=0,\n",
    "            cbar_kws={'orientation':'horizontal',\n",
    "                      'pad':0.05})\n",
    "\n",
    "plt.savefig('./figures/h3k27ac_mixed_distal_enrichment_sig_only.pdf',\n",
    "            bbox_inches='tight')"
   ]
  },
  {
   "cell_type": "code",
   "execution_count": 18,
   "id": "former-advocate",
   "metadata": {},
   "outputs": [
    {
     "data": {
      "text/plain": [
       "<matplotlib.axes._subplots.AxesSubplot at 0x7fad122469d0>"
      ]
     },
     "execution_count": 18,
     "metadata": {},
     "output_type": "execute_result"
    },
    {
     "data": {
      "image/png": "[encoded data removed]",
      "text/plain": [
       "<Figure size 216x360 with 2 Axes>"
      ]
     },
     "metadata": {
      "needs_background": "light"
     },
     "output_type": "display_data"
    }
   ],
   "source": [
    "top_n = 5\n",
    "\n",
    "\n",
    "# filter data\n",
    "df = known_motif_pval_frame.loc[:, known_motif_pval_frame.columns.str.contains('hunterFCThenPadj')]\n",
    "# df = df.loc[:, ~df.columns.str.contains('distal')]\n",
    "df = df.loc[:, df.columns.str.contains('cis')]\n",
    "\n",
    "# select top motifs\n",
    "motifs = []\n",
    "for col in df.columns:\n",
    "    motifs.extend(df.sort_values(col, ascending=True).index.tolist()[:top_n])\n",
    "    \n",
    "fig, ax = plt.subplots(figsize=(3,5))\n",
    "\n",
    "tmp_df = -df.loc[motifs]\n",
    "tmp_df.index = tmp_df.index.str.split('/').str[0]\n",
    "\n",
    "sns.heatmap(tmp_df,\n",
    "            cmap='Reds',\n",
    "            linewidth=1,\n",
    "            linecolor='k',\n",
    "            # vmax=25,\n",
    "            annot=True,\n",
    "            fmt='.1f',\n",
    "            xticklabels=0,\n",
    "            cbar_kws={'orientation':'horizontal',\n",
    "                      'pad':0.05})"
   ]
  },
  {
   "cell_type": "markdown",
   "id": "optimum-roman",
   "metadata": {},
   "source": [
    "It seems like mixed motifs for balbcj correlate decently well with trans motifs for c57..."
   ]
  },
  {
   "cell_type": "code",
   "execution_count": 22,
   "id": "parental-clerk",
   "metadata": {},
   "outputs": [
    {
     "data": {
      "text/plain": [
       "Index(['h3k27ac_cis_balb_hunterFCThenPadj_motifs',\n",
       "       'h3k27ac_cis_c57_hunterFCThenPadj_motifs',\n",
       "       'h3k27ac_mixed_balb_hunterFCThenPadj_motifs',\n",
       "       'h3k27ac_mixed_c57_hunterFCThenPadj_motifs',\n",
       "       'h3k27ac_trans_balb_hunterFCThenPadj_motifs',\n",
       "       'h3k27ac_trans_c57_hunterFCThenPadj_motifs'],\n",
       "      dtype='object')"
      ]
     },
     "execution_count": 22,
     "metadata": {},
     "output_type": "execute_result"
    }
   ],
   "source": [
    "df = known_motif_pval_frame.loc[:, known_motif_pval_frame.columns.str.contains('hunterFCThenPadj')]\n",
    "df = df.loc[:, ~df.columns.str.contains('distal')]\n",
    "df.columns"
   ]
  },
  {
   "cell_type": "code",
   "execution_count": 35,
   "id": "constitutional-tomato",
   "metadata": {
    "scrolled": true
   },
   "outputs": [
    {
     "data": {
      "text/plain": [
       "Index(['h3k27ac_trans_c57_hunterFCThenPadj_motifs',\n",
       "       'h3k27ac_mixed_balb_hunterFCThenPadj_motifs',\n",
       "       'h3k27ac_trans_c57_hunterFCThenPadj_motifs'],\n",
       "      dtype='object')"
      ]
     },
     "execution_count": 35,
     "metadata": {},
     "output_type": "execute_result"
    }
   ],
   "source": [
    "df.columns"
   ]
  },
  {
   "cell_type": "code",
   "execution_count": 41,
   "id": "english-volume",
   "metadata": {},
   "outputs": [],
   "source": [
    "# cluster targets\n",
    "import scipy\n",
    "import scipy.cluster.hierarchy as sch\n",
    "import scipy.spatial.distance as dist"
   ]
  },
  {
   "cell_type": "code",
   "execution_count": 49,
   "id": "encouraging-companion",
   "metadata": {},
   "outputs": [
    {
     "name": "stderr",
     "output_type": "stream",
     "text": [
      "/gpfs/data01/glasslab/home/h1bennet/.conda/envs/dataviz/lib/python3.7/site-packages/ipykernel_launcher.py:24: ClusterWarning: scipy.cluster: The symmetric non-negative hollow observation matrix looks suspiciously like an uncondensed distance matrix\n"
     ]
    },
    {
     "data": {
      "text/plain": [
       "<matplotlib.axes._subplots.AxesSubplot at 0x7fa31b6f6f10>"
      ]
     },
     "execution_count": 49,
     "metadata": {},
     "output_type": "execute_result"
    },
    {
     "data": {
      "image/png": "[encoded data removed]",
      "text/plain": [
       "<Figure size 216x360 with 2 Axes>"
      ]
     },
     "metadata": {
      "needs_background": "light"
     },
     "output_type": "display_data"
    }
   ],
   "source": [
    "top_n = 5\n",
    "\n",
    "\n",
    "# filter data\n",
    "# df = known_motif_pval_frame.loc[:, known_motif_pval_frame.columns.str.contains('hunterFCThenPadj')]\n",
    "# df = df.loc[:, ~df.columns.str.contains('distal')]\n",
    "# df = df.loc[:, df.columns.str.contains('trans|mixed')]\n",
    "df = known_motif_pval_frame.loc[:, ['h3k27ac_trans_c57_hunterFCThenPadj_motifs',\n",
    "                                    'h3k27ac_mixed_balb_hunterFCThenPadj_motifs',\n",
    "                                    'h3k27ac_cis_balb_hunterFCThenPadj_motifs']]\n",
    "\n",
    "# select top motifs\n",
    "motifs = []\n",
    "for col in df.columns:\n",
    "    motifs.extend(df.sort_values(col, ascending=True).index.tolist()[:top_n])\n",
    "    \n",
    "fig, ax = plt.subplots(figsize=(3,5))\n",
    "\n",
    "tmp_df = -df.loc[motifs]\n",
    "tmp_df.index = tmp_df.index.str.split('/').str[0]\n",
    "\n",
    "d2 = dist.pdist(tmp_df.T)\n",
    "D2 = dist.squareform(d2)\n",
    "Y2 = sch.linkage(D2, method='average', metric='euclidean') ### array-clustering metric - 'average', 'single', 'centroid', 'complete'\n",
    "Z2 = sch.dendrogram(Y2, no_plot=True)\n",
    "\n",
    "sns.heatmap(tmp_df.iloc[:, Z2['leaves']],\n",
    "            cmap='Reds',\n",
    "            linewidth=1,\n",
    "            linecolor='k',\n",
    "            # vmax=25,\n",
    "            annot=True,\n",
    "            fmt='.1f',\n",
    "            xticklabels=0,\n",
    "            cbar_kws={'orientation':'horizontal',\n",
    "                      'pad':0.05})"
   ]
  },
  {
   "cell_type": "code",
   "execution_count": 50,
   "id": "fundamental-orleans",
   "metadata": {},
   "outputs": [
    {
     "name": "stderr",
     "output_type": "stream",
     "text": [
      "/gpfs/data01/glasslab/home/h1bennet/.conda/envs/dataviz/lib/python3.7/site-packages/ipykernel_launcher.py:24: ClusterWarning: scipy.cluster: The symmetric non-negative hollow observation matrix looks suspiciously like an uncondensed distance matrix\n"
     ]
    },
    {
     "data": {
      "text/plain": [
       "<matplotlib.axes._subplots.AxesSubplot at 0x7fa31b5a27d0>"
      ]
     },
     "execution_count": 50,
     "metadata": {},
     "output_type": "execute_result"
    },
    {
     "data": {
      "image/png": "[encoded data removed]",
      "text/plain": [
       "<Figure size 216x360 with 2 Axes>"
      ]
     },
     "metadata": {
      "needs_background": "light"
     },
     "output_type": "display_data"
    }
   ],
   "source": [
    "top_n = 5\n",
    "\n",
    "\n",
    "# filter data\n",
    "# df = known_motif_pval_frame.loc[:, known_motif_pval_frame.columns.str.contains('hunterFCThenPadj')]\n",
    "# df = df.loc[:, ~df.columns.str.contains('distal')]\n",
    "# df = df.loc[:, df.columns.str.contains('trans|mixed')]\n",
    "df = known_motif_pval_frame.loc[:, ['h3k27ac_trans_balb_hunterFCThenPadj_motifs',\n",
    "                                    'h3k27ac_mixed_c57_hunterFCThenPadj_motifs',\n",
    "                                    'h3k27ac_cis_c57_hunterFCThenPadj_motifs']]\n",
    "\n",
    "# select top motifs\n",
    "motifs = []\n",
    "for col in df.columns:\n",
    "    motifs.extend(df.sort_values(col, ascending=True).index.tolist()[:top_n])\n",
    "    \n",
    "fig, ax = plt.subplots(figsize=(3,5))\n",
    "\n",
    "tmp_df = -df.loc[motifs]\n",
    "tmp_df.index = tmp_df.index.str.split('/').str[0]\n",
    "\n",
    "d2 = dist.pdist(tmp_df.T)\n",
    "D2 = dist.squareform(d2)\n",
    "Y2 = sch.linkage(D2, method='average', metric='euclidean') ### array-clustering metric - 'average', 'single', 'centroid', 'complete'\n",
    "Z2 = sch.dendrogram(Y2, no_plot=True)\n",
    "\n",
    "sns.heatmap(tmp_df.iloc[:, Z2['leaves']],\n",
    "            cmap='Reds',\n",
    "            linewidth=1,\n",
    "            linecolor='k',\n",
    "            # vmax=25,\n",
    "            annot=True,\n",
    "            fmt='.1f',\n",
    "            xticklabels=0,\n",
    "            cbar_kws={'orientation':'horizontal',\n",
    "                      'pad':0.05})"
   ]
  },
  {
   "cell_type": "markdown",
   "id": "impossible-rubber",
   "metadata": {},
   "source": [
    "Try and say something about motif correlation..."
   ]
  },
  {
   "cell_type": "code",
   "execution_count": 63,
   "id": "fancy-replica",
   "metadata": {},
   "outputs": [
    {
     "data": {
      "text/plain": [
       "<matplotlib.collections.PathCollection at 0x7fa31ac56e90>"
      ]
     },
     "execution_count": 63,
     "metadata": {},
     "output_type": "execute_result"
    },
    {
     "data": {
      "image/png": "[encoded data removed]",
      "text/plain": [
       "<Figure size 432x144 with 3 Axes>"
      ]
     },
     "metadata": {
      "needs_background": "light"
     },
     "output_type": "display_data"
    }
   ],
   "source": [
    "fig, axs = plt.subplots(1, 3, figsize=(6,2))\n",
    "\n",
    "axs[0].scatter(-known_motif_pval_frame.loc[:, 'h3k27ac_trans_balb_hunterFCThenPadj_motifs'],\n",
    "               -known_motif_pval_frame.loc[:, 'h3k27ac_trans_c57_hunterFCThenPadj_motifs'],\n",
    "               s=2)\n",
    "axs[1].scatter(-known_motif_pval_frame.loc[:, 'h3k27ac_mixed_balb_hunterFCThenPadj_motifs'],\n",
    "               -known_motif_pval_frame.loc[:, 'h3k27ac_mixed_c57_hunterFCThenPadj_motifs'],\n",
    "               s=2)\n",
    "\n",
    "axs[2].scatter(-known_motif_pval_frame.loc[:, 'h3k27ac_cis_balb_hunterFCThenPadj_motifs'],\n",
    "               -known_motif_pval_frame.loc[:, 'h3k27ac_cis_c57_hunterFCThenPadj_motifs'],\n",
    "               s=2)"
   ]
  },
  {
   "cell_type": "code",
   "execution_count": 64,
   "id": "cardiac-burke",
   "metadata": {},
   "outputs": [],
   "source": [
    "df = known_motif_pval_frame.loc[:, known_motif_pval_frame.columns.str.contains('hunterFCThenPadj')]\n",
    "df = df.loc[:, ~df.columns.str.contains('distal')]\n",
    "# df = df.loc[:, df.columns.str.contains('cis')]"
   ]
  },
  {
   "cell_type": "code",
   "execution_count": 71,
   "id": "applied-theory",
   "metadata": {},
   "outputs": [
    {
     "data": {
      "text/plain": [
       "-0.08320725626489109"
      ]
     },
     "execution_count": 71,
     "metadata": {},
     "output_type": "execute_result"
    }
   ],
   "source": [
    "(-df).corr(method='spearman').loc['h3k27ac_trans_balb_hunterFCThenPadj_motifs',\n",
    "                 'h3k27ac_trans_c57_hunterFCThenPadj_motifs']"
   ]
  },
  {
   "cell_type": "code",
   "execution_count": 72,
   "id": "normal-train",
   "metadata": {},
   "outputs": [
    {
     "data": {
      "text/plain": [
       "0.043415944988695734"
      ]
     },
     "execution_count": 72,
     "metadata": {},
     "output_type": "execute_result"
    }
   ],
   "source": [
    "(-df).corr(method='spearman').loc['h3k27ac_mixed_balb_hunterFCThenPadj_motifs',\n",
    "                 'h3k27ac_mixed_c57_hunterFCThenPadj_motifs']"
   ]
  },
  {
   "cell_type": "code",
   "execution_count": 73,
   "id": "incoming-hanging",
   "metadata": {},
   "outputs": [
    {
     "data": {
      "text/plain": [
       "0.13955558471983517"
      ]
     },
     "execution_count": 73,
     "metadata": {},
     "output_type": "execute_result"
    }
   ],
   "source": [
    "(-df).corr(method='spearman').loc['h3k27ac_cis_balb_hunterFCThenPadj_motifs',\n",
    "                 'h3k27ac_cis_c57_hunterFCThenPadj_motifs']"
   ]
  },
  {
   "cell_type": "code",
   "execution_count": null,
   "id": "blond-craps",
   "metadata": {},
   "outputs": [],
   "source": []
  }
 ],
 "metadata": {
  "kernelspec": {
   "display_name": "dataviz",
   "language": "python",
   "name": "dataviz"
  },
  "language_info": {
   "codemirror_mode": {
    "name": "ipython",
    "version": 3
   },
   "file_extension": ".py",
   "mimetype": "text/x-python",
   "name": "python",
   "nbconvert_exporter": "python",
   "pygments_lexer": "ipython3",
   "version": "3.7.5"
  }
 },
 "nbformat": 4,
 "nbformat_minor": 5
}
