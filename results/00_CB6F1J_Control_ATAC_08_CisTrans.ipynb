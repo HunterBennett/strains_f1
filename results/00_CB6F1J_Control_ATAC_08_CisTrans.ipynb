{
 "cells": [
  {
   "cell_type": "markdown",
   "id": "oriental-egypt",
   "metadata": {},
   "source": [
    "Hunter Bennett | Glass Lab | 15 June 2021"
   ]
  },
  {
   "cell_type": "code",
   "execution_count": 1,
   "id": "sustainable-pizza",
   "metadata": {},
   "outputs": [],
   "source": [
    "### header ###\n",
    "__author__ = \"Hunter Bennett\"\n",
    "__license__ = \"BSD\"\n",
    "__email__ = \"hunter.r.bennett@gmail.com\"\n",
    "%load_ext autoreload\n",
    "%autoreload 2\n",
    "### imports ###\n",
    "import sys\n",
    "%matplotlib inline\n",
    "import os\n",
    "import re\n",
    "import glob\n",
    "import pandas as pd\n",
    "import numpy as np\n",
    "import matplotlib\n",
    "import matplotlib.pyplot as plt \n",
    "import seaborn as sns\n",
    "\n",
    "# import custom functions\n",
    "import sys\n",
    "sys.path.insert(0, '/home/h1bennet/code/')\n",
    "from hbUtils import ngs_qc, quantile_normalize_df\n",
    "from plotting_scripts import label_point, pca_rpkm_mat, get_diff_volcano\n",
    "from homer_preprocessing import read_annotated_peaks, import_homer_diffpeak, pull_comparisons_get_diff"
   ]
  },
  {
   "cell_type": "code",
   "execution_count": 2,
   "id": "fossil-progress",
   "metadata": {},
   "outputs": [],
   "source": [
    "#### PLOTTING PARAMETERS FOR MANUSCRIPT ####\n",
    "# # get matplotlib to save readable fonts\n",
    "matplotlib.rcParams['pdf.fonttype'] = 42\n",
    "matplotlib.rcParams['ps.fonttype'] = 42\n",
    "matplotlib.rcParams['font.size'] = 6\n",
    "matplotlib.rcParams['savefig.dpi'] = 500\n",
    "\n",
    "\n",
    "# line widths\n",
    "matplotlib.rcParams['axes.linewidth'] = 1\n",
    "matplotlib.rcParams['xtick.major.width'] = 1\n",
    "matplotlib.rcParams['ytick.major.width'] = 1\n",
    "\n",
    "# adjust defualt color for plots to black\n",
    "# normal default is a dark gray\n",
    "COLOR = 'black'\n",
    "matplotlib.rcParams['text.color'] = COLOR\n",
    "matplotlib.rcParams['axes.labelcolor'] = COLOR\n",
    "matplotlib.rcParams['xtick.color'] = COLOR\n",
    "matplotlib.rcParams['ytick.color'] = COLOR\n",
    "matplotlib.rcParams['axes.edgecolor'] = COLOR\n",
    "\n",
    "#### PLOT PARAMETERS FOR THIS PLOT ####"
   ]
  },
  {
   "cell_type": "code",
   "execution_count": 3,
   "id": "cross-listening",
   "metadata": {},
   "outputs": [],
   "source": [
    "dataDirectory = '/home/h1bennet/strains/data/ATAC/control_cohort2/'\n",
    "workingDirectory = '/home/h1bennet/strains_f1/results/00_CB6F1_Control_ATAC/'\n",
    "if not os.path.isdir(workingDirectory):\n",
    "    os.mkdir(workingDirectory)\n",
    "os.chdir(workingDirectory)\n",
    "\n",
    "if not os.path.isdir('./motif_calling/'):\n",
    "    os.mkdir('./motif_calling/')\n",
    "\n",
    "# save dict to convert columns to integers\n",
    "convert_dict = {'Start': int,\n",
    "                'End': int}\n"
   ]
  },
  {
   "cell_type": "code",
   "execution_count": 4,
   "id": "according-horse",
   "metadata": {},
   "outputs": [
    {
     "name": "stdout",
     "output_type": "stream",
     "text": [
      "annotatePeaks all peaks (71183, 26)\n",
      "getDiffExpression selected transcripts (71183, 29)\n",
      "annotatePeaks selected peaks (71183, 26)\n"
     ]
    },
    {
     "data": {
      "text/plain": [
       "dict_keys(['balbcj_atac vs. c57bl6j_atac'])"
      ]
     },
     "execution_count": 4,
     "metadata": {},
     "output_type": "execute_result"
    }
   ],
   "source": [
    "diff_peak_f0, peaks_f0, peak_mat_f0, peak_mat_quant_f0 = import_homer_diffpeak(\n",
    "    './diff_output/diff_output_atac_f0.txt',\n",
    "    './peakQuanF0/allRawTags_filtered_peaks.txt')\n",
    "\n",
    "comp_dict = pull_comparisons_get_diff(diff_peak_f0, seq_type='Peak')\n",
    "comp_dict.keys()"
   ]
  },
  {
   "cell_type": "code",
   "execution_count": 5,
   "id": "center-occasion",
   "metadata": {},
   "outputs": [
    {
     "name": "stdout",
     "output_type": "stream",
     "text": [
      "annotatePeaks all peaks (137971, 26)\n",
      "getDiffExpression selected transcripts (137971, 29)\n",
      "annotatePeaks selected peaks (137971, 26)\n"
     ]
    },
    {
     "data": {
      "text/plain": [
       "dict_keys(['00_cb6f1_c57 vs. 01_cb6f1_balb'])"
      ]
     },
     "execution_count": 5,
     "metadata": {},
     "output_type": "execute_result"
    }
   ],
   "source": [
    "diff_peak_f1, peaks_f1, peak_mat_f1, peak_mat_quant_f1 = import_homer_diffpeak(\n",
    "    './diff_output.txt',\n",
    "    './peakQuan/allRawTags_onlymuts.txt')\n",
    "\n",
    "comp_dict = pull_comparisons_get_diff(diff_peak_f1, seq_type='Peak')\n",
    "comp_dict.keys()"
   ]
  },
  {
   "cell_type": "code",
   "execution_count": 6,
   "id": "molecular-romantic",
   "metadata": {
    "scrolled": true
   },
   "outputs": [
    {
     "name": "stdout",
     "output_type": "stream",
     "text": [
      "(15419, 58)\n",
      "(10311, 58)\n"
     ]
    }
   ],
   "source": [
    "df = diff_peak_f0.merge(diff_peak_f1,\n",
    "                             suffixes=['', '_f1'],\n",
    "                             left_index=True,\n",
    "                             right_index=True,\n",
    "                             how='outer')\n",
    "\n",
    "# i was going to fill na but this would be wrong...\n",
    "# df['log2FoldChange_f1'].fillna(0, inplace=True)\n",
    "# df['pvalue_f1'].fillna(1, inplace=True)\n",
    "# df['padj_f1'].fillna(1, inplace=True)\n",
    "\n",
    "df = df.dropna(how='any')\n",
    "print(df.shape)\n",
    "df.iloc[:, :5].astype(convert_dict).to_csv('./peakQuan/allPeaksF1F0.txt',\n",
    "                      sep='\\t')\n",
    "\n",
    "# distal version for motif calling\n",
    "df_distal = df.reindex(df.index[np.abs(df['Distance to TSS']) > 3000])\n",
    "print(df_distal.shape)\n",
    "df_distal.iloc[:, :5].astype(convert_dict).to_csv('./peakQuan/allPeaksF1F0_distal.txt',\n",
    "                             sep='\\t')"
   ]
  },
  {
   "cell_type": "markdown",
   "id": "persistent-interpretation",
   "metadata": {},
   "source": [
    "# FC and p value method..."
   ]
  },
  {
   "cell_type": "code",
   "execution_count": 7,
   "id": "interested-posting",
   "metadata": {},
   "outputs": [],
   "source": [
    "fc = np.log2(2)\n",
    "padj = 0.05"
   ]
  },
  {
   "cell_type": "markdown",
   "id": "positive-method",
   "metadata": {},
   "source": [
    "Note that the order is switched in these, so in fc sign is different:\n",
    "* F0: C57BL6J biased are > 0\n",
    "* F1: C57BL6J biased are < 0"
   ]
  },
  {
   "cell_type": "code",
   "execution_count": 8,
   "id": "prospective-bruce",
   "metadata": {},
   "outputs": [],
   "source": [
    "f0_log2fc_col = 'balbcj_atac vs. c57bl6j_atac Log2 Fold Change'\n",
    "f0_padj_col = 'balbcj_atac vs. c57bl6j_atac adj. p-value'\n",
    "\n",
    "f1_log2fc_col = '00_cb6f1_c57 vs. 01_cb6f1_balb Log2 Fold Change'\n",
    "f1_padj_col = '00_cb6f1_c57 vs. 01_cb6f1_balb adj. p-value'"
   ]
  },
  {
   "cell_type": "code",
   "execution_count": 9,
   "id": "digital-engineering",
   "metadata": {},
   "outputs": [],
   "source": [
    "parental_balb = (df[f0_log2fc_col] < -fc) & (df[f0_padj_col] < 0.05)\n",
    "parental_c57 = (df[f0_log2fc_col] > fc) & (df[f0_padj_col] < 0.05)\n",
    "\n",
    "f1_balb = (df[f1_log2fc_col] > fc) & (df[f1_padj_col] < 0.05)\n",
    "f1_c57 = (df[f1_log2fc_col]  < -fc) & (df[f1_padj_col] < 0.05)"
   ]
  },
  {
   "cell_type": "code",
   "execution_count": 10,
   "id": "executive-nursery",
   "metadata": {},
   "outputs": [],
   "source": [
    "cis_balb = parental_balb & f1_balb\n",
    "trans_balb = parental_balb & (~f1_balb)\n",
    "mixed_balb = (~parental_balb) & (f1_balb)\n",
    "cis_c57 = parental_c57 & f1_c57\n",
    "trans_c57 = parental_c57 & (~f1_c57)\n",
    "mixed_c57 = (~parental_c57) & (f1_c57)"
   ]
  },
  {
   "cell_type": "markdown",
   "id": "distributed-victoria",
   "metadata": {},
   "source": [
    "Prepare plot"
   ]
  },
  {
   "cell_type": "code",
   "execution_count": 11,
   "id": "expressed-terminal",
   "metadata": {},
   "outputs": [],
   "source": [
    "lists = [cis_balb, trans_balb, mixed_balb,\n",
    "         cis_c57, trans_c57, mixed_c57]\n",
    "labels = ['cis_balb_tyMethod', 'trans_balb_tyMethod', 'mixed_balb_tyMethod',\n",
    "          'cis_c57_tyMethod', 'trans_c57_tyMethod', 'mixed_c57_tyMethod']\n",
    "\n",
    "viridis = matplotlib.cm.get_cmap('viridis')\n",
    "colors = [viridis(0.6), viridis(0.4), viridis(0.2),\n",
    "          viridis(0.6), viridis(0.4), viridis(0.2)]\n",
    "\n",
    "# create objects for legend\n",
    "# calculate total cis / trans / mixed\n",
    "n_cis = cis_balb.sum() + cis_c57.sum()\n",
    "n_trans = trans_balb.sum() + trans_c57.sum()\n",
    "n_mixed = mixed_balb.sum() + mixed_c57.sum()\n",
    "n_same = df.shape[0] - (n_cis + n_trans + n_mixed)"
   ]
  },
  {
   "cell_type": "code",
   "execution_count": 12,
   "id": "painted-representative",
   "metadata": {},
   "outputs": [],
   "source": [
    "from matplotlib.lines import Line2D\n",
    "legend_elements = [Line2D([0], [0],\n",
    "                          marker='o', color='w',\n",
    "                          label='Same: %i' % n_same,\n",
    "                          markerfacecolor=viridis(0.99),\n",
    "                          markersize=3),\n",
    "                   Line2D([0], [0],\n",
    "                          marker='o', color='w',\n",
    "                          label='Cis: %i' % n_cis,\n",
    "                          markerfacecolor=viridis(0.6),\n",
    "                          markersize=3),\n",
    "                   Line2D([0], [0],\n",
    "                          marker='o', color='w',\n",
    "                          label='Trans: %i' % n_trans,\n",
    "                          markerfacecolor=viridis(0.4),\n",
    "                          markersize=3),\n",
    "                   Line2D([0], [0],\n",
    "                          marker='o', color='w',\n",
    "                          label='Mixed: %i' % n_mixed,\n",
    "                          markerfacecolor=viridis(0.2),\n",
    "                          markersize=3)]"
   ]
  },
  {
   "cell_type": "code",
   "execution_count": 13,
   "id": "photographic-applicant",
   "metadata": {},
   "outputs": [
    {
     "data": {
      "image/png": "[encoded data removed]",
      "text/plain": [
       "<Figure size 144x144 with 1 Axes>"
      ]
     },
     "metadata": {
      "needs_background": "light"
     },
     "output_type": "display_data"
    }
   ],
   "source": [
    "fig, ax = plt.subplots(figsize=(2,2))\n",
    "\n",
    "# plot bounding lines\n",
    "ax.plot([-10,10], [-10,10], c='k',\n",
    "        linewidth=0.5, zorder=1)\n",
    "ax.axhline(0, c='k', linewidth=0.5,\n",
    "           zorder=1)\n",
    "ax.axvline(0, c='k', linewidth=0.5,\n",
    "           zorder=1)\n",
    "\n",
    "ax.scatter(df.loc[:, f0_log2fc_col],\n",
    "          -df.loc[:, f1_log2fc_col],\n",
    "           s=0.5,\n",
    "           c=[viridis(0.99)],\n",
    "           alpha = 0.2,\n",
    "           rasterized=True,\n",
    "           zorder=2)\n",
    "\n",
    "for peaklist, color in zip(lists, colors):\n",
    "    ax.scatter(df.loc[peaklist, f0_log2fc_col],\n",
    "               -df.loc[peaklist, f1_log2fc_col],\n",
    "               s=0.5,\n",
    "               c=[color],\n",
    "               rasterized=True,\n",
    "               zorder=3)\n",
    "# Hide the right and top spines\n",
    "ax.spines['right'].set_visible(False)\n",
    "ax.spines['top'].set_visible(False)\n",
    "\n",
    "ax.set_xlabel('C57/BALB\\nLog2(FC F0)')\n",
    "ax.set_ylabel('C57/BALB\\nLog2(FC F1)')\n",
    "\n",
    "ax.legend(handles=legend_elements,\n",
    "          fontsize=6,\n",
    "          frameon=False, ncol=1, loc=(-0.05,0.7),\n",
    "          handletextpad=0.05, columnspacing=0.05)\n",
    "\n",
    "ax.set_xlim([-10,10]);\n",
    "ax.set_ylim([-10,10]);\n",
    "\n",
    "plt.savefig('./figures/cis_trans_tyMethod.pdf',\n",
    "            bbox_inches='tight')"
   ]
  },
  {
   "cell_type": "markdown",
   "id": "characteristic-caribbean",
   "metadata": {},
   "source": [
    "One giant issue with this plot is that we get contamination with peaks that are not significant but have a high estimated fold change..."
   ]
  },
  {
   "cell_type": "code",
   "execution_count": 14,
   "id": "nonprofit-memphis",
   "metadata": {},
   "outputs": [],
   "source": [
    "for label, peaklist in zip(labels, lists):\n",
    "    df.loc[peaklist, :].astype(convert_dict).iloc[:, :5].to_csv(\n",
    "        './motif_calling/atac_'+label+'.txt',\n",
    "        sep='\\t')\n",
    "    df_distal.loc[peaklist, :].astype(convert_dict).iloc[:, :5].to_csv(\n",
    "        './motif_calling/atac_'+label+'_distal.txt',\n",
    "        sep='\\t')"
   ]
  },
  {
   "cell_type": "markdown",
   "id": "lonely-saskatchewan",
   "metadata": {},
   "source": [
    "# Log2FC only, then p value"
   ]
  },
  {
   "cell_type": "code",
   "execution_count": 15,
   "id": "sized-shade",
   "metadata": {},
   "outputs": [],
   "source": [
    "parental_balb = (df[f0_log2fc_col] < -fc)\n",
    "parental_c57 = (df[f0_log2fc_col] > fc)\n",
    "\n",
    "f1_balb = (df[f1_log2fc_col] > fc)\n",
    "f1_c57 = (df[f1_log2fc_col]  < -fc)"
   ]
  },
  {
   "cell_type": "code",
   "execution_count": 16,
   "id": "presidential-warren",
   "metadata": {},
   "outputs": [],
   "source": [
    "cis_balb = parental_balb & f1_balb & ((df[f0_padj_col] < 0.05) & (df[f1_padj_col] < 0.05))\n",
    "trans_balb = parental_balb & (~f1_balb) & (df[f0_padj_col] < 0.05)\n",
    "mixed_balb = (~parental_balb) & (f1_balb) & (df[f1_padj_col] < 0.05)\n",
    "\n",
    "cis_c57 = parental_c57 & f1_c57 & ((df[f0_padj_col] < 0.05) & (df[f1_padj_col] < 0.05))\n",
    "trans_c57 = parental_c57 & (~f1_c57) & (df[f0_padj_col] < 0.05)\n",
    "mixed_c57 = (~parental_c57) & (f1_c57) & (df[f1_padj_col] < 0.05)"
   ]
  },
  {
   "cell_type": "markdown",
   "id": "transparent-rotation",
   "metadata": {},
   "source": [
    "prepare plot"
   ]
  },
  {
   "cell_type": "code",
   "execution_count": 17,
   "id": "combined-groove",
   "metadata": {},
   "outputs": [],
   "source": [
    "lists = [cis_balb, trans_balb, mixed_balb,\n",
    "         cis_c57, trans_c57, mixed_c57]\n",
    "labels = ['cis_balb_tyMethodFiltPval', 'trans_balb_tyMethodFiltPval', 'mixed_balb_tyMethodFiltPval',\n",
    "          'cis_c57_tyMethodFiltPval', 'trans_c57_tyMethodFiltPval', 'mixed_c57_tyMethodFiltPval']\n",
    "\n",
    "viridis = matplotlib.cm.get_cmap('viridis')\n",
    "colors = [viridis(0.6), viridis(0.4), viridis(0.2),\n",
    "          viridis(0.6), viridis(0.4), viridis(0.2)]\n",
    "\n",
    "# create objects for legend\n",
    "# calculate total cis / trans / mixed\n",
    "n_cis = cis_balb.sum() + cis_c57.sum()\n",
    "n_trans = trans_balb.sum() + trans_c57.sum()\n",
    "n_mixed = mixed_balb.sum() + mixed_c57.sum()\n",
    "n_same = df.shape[0] - (n_cis + n_trans + n_mixed)"
   ]
  },
  {
   "cell_type": "code",
   "execution_count": 18,
   "id": "theoretical-rugby",
   "metadata": {},
   "outputs": [],
   "source": [
    "from matplotlib.lines import Line2D\n",
    "legend_elements = [Line2D([0], [0],\n",
    "                          marker='o', color='w',\n",
    "                          label='Same: %i' % n_same,\n",
    "                          markerfacecolor=viridis(0.99),\n",
    "                          markersize=3),\n",
    "                   Line2D([0], [0],\n",
    "                          marker='o', color='w',\n",
    "                          label='Cis: %i' % n_cis,\n",
    "                          markerfacecolor=viridis(0.6),\n",
    "                          markersize=3),\n",
    "                   Line2D([0], [0],\n",
    "                          marker='o', color='w',\n",
    "                          label='Trans: %i' % n_trans,\n",
    "                          markerfacecolor=viridis(0.4),\n",
    "                          markersize=3),\n",
    "                   Line2D([0], [0],\n",
    "                          marker='o', color='w',\n",
    "                          label='Mixed: %i' % n_mixed,\n",
    "                          markerfacecolor=viridis(0.2),\n",
    "                          markersize=3)]"
   ]
  },
  {
   "cell_type": "code",
   "execution_count": 19,
   "id": "unusual-publicity",
   "metadata": {},
   "outputs": [
    {
     "data": {
      "image/png": "[encoded data removed]",
      "text/plain": [
       "<Figure size 144x144 with 1 Axes>"
      ]
     },
     "metadata": {
      "needs_background": "light"
     },
     "output_type": "display_data"
    }
   ],
   "source": [
    "fig, ax = plt.subplots(figsize=(2,2))\n",
    "\n",
    "# plot bounding lines\n",
    "ax.plot([-10,10], [-10,10], c='k',\n",
    "        linewidth=0.5, zorder=1)\n",
    "ax.axhline(0, c='k', linewidth=0.5,\n",
    "           zorder=1)\n",
    "ax.axvline(0, c='k', linewidth=0.5,\n",
    "           zorder=1)\n",
    "\n",
    "ax.scatter(df.loc[:, f0_log2fc_col],\n",
    "          -df.loc[:, f1_log2fc_col],\n",
    "           s=0.5,\n",
    "           c=[viridis(0.99)],\n",
    "           alpha = 0.2,\n",
    "           rasterized=True,\n",
    "           zorder=2)\n",
    "\n",
    "for peaklist, color in zip(lists, colors):\n",
    "    ax.scatter(df.loc[peaklist, f0_log2fc_col],\n",
    "               -df.loc[peaklist, f1_log2fc_col],\n",
    "               s=0.5,\n",
    "               c=[color],\n",
    "               rasterized=True,\n",
    "               zorder=3)\n",
    "# Hide the right and top spines\n",
    "ax.spines['right'].set_visible(False)\n",
    "ax.spines['top'].set_visible(False)\n",
    "\n",
    "ax.set_xlabel('C57/BALB\\nLog2(FC F0)')\n",
    "ax.set_ylabel('C57/BALB\\nLog2(FC F1)')\n",
    "\n",
    "ax.legend(handles=legend_elements,\n",
    "          fontsize=6,\n",
    "          frameon=False, ncol=1, loc=(-0.05,0.7),\n",
    "          handletextpad=0.05, columnspacing=0.05)\n",
    "\n",
    "ax.set_xlim([-10,10]);\n",
    "ax.set_ylim([-10,10]);\n",
    "\n",
    "plt.savefig('./figures/cis_trans_tyMethodFiltPval.pdf',\n",
    "            bbox_inches='tight')"
   ]
  },
  {
   "cell_type": "code",
   "execution_count": 20,
   "id": "brazilian-disease",
   "metadata": {},
   "outputs": [],
   "source": [
    "for label, peaklist in zip(labels, lists):\n",
    "    df.loc[peaklist, :].astype(convert_dict).iloc[:, :5].to_csv(\n",
    "        './motif_calling/atac_'+label+'.txt',\n",
    "        sep='\\t')\n",
    "    df_distal.loc[peaklist, :].astype(convert_dict).iloc[:, :5].to_csv(\n",
    "        './motif_calling/atac_'+label+'_distal.txt',\n",
    "        sep='\\t')"
   ]
  },
  {
   "cell_type": "markdown",
   "id": "reverse-interpretation",
   "metadata": {},
   "source": [
    "# Log2FC only"
   ]
  },
  {
   "cell_type": "code",
   "execution_count": 21,
   "id": "approved-coverage",
   "metadata": {},
   "outputs": [],
   "source": [
    "# flip sign of f1 for cis.\n",
    "\n",
    "# cis: difference of f0 and f1 is less than 1 log2fc, also require that at least one has a log2fc > 1\n",
    "cis = (np.abs(df.loc[:,f0_log2fc_col] - (-df.loc[:,f1_log2fc_col])) < 1) & (np.abs(df.loc[:,f0_log2fc_col]) > 1)\n",
    "\n",
    "# trans: not cis, abs(f0 log2fc) > 1, abs(f1 log2fc) < 1\n",
    "trans = ((~cis) & ((np.abs(df.loc[:,f0_log2fc_col])>1) & ((np.abs(df.loc[:,f1_log2fc_col]) < 1))) )\n",
    "\n",
    "# mixed: not cis or trans, abs(f0 log2fc) < 1, abs(f1 log2fc) > 1\n",
    "mixed = ( (~cis) & ((~trans) & ((np.abs(df.loc[:,f0_log2fc_col]) < 1) & (np.abs(df.loc[:,f1_log2fc_col]) > 1))) )"
   ]
  },
  {
   "cell_type": "code",
   "execution_count": 22,
   "id": "biblical-laser",
   "metadata": {},
   "outputs": [],
   "source": [
    "lists = [cis, trans, mixed]\n",
    "labels = ['cis', 'trans', 'mixed']\n",
    "colors = [viridis(0.6), viridis(0.4), viridis(0.2)]\n",
    "\n",
    "n_cis = cis.sum()\n",
    "n_trans = trans.sum()\n",
    "n_mixed = mixed.sum()\n",
    "n_same = df.shape[0] - (n_cis + n_trans + n_mixed)"
   ]
  },
  {
   "cell_type": "code",
   "execution_count": 23,
   "id": "secret-porcelain",
   "metadata": {},
   "outputs": [],
   "source": [
    "from matplotlib.lines import Line2D\n",
    "legend_elements = [Line2D([0], [0],\n",
    "                          marker='o', color='w',\n",
    "                          label='Same: %i' % n_same,\n",
    "                          markerfacecolor=viridis(0.99),\n",
    "                          markersize=3),\n",
    "                   Line2D([0], [0],\n",
    "                          marker='o', color='w',\n",
    "                          label='Cis: %i' % n_cis,\n",
    "                          markerfacecolor=viridis(0.6),\n",
    "                          markersize=3),\n",
    "                   Line2D([0], [0],\n",
    "                          marker='o', color='w',\n",
    "                          label='Trans: %i' % n_trans,\n",
    "                          markerfacecolor=viridis(0.4),\n",
    "                          markersize=3),\n",
    "                   Line2D([0], [0],\n",
    "                          marker='o', color='w',\n",
    "                          label='Mixed: %i' % n_mixed,\n",
    "                          markerfacecolor=viridis(0.2),\n",
    "                          markersize=3)]"
   ]
  },
  {
   "cell_type": "code",
   "execution_count": 24,
   "id": "direct-northwest",
   "metadata": {
    "scrolled": false
   },
   "outputs": [
    {
     "data": {
      "image/png": "[encoded data removed]",
      "text/plain": [
       "<Figure size 144x144 with 1 Axes>"
      ]
     },
     "metadata": {
      "needs_background": "light"
     },
     "output_type": "display_data"
    }
   ],
   "source": [
    "fig, ax = plt.subplots(figsize=(2,2))\n",
    "\n",
    "# plot bounding lines\n",
    "ax.plot([-10,10], [-10,10], c='k',\n",
    "        linewidth=0.5, zorder=1)\n",
    "ax.axhline(0, c='k', linewidth=0.5,\n",
    "           zorder=1)\n",
    "ax.axvline(0, c='k', linewidth=0.5,\n",
    "           zorder=1)\n",
    "\n",
    "ax.scatter(df.loc[:, f0_log2fc_col],\n",
    "          -df.loc[:, f1_log2fc_col],\n",
    "           s=0.5,\n",
    "           c=[viridis(0.99)],\n",
    "           alpha = 0.2,\n",
    "           rasterized=True,\n",
    "           zorder=2)\n",
    "\n",
    "for peaklist, color in zip(lists, colors):\n",
    "    ax.scatter(df.loc[peaklist, f0_log2fc_col],\n",
    "               -df.loc[peaklist, f1_log2fc_col],\n",
    "               s=0.5,\n",
    "               c=[color],\n",
    "               rasterized=True,\n",
    "               zorder=3)\n",
    "# Hide the right and top spines\n",
    "ax.spines['right'].set_visible(False)\n",
    "ax.spines['top'].set_visible(False)\n",
    "\n",
    "ax.set_xlabel('C57/BALB\\nLog2(FC F0)')\n",
    "ax.set_ylabel('C57/BALB\\nLog2(FC F1)')\n",
    "\n",
    "ax.legend(handles=legend_elements,\n",
    "          fontsize=6,\n",
    "          frameon=False, ncol=1, loc=(-0.05,0.7),\n",
    "          handletextpad=0.05, columnspacing=0.05)\n",
    "\n",
    "ax.set_xlim([-10,10]);\n",
    "ax.set_ylim([-10,10]);\n",
    "\n",
    "plt.savefig('./figures/cis_trans_hunterFCOnly.pdf',\n",
    "            bbox_inches='tight')"
   ]
  },
  {
   "cell_type": "markdown",
   "id": "dominant-ecology",
   "metadata": {},
   "source": [
    "### Extract strain specific info"
   ]
  },
  {
   "cell_type": "code",
   "execution_count": 25,
   "id": "macro-snake",
   "metadata": {},
   "outputs": [],
   "source": [
    "# cis\n",
    "cis_balb = (cis) & (df[f0_log2fc_col] < -fc)\n",
    "cis_c57 = (cis) & (df[f0_log2fc_col] > fc)\n",
    "\n",
    "# trans\n",
    "trans_balb = (trans) & (df[f0_log2fc_col] < -fc)\n",
    "trans_c57 = (trans) & (df[f0_log2fc_col] > fc)\n",
    "\n",
    "# flipped sign for f1\n",
    "mixed_balb = (mixed) & (df[f1_log2fc_col] > fc)\n",
    "mixed_c57 = (mixed) & (df[f1_log2fc_col] < -fc)"
   ]
  },
  {
   "cell_type": "code",
   "execution_count": 26,
   "id": "periodic-cooper",
   "metadata": {},
   "outputs": [],
   "source": [
    "lists = [cis_balb, cis_c57, trans_balb, trans_c57, mixed_balb, mixed_c57]\n",
    "labels = ['cis_balb_hunterFCOnly', 'cis_c57_hunterFCOnly',\n",
    "          'trans_balb_hunterFCOnly', 'trans_c57_hunterFCOnly',\n",
    "          'mixed_balb_hunterFCOnly', 'mixed_c57_hunterFCOnly']"
   ]
  },
  {
   "cell_type": "code",
   "execution_count": 27,
   "id": "romance-pennsylvania",
   "metadata": {},
   "outputs": [],
   "source": [
    "for label, peaklist in zip(labels, lists):\n",
    "    df.loc[peaklist, :].astype(convert_dict).iloc[:, :5].to_csv(\n",
    "        './motif_calling/atac_'+label+'.txt',\n",
    "        sep='\\t')\n",
    "    df_distal.loc[peaklist, :].astype(convert_dict).iloc[:, :5].to_csv(\n",
    "        './motif_calling/atac_'+label+'_distal.txt',\n",
    "        sep='\\t')"
   ]
  },
  {
   "cell_type": "markdown",
   "id": "adaptive-visibility",
   "metadata": {},
   "source": [
    "# Can we filter these subsets by pvalue?\n",
    "* trans should be specific using F0 adjusted p-value\n",
    "* mixed should be specific using F1 adjusted p-value"
   ]
  },
  {
   "cell_type": "code",
   "execution_count": 28,
   "id": "brazilian-planner",
   "metadata": {},
   "outputs": [],
   "source": [
    "# flip sign of f1 for cis.\n",
    "\n",
    "sig_f0 = (df[f0_padj_col] < 0.05)\n",
    "sig_f1 = (df[f1_padj_col] < 0.05)\n",
    "sig_both = (sig_f1 & sig_f0)\n",
    "\n",
    "# cis: difference of f0 and f1 is less than 1 log2fc, also require that at least one has a log2fc > 1\n",
    "cis = ((np.abs(df.loc[:,f0_log2fc_col] - (-df.loc[:,f1_log2fc_col])) < 1) & ((np.abs(df.loc[:,f0_log2fc_col]) > 1) & sig_both) )\n",
    "\n",
    "# trans: not cis, abs(f0 log2fc) > 1, abs(f1 log2fc) < 1\n",
    "trans = ((~cis) & ((np.abs(df.loc[:,f0_log2fc_col])>1) & ((np.abs(df.loc[:,f1_log2fc_col]) < 1))) & sig_f0 )\n",
    "\n",
    "# mixed: not cis or trans, abs(f0 log2fc) < 1, abs(f1 log2fc) > 1\n",
    "mixed = ( (~cis) & ((~trans) & ((np.abs(df.loc[:,f0_log2fc_col]) < 1) & (np.abs(df.loc[:,f1_log2fc_col]) > 1))) & sig_f1 )"
   ]
  },
  {
   "cell_type": "code",
   "execution_count": 29,
   "id": "suspended-corner",
   "metadata": {},
   "outputs": [
    {
     "name": "stdout",
     "output_type": "stream",
     "text": [
      "442\n",
      "1184\n",
      "171\n"
     ]
    }
   ],
   "source": [
    "print(cis.sum())\n",
    "print(trans.sum())\n",
    "print(mixed.sum())"
   ]
  },
  {
   "cell_type": "code",
   "execution_count": 30,
   "id": "informative-sussex",
   "metadata": {},
   "outputs": [],
   "source": [
    "lists = [cis, trans, mixed]\n",
    "labels = ['cis', 'trans', 'mixed']\n",
    "colors = [viridis(0.6), viridis(0.4), viridis(0.2)]\n",
    "\n",
    "n_cis = cis.sum()\n",
    "n_trans = trans.sum()\n",
    "n_mixed = mixed.sum()\n",
    "n_same = df.shape[0] - (n_cis + n_trans + n_mixed)"
   ]
  },
  {
   "cell_type": "code",
   "execution_count": 31,
   "id": "expensive-banner",
   "metadata": {},
   "outputs": [],
   "source": [
    "from matplotlib.lines import Line2D\n",
    "legend_elements = [Line2D([0], [0],\n",
    "                          marker='o', color='w',\n",
    "                          label='Same: %i' % n_same,\n",
    "                          markerfacecolor=viridis(0.99),\n",
    "                          markersize=3),\n",
    "                   Line2D([0], [0],\n",
    "                          marker='o', color='w',\n",
    "                          label='Cis: %i' % n_cis,\n",
    "                          markerfacecolor=viridis(0.6),\n",
    "                          markersize=3),\n",
    "                   Line2D([0], [0],\n",
    "                          marker='o', color='w',\n",
    "                          label='Trans: %i' % n_trans,\n",
    "                          markerfacecolor=viridis(0.4),\n",
    "                          markersize=3),\n",
    "                   Line2D([0], [0],\n",
    "                          marker='o', color='w',\n",
    "                          label='Mixed: %i' % n_mixed,\n",
    "                          markerfacecolor=viridis(0.2),\n",
    "                          markersize=3)]"
   ]
  },
  {
   "cell_type": "code",
   "execution_count": 32,
   "id": "professional-manchester",
   "metadata": {},
   "outputs": [
    {
     "data": {
      "image/png": "[encoded data removed]",
      "text/plain": [
       "<Figure size 144x144 with 1 Axes>"
      ]
     },
     "metadata": {
      "needs_background": "light"
     },
     "output_type": "display_data"
    }
   ],
   "source": [
    "fig, ax = plt.subplots(figsize=(2,2))\n",
    "\n",
    "# plot bounding lines\n",
    "ax.plot([-10,10], [-10,10], c='k',\n",
    "        linewidth=0.5, zorder=1)\n",
    "ax.axhline(0, c='k', linewidth=0.5,\n",
    "           zorder=1)\n",
    "ax.axvline(0, c='k', linewidth=0.5,\n",
    "           zorder=1)\n",
    "\n",
    "ax.scatter(df.loc[:, f0_log2fc_col],\n",
    "          -df.loc[:, f1_log2fc_col],\n",
    "           s=0.5,\n",
    "           c=[viridis(0.99)],\n",
    "           alpha = 0.2,\n",
    "           rasterized=True,\n",
    "           zorder=2)\n",
    "\n",
    "for peaklist, color in zip(lists, colors):\n",
    "    ax.scatter(df.loc[peaklist, f0_log2fc_col],\n",
    "               -df.loc[peaklist, f1_log2fc_col],\n",
    "               s=0.5,\n",
    "               c=[color],\n",
    "               rasterized=True,\n",
    "               zorder=3)\n",
    "# Hide the right and top spines\n",
    "ax.spines['right'].set_visible(False)\n",
    "ax.spines['top'].set_visible(False)\n",
    "\n",
    "ax.set_xlabel('C57/BALB\\nLog2(FC F0)')\n",
    "ax.set_ylabel('C57/BALB\\nLog2(FC F1)')\n",
    "\n",
    "ax.legend(handles=legend_elements,\n",
    "          fontsize=6,\n",
    "          frameon=False, ncol=1, loc=(-0.05,0.7),\n",
    "          handletextpad=0.05, columnspacing=0.05)\n",
    "\n",
    "ax.set_xlim([-10,10]);\n",
    "ax.set_ylim([-10,10]);\n",
    "\n",
    "plt.savefig('./figures/cis_trans_hunterFCThenPadj.pdf',\n",
    "            bbox_inches='tight')"
   ]
  },
  {
   "cell_type": "code",
   "execution_count": 33,
   "id": "beautiful-checklist",
   "metadata": {},
   "outputs": [],
   "source": [
    "# cis\n",
    "cis_balb = (cis) & (df[f0_log2fc_col] < -fc)\n",
    "cis_c57 = (cis) & (df[f0_log2fc_col] > fc)\n",
    "\n",
    "# trans\n",
    "trans_balb = (trans) & (df[f0_log2fc_col] < -fc)\n",
    "trans_c57 = (trans) & (df[f0_log2fc_col] > fc)\n",
    "\n",
    "# flipped sign for f1\n",
    "mixed_balb = (mixed) & (df[f1_log2fc_col] > fc)\n",
    "mixed_c57 = (mixed) & (df[f1_log2fc_col] < -fc)"
   ]
  },
  {
   "cell_type": "code",
   "execution_count": 34,
   "id": "commercial-welding",
   "metadata": {},
   "outputs": [],
   "source": [
    "lists = [cis_balb, cis_c57, trans_balb, trans_c57, mixed_balb, mixed_c57]\n",
    "labels = ['cis_balb_hunterFCThenPadj', 'cis_c57_hunterFCThenPadj',\n",
    "          'trans_balb_hunterFCThenPadj', 'trans_c57_hunterFCThenPadj',\n",
    "          'mixed_balb_hunterFCThenPadj', 'mixed_c57_hunterFCThenPadj']"
   ]
  },
  {
   "cell_type": "code",
   "execution_count": 35,
   "id": "loving-devices",
   "metadata": {},
   "outputs": [],
   "source": [
    "for label, peaklist in zip(labels, lists):\n",
    "    df.loc[peaklist, :].astype(convert_dict).iloc[:, :5].to_csv(\n",
    "        './motif_calling/atac_'+label+'.txt',\n",
    "        sep='\\t')\n",
    "    df_distal.loc[peaklist, :].astype(convert_dict).iloc[:, :5].to_csv(\n",
    "        './motif_calling/atac_'+label+'_distal.txt',\n",
    "        sep='\\t')"
   ]
  },
  {
   "cell_type": "code",
   "execution_count": 36,
   "id": "standing-drain",
   "metadata": {},
   "outputs": [],
   "source": [
    "strain_dict = {'c57': 'c57bl6j',\n",
    "               'balb': 'balbcj',\n",
    "               'aj': 'aj'}\n",
    "\n",
    "# background set all peaks that were considered as differential\n",
    "all_peaks = './peakQuan/allPeaksF1F0.txt' \n",
    "all_peaks_distal = './peakQuan/allPeaksF1F0_distal.txt' \n",
    "\n",
    "with open('./findMotifs_differential_mixed.sh', 'w') as f:\n",
    "    for peakfile in np.sort(glob.glob('./motif_calling/atac*mixed*.txt')):\n",
    "        strain = peakfile.split('/')[-1].split('_')[2]\n",
    "        if 'distal' in peakfile:\n",
    "            call = ['/home/vlink/code/marge/bin/MMARGE.pl', 'denovo_motifs',\n",
    "                    peakfile, 'mm10', peakfile.replace('.txt', '_motifs'),\n",
    "                    '-bg', all_peaks_distal,\n",
    "                    '-len 8,10,12,14,16', '-fg_strain', strain_dict[strain],\n",
    "                    '-bg_strain', strain_dict[strain], '-p 8\\n\\n']\n",
    "        else:\n",
    "            call = ['/home/vlink/code/marge/bin/MMARGE.pl', 'denovo_motifs',\n",
    "                    peakfile, 'mm10', peakfile.replace('.txt', '_motifs'),\n",
    "                    '-bg', all_peaks,\n",
    "                    '-len 8,10,12,14,16', '-fg_strain', strain_dict[strain],\n",
    "                    '-bg_strain', strain_dict[strain], '-p 8F\\n\\n']\n",
    "        f.write(' '.join(call))"
   ]
  },
  {
   "cell_type": "code",
   "execution_count": 37,
   "id": "banner-kingdom",
   "metadata": {},
   "outputs": [],
   "source": [
    "strain_dict = {'c57': 'c57bl6j',\n",
    "               'balb': 'balbcj',\n",
    "               'aj': 'aj'}\n",
    "\n",
    "# background set all peaks that were considered as differential\n",
    "all_peaks = './peakQuan/allPeaksF1F0.txt' \n",
    "all_peaks_distal = './peakQuan/allPeaksF1F0_distal.txt' \n",
    "\n",
    "with open('./findMotifs_differential_cis.sh', 'w') as f:\n",
    "    for peakfile in np.sort(glob.glob('./motif_calling/atac*cis*.txt')):\n",
    "        strain = peakfile.split('/')[-1].split('_')[2]\n",
    "        if 'distal' in peakfile:\n",
    "            call = ['/home/vlink/code/marge/bin/MMARGE.pl', 'denovo_motifs',\n",
    "                    peakfile, 'mm10', peakfile.replace('.txt', '_motifs'),\n",
    "                    '-bg', all_peaks_distal,\n",
    "                    '-len 8,10,12,14,16', '-fg_strain', strain_dict[strain],\n",
    "                    '-bg_strain', strain_dict[strain], '-p 8\\n\\n']\n",
    "        else:\n",
    "            call = ['/home/vlink/code/marge/bin/MMARGE.pl', 'denovo_motifs',\n",
    "                    peakfile, 'mm10', peakfile.replace('.txt', '_motifs'),\n",
    "                    '-bg', all_peaks,\n",
    "                    '-len 8,10,12,14,16', '-fg_strain', strain_dict[strain],\n",
    "                    '-bg_strain', strain_dict[strain], '-p 8F\\n\\n']\n",
    "        f.write(' '.join(call))"
   ]
  },
  {
   "cell_type": "code",
   "execution_count": 38,
   "id": "acoustic-metallic",
   "metadata": {},
   "outputs": [],
   "source": [
    "strain_dict = {'c57': 'c57bl6j',\n",
    "               'balb': 'balbcj',\n",
    "               'aj': 'aj'}\n",
    "\n",
    "# background set all peaks that were considered as differential\n",
    "all_peaks = './peakQuan/allPeaksF1F0.txt' \n",
    "all_peaks_distal = './peakQuan/allPeaksF1F0_distal.txt' \n",
    "\n",
    "with open('./findMotifs_differential_trans.sh', 'w') as f:\n",
    "    for peakfile in np.sort(glob.glob('./motif_calling/atac*trans*.txt')):\n",
    "        strain = peakfile.split('/')[-1].split('_')[2]\n",
    "        if 'distal' in peakfile:\n",
    "            call = ['/home/vlink/code/marge/bin/MMARGE.pl', 'denovo_motifs',\n",
    "                    peakfile, 'mm10', peakfile.replace('.txt', '_motifs'),\n",
    "                    '-bg', all_peaks_distal,\n",
    "                    '-len 8,10,12,14,16', '-fg_strain', strain_dict[strain],\n",
    "                    '-bg_strain', strain_dict[strain], '-p 4\\n\\n']\n",
    "        else:\n",
    "            call = ['/home/vlink/code/marge/bin/MMARGE.pl', 'denovo_motifs',\n",
    "                    peakfile, 'mm10', peakfile.replace('.txt', '_motifs'),\n",
    "                    '-bg', all_peaks,\n",
    "                    '-len 8,10,12,14,16', '-fg_strain', strain_dict[strain],\n",
    "                    '-bg_strain', strain_dict[strain], '-p 4\\n\\n']\n",
    "        f.write(' '.join(call))"
   ]
  },
  {
   "cell_type": "code",
   "execution_count": 39,
   "id": "worst-sweet",
   "metadata": {
    "scrolled": false
   },
   "outputs": [
    {
     "name": "stdout",
     "output_type": "stream",
     "text": [
      "/home/vlink/code/marge/bin/MMARGE.pl denovo_motifs ./motif_calling/atac_trans_balb_hunterFCOnly.txt mm10 ./motif_calling/atac_trans_balb_hunterFCOnly_motifs -bg ./peakQuan/allPeaksF1F0.txt -len 8,10,12,14,16 -fg_strain balbcj -bg_strain balbcj -p 4\r\n",
      "\r\n",
      "/home/vlink/code/marge/bin/MMARGE.pl denovo_motifs ./motif_calling/atac_trans_balb_hunterFCOnly_distal.txt mm10 ./motif_calling/atac_trans_balb_hunterFCOnly_distal_motifs -bg ./peakQuan/allPeaksF1F0_distal.txt -len 8,10,12,14,16 -fg_strain balbcj -bg_strain balbcj -p 4\r\n",
      "\r\n",
      "/home/vlink/code/marge/bin/MMARGE.pl denovo_motifs ./motif_calling/atac_trans_balb_hunterFCThenPadj.txt mm10 ./motif_calling/atac_trans_balb_hunterFCThenPadj_motifs -bg ./peakQuan/allPeaksF1F0.txt -len 8,10,12,14,16 -fg_strain balbcj -bg_strain balbcj -p 4\r\n",
      "\r\n",
      "/home/vlink/code/marge/bin/MMARGE.pl denovo_motifs ./motif_calling/atac_trans_balb_hunterFCThenPadj_distal.txt mm10 ./motif_calling/atac_trans_balb_hunterFCThenPadj_distal_motifs -bg ./peakQuan/allPeaksF1F0_distal.txt -len 8,10,12,14,16 -fg_strain balbcj -bg_strain balbcj -p 4\r\n",
      "\r\n",
      "/home/vlink/code/marge/bin/MMARGE.pl denovo_motifs ./motif_calling/atac_trans_balb_tyMethod.txt mm10 ./motif_calling/atac_trans_balb_tyMethod_motifs -bg ./peakQuan/allPeaksF1F0.txt -len 8,10,12,14,16 -fg_strain balbcj -bg_strain balbcj -p 4\r\n",
      "\r\n",
      "/home/vlink/code/marge/bin/MMARGE.pl denovo_motifs ./motif_calling/atac_trans_balb_tyMethodFiltPval.txt mm10 ./motif_calling/atac_trans_balb_tyMethodFiltPval_motifs -bg ./peakQuan/allPeaksF1F0.txt -len 8,10,12,14,16 -fg_strain balbcj -bg_strain balbcj -p 4\r\n",
      "\r\n",
      "/home/vlink/code/marge/bin/MMARGE.pl denovo_motifs ./motif_calling/atac_trans_balb_tyMethodFiltPval_distal.txt mm10 ./motif_calling/atac_trans_balb_tyMethodFiltPval_distal_motifs -bg ./peakQuan/allPeaksF1F0_distal.txt -len 8,10,12,14,16 -fg_strain balbcj -bg_strain balbcj -p 4\r\n",
      "\r\n",
      "/home/vlink/code/marge/bin/MMARGE.pl denovo_motifs ./motif_calling/atac_trans_balb_tyMethod_distal.txt mm10 ./motif_calling/atac_trans_balb_tyMethod_distal_motifs -bg ./peakQuan/allPeaksF1F0_distal.txt -len 8,10,12,14,16 -fg_strain balbcj -bg_strain balbcj -p 4\r\n",
      "\r\n",
      "/home/vlink/code/marge/bin/MMARGE.pl denovo_motifs ./motif_calling/atac_trans_c57_hunterFCOnly.txt mm10 ./motif_calling/atac_trans_c57_hunterFCOnly_motifs -bg ./peakQuan/allPeaksF1F0.txt -len 8,10,12,14,16 -fg_strain c57bl6j -bg_strain c57bl6j -p 4\r\n",
      "\r\n",
      "/home/vlink/code/marge/bin/MMARGE.pl denovo_motifs ./motif_calling/atac_trans_c57_hunterFCOnly_distal.txt mm10 ./motif_calling/atac_trans_c57_hunterFCOnly_distal_motifs -bg ./peakQuan/allPeaksF1F0_distal.txt -len 8,10,12,14,16 -fg_strain c57bl6j -bg_strain c57bl6j -p 4\r\n",
      "\r\n",
      "/home/vlink/code/marge/bin/MMARGE.pl denovo_motifs ./motif_calling/atac_trans_c57_hunterFCThenPadj.txt mm10 ./motif_calling/atac_trans_c57_hunterFCThenPadj_motifs -bg ./peakQuan/allPeaksF1F0.txt -len 8,10,12,14,16 -fg_strain c57bl6j -bg_strain c57bl6j -p 4\r\n",
      "\r\n",
      "/home/vlink/code/marge/bin/MMARGE.pl denovo_motifs ./motif_calling/atac_trans_c57_hunterFCThenPadj_distal.txt mm10 ./motif_calling/atac_trans_c57_hunterFCThenPadj_distal_motifs -bg ./peakQuan/allPeaksF1F0_distal.txt -len 8,10,12,14,16 -fg_strain c57bl6j -bg_strain c57bl6j -p 4\r\n",
      "\r\n",
      "/home/vlink/code/marge/bin/MMARGE.pl denovo_motifs ./motif_calling/atac_trans_c57_tyMethod.txt mm10 ./motif_calling/atac_trans_c57_tyMethod_motifs -bg ./peakQuan/allPeaksF1F0.txt -len 8,10,12,14,16 -fg_strain c57bl6j -bg_strain c57bl6j -p 4\r\n",
      "\r\n",
      "/home/vlink/code/marge/bin/MMARGE.pl denovo_motifs ./motif_calling/atac_trans_c57_tyMethodFiltPval.txt mm10 ./motif_calling/atac_trans_c57_tyMethodFiltPval_motifs -bg ./peakQuan/allPeaksF1F0.txt -len 8,10,12,14,16 -fg_strain c57bl6j -bg_strain c57bl6j -p 4\r\n",
      "\r\n",
      "/home/vlink/code/marge/bin/MMARGE.pl denovo_motifs ./motif_calling/atac_trans_c57_tyMethodFiltPval_distal.txt mm10 ./motif_calling/atac_trans_c57_tyMethodFiltPval_distal_motifs -bg ./peakQuan/allPeaksF1F0_distal.txt -len 8,10,12,14,16 -fg_strain c57bl6j -bg_strain c57bl6j -p 4\r\n",
      "\r\n",
      "/home/vlink/code/marge/bin/MMARGE.pl denovo_motifs ./motif_calling/atac_trans_c57_tyMethod_distal.txt mm10 ./motif_calling/atac_trans_c57_tyMethod_distal_motifs -bg ./peakQuan/allPeaksF1F0_distal.txt -len 8,10,12,14,16 -fg_strain c57bl6j -bg_strain c57bl6j -p 4\r\n",
      "\r\n"
     ]
    }
   ],
   "source": [
    "!cat findMotifs_differential_trans.sh"
   ]
  },
  {
   "cell_type": "code",
   "execution_count": null,
   "id": "pregnant-flower",
   "metadata": {},
   "outputs": [],
   "source": []
  }
 ],
 "metadata": {
  "kernelspec": {
   "display_name": "dataviz",
   "language": "python",
   "name": "dataviz"
  },
  "language_info": {
   "codemirror_mode": {
    "name": "ipython",
    "version": 3
   },
   "file_extension": ".py",
   "mimetype": "text/x-python",
   "name": "python",
   "nbconvert_exporter": "python",
   "pygments_lexer": "ipython3",
   "version": "3.7.5"
  }
 },
 "nbformat": 4,
 "nbformat_minor": 5
}
