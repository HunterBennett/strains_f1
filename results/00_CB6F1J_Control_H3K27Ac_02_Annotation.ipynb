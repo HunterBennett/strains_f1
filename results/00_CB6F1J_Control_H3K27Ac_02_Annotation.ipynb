{
 "cells": [
  {
   "cell_type": "markdown",
   "metadata": {},
   "source": [
    "Hunter Bennett | Glass Lab | Kupffer Strains Project | 04 June 2021"
   ]
  },
  {
   "cell_type": "code",
   "execution_count": 1,
   "metadata": {},
   "outputs": [],
   "source": [
    "### header ###\n",
    "__author__ = \"Hunter Bennett\"\n",
    "__license__ = \"BSD\"\n",
    "__email__ = \"hunter.r.bennett@gmail.com\"\n",
    "%load_ext autoreload\n",
    "%autoreload 2\n",
    "### imports ###\n",
    "import sys\n",
    "%matplotlib inline\n",
    "import os\n",
    "import re\n",
    "import glob\n",
    "import pandas as pd\n",
    "import numpy as np\n",
    "import matplotlib\n",
    "import matplotlib.pyplot as plt \n",
    "import matplotlib_venn as venn\n",
    "import seaborn as sns\n",
    "# # get matplotlib to save readable fonts\n",
    "matplotlib.rcParams['pdf.fonttype'] = 42\n",
    "matplotlib.rcParams['ps.fonttype'] = 42\n",
    "matplotlib.rcParams['savefig.dpi'] = 500\n",
    "\n",
    "\n",
    "# import custom functions\n",
    "import sys\n",
    "sys.path.insert(0, '/home/h1bennet/code/')\n",
    "from hbUtils import ngs_qc, quantile_normalize_df\n",
    "from plotting_scripts import label_point, pca_rpkm_mat\n",
    "from homer_preprocessing import read_annotated_peaks"
   ]
  },
  {
   "cell_type": "markdown",
   "metadata": {},
   "source": [
    "# Set working directory"
   ]
  },
  {
   "cell_type": "code",
   "execution_count": 2,
   "metadata": {},
   "outputs": [],
   "source": [
    "dataDirectory = '/home/h1bennet/strains/data/H3K27Ac/control_f1/'\n",
    "workingDirectory = '/home/h1bennet/strains_f1/results/00_CB6F1_Control/'\n",
    "if not os.path.isdir(workingDirectory):\n",
    "    os.mkdir(workingDirectory)\n",
    "os.chdir(workingDirectory)\n"
   ]
  },
  {
   "cell_type": "markdown",
   "metadata": {},
   "source": [
    "# We will start by using O'young's script to get the IDR peaks for each condition\n",
    "____\n",
    "We already made these for the QC notebook!  \n",
    "\n",
    "The output of peakIDR.R includes many things, the main thing we use are the final .idr peak files for each group\n"
   ]
  },
  {
   "cell_type": "markdown",
   "metadata": {},
   "source": [
    "# Run peakIDR.R"
   ]
  },
  {
   "cell_type": "markdown",
   "metadata": {},
   "source": [
    "    source activate r-ouyangPipe\n",
    "    \n",
    "    mkdir ./peakQuan/\n",
    "\n",
    "    mkdir ./peakDiff/\n",
    "\n",
    "    nohup peakQuan.R ./sampleDef.txt -o ./peakQuan/ -g mm10 -a chip \\\n",
    "    -p ~/strains_f1/data/annotate_mutations_merge_f0_f1.idr \\\n",
    "    --homer='-size 1000 -pc 0' > peakQuan.nohup.out\n",
    "\n",
    "    nohup peakDiff.R ./sampleDef.txt -o ./peakDiff/ -g mm10 -a atac \\\n",
    "    -q ./peakQuan/allRawTags.txt > peakDiff.nohup.out\n",
    "    \n",
    "In a fun turn of events, our allele specific bias calls appear to be quite sensitive to clonality, so we will see whether using -pc 3 can help improve our results\n",
    "\n",
    "    nohup peakQuan.R ./sampleDef.txt -o ./peakQuan_pc3/ -g mm10 -a chip \\\n",
    "    -p ~/strains_f1/data/annotate_mutations_merge_f0_f1.idr \\\n",
    "    --homer='-size 1000' > peakQuan_pc3.nohup.out\n"
   ]
  },
  {
   "cell_type": "markdown",
   "metadata": {},
   "source": [
    "# Make multiwig hub of merged peaks"
   ]
  },
  {
   "cell_type": "markdown",
   "metadata": {},
   "source": [
    "    makeMultiWigHub.pl hrb_strains_f1_h3k27ac_merged mm10 \\\n",
    "    -color 49,163,84 49,130,189 \\\n",
    "    49,163,84 49,130,189 \\\n",
    "    -force -d \\\n",
    "    /home/h1bennet/strains_f1/results/00_CB6F1_Control/peakQuan/mergeTag/perfect_c57bl6j_control_paths/ \\\n",
    "    /home/h1bennet/strains_f1/results/00_CB6F1_Control/peakQuan/mergeTag/perfect_balbcj_control_paths/ \\\n",
    "    /home/h1bennet/strains_f1/results/00_CB6F1_Control/peakQuan/mergeTag/onlymuts_c57bl6j_paths/ \\\n",
    "    /home/h1bennet/strains_f1/results/00_CB6F1_Control/peakQuan/mergeTag/onlymuts_balbcj_paths/"
   ]
  },
  {
   "cell_type": "code",
   "execution_count": 3,
   "metadata": {},
   "outputs": [],
   "source": [
    "# %%bash\n",
    "# # if directories don't exist, create them\n",
    "# if [ ! -d ./atac_peak_files/ ]; then mkdir ./atac_peak_files; fi\n",
    "# # move IDR peaks into atac_peak_folder\n",
    "# mv *kupffer*.idr ./atac_peak_files"
   ]
  },
  {
   "cell_type": "markdown",
   "metadata": {},
   "source": [
    "### convert to bed files"
   ]
  },
  {
   "cell_type": "markdown",
   "metadata": {},
   "source": [
    "    mkdir ./atac_bed_files\n",
    "    pos2bed.pl -o ./atac_bed_files/f0_f1_idr_peaks.bed \\\n",
    "    -track \"F0 F1 IDR Peaks Merged\" ~/strains_f1/data/annotate_mutations_merge_f0_f1.idr\n",
    "    \n",
    "    pos2bed.pl -o ./atac_bed_files/f0_f1_idr_peaks_with_mutation.bed \\\n",
    "    -track \"F0 F1 IDR Peaks Mutated C57 to BALB\" ~/strains_f1/data/mutations_annotate_mutations_merge_f0_f1.idr"
   ]
  },
  {
   "cell_type": "markdown",
   "metadata": {},
   "source": [
    "# Summary plots"
   ]
  },
  {
   "cell_type": "code",
   "execution_count": 4,
   "metadata": {},
   "outputs": [],
   "source": [
    "# make folder for figures\n",
    "if not os.path.isdir('./figures'):\n",
    "    os.mkdir('./figures')"
   ]
  },
  {
   "cell_type": "markdown",
   "metadata": {},
   "source": [
    "### Read in annotation files"
   ]
  },
  {
   "cell_type": "code",
   "execution_count": 5,
   "metadata": {},
   "outputs": [],
   "source": [
    "# import annotation file\n",
    "df, mat = read_annotated_peaks('./peakQuan/allNormTags.txt')\n",
    "\n",
    "# shorten columns to make labeling nicer\n",
    "mat.columns = mat.columns.str.split('/').str[-1]\n",
    "\n",
    "# quantile normalize data\n",
    "mat_quant = quantile_normalize_df(mat)"
   ]
  },
  {
   "cell_type": "markdown",
   "metadata": {},
   "source": [
    "Lets start by looking at the peak intensity distribution for each sample."
   ]
  },
  {
   "cell_type": "code",
   "execution_count": 6,
   "metadata": {},
   "outputs": [],
   "source": [
    "greps = ['tag_perfect.*mm10',\n",
    "         'tag_perfect.*balbcj',\n",
    "         'tag_only.*mm10',\n",
    "         'tag_only.*balbcj']\n",
    "\n",
    "labels = ['C57BL6J Tag Perfect',\n",
    "          'BALBcJ Tag Perfect',\n",
    "          'C57BL6J Mutation Spanning',\n",
    "          'BALBcJ Mutation Spanning']\n",
    "\n",
    "colors = ['#31a354',\n",
    "          '#3182bd',\n",
    "          '#006d2c',\n",
    "          '#08519c']\n",
    "\n",
    "n_bins=20\n",
    "transparency=0.6"
   ]
  },
  {
   "cell_type": "code",
   "execution_count": 7,
   "metadata": {},
   "outputs": [
    {
     "data": {
      "image/png": "[encoded data removed]",
      "text/plain": [
       "<Figure size 432x432 with 4 Axes>"
      ]
     },
     "metadata": {
      "needs_background": "light"
     },
     "output_type": "display_data"
    }
   ],
   "source": [
    "fig, axs = plt.subplots(2, 2, figsize=(6,6),\n",
    "                        sharex=True,\n",
    "                        sharey=True)\n",
    "# plt.subplots_adjust(hspace=0.4, wspace=0.4)\n",
    "\n",
    "for grep, label, color, ax in zip(greps, labels, colors, axs.flat):\n",
    "    \n",
    "    for col in mat.columns[mat.columns.str.contains(grep)]:\n",
    "        ax.hist(np.log2(mat.loc[:, col]+1),\n",
    "                bins=n_bins,\n",
    "                histtype='bar',\n",
    "                color=color,\n",
    "                alpha=transparency);\n",
    "        ax.set_title(label, fontsize=10)"
   ]
  },
  {
   "cell_type": "markdown",
   "metadata": {},
   "source": [
    "Zeros appear to dominate the above plot so lets try while filtering out peaks with less than 4 tag counts"
   ]
  },
  {
   "cell_type": "code",
   "execution_count": 8,
   "metadata": {},
   "outputs": [
    {
     "data": {
      "image/png": "[encoded data removed]",
      "text/plain": [
       "<Figure size 432x432 with 4 Axes>"
      ]
     },
     "metadata": {
      "needs_background": "light"
     },
     "output_type": "display_data"
    }
   ],
   "source": [
    "fig, axs = plt.subplots(2, 2, figsize=(6,6),\n",
    "                        sharex=True,\n",
    "                        sharey=True)\n",
    "# plt.subplots_adjust(hspace=0.4, wspace=0.4)\n",
    "\n",
    "for grep, label, color, ax in zip(greps, labels, colors, axs.flat):\n",
    "    \n",
    "    for col in mat.columns[mat.columns.str.contains(grep)]:\n",
    "        ax.hist(np.log2(mat.loc[:, col]+1),\n",
    "                bins=n_bins,\n",
    "                histtype='bar',\n",
    "                color=color,\n",
    "                alpha=transparency,\n",
    "                range=[4,12]);\n",
    "        ax.set_title(label, fontsize=10)\n",
    "        \n",
    "                \n",
    "plt.savefig('./figures/perfect_vs_mutation_distribution_comparison.pdf',\n",
    "            bbox_inches='tight')"
   ]
  },
  {
   "cell_type": "markdown",
   "metadata": {},
   "source": [
    "### How do they look when plotted in a pairwise fashion?"
   ]
  },
  {
   "cell_type": "code",
   "execution_count": 9,
   "metadata": {},
   "outputs": [],
   "source": [
    "from itertools import combinations, permutations\n",
    "from scipy.stats import pearsonr"
   ]
  },
  {
   "cell_type": "code",
   "execution_count": 10,
   "metadata": {},
   "outputs": [
    {
     "data": {
      "image/png": "[encoded data removed]",
      "text/plain": [
       "<Figure size 432x216 with 2 Axes>"
      ]
     },
     "metadata": {
      "needs_background": "light"
     },
     "output_type": "display_data"
    }
   ],
   "source": [
    "fig, axs = plt.subplots(1, 2, figsize=(6,3),\n",
    "                        sharex=True,\n",
    "                        sharey=True)\n",
    "\n",
    "axs[0].scatter(np.log2(mat.loc[:, mat.columns.str.contains('tag_perfect.*mm10')].mean(1)+1),\n",
    "               np.log2(mat.loc[:, mat.columns.str.contains('tag_perfect.*balbcj')].mean(1)+1),\n",
    "               s=2,\n",
    "               rasterized=True)\n",
    "\n",
    "axs[0].text(0.5,11.5, 'R: %.2f' % pearsonr(\n",
    "    np.log2(mat.loc[:, mat.columns.str.contains('tag_perfect.*mm10')].mean(1)+1),\n",
    "    np.log2(mat.loc[:, mat.columns.str.contains('tag_perfect.*balbcj')].mean(1)+1))[0],\n",
    "    fontsize=10)\n",
    "\n",
    "axs[0].set_xlabel('C57 Aligned Tags')\n",
    "axs[0].set_ylabel('BALB Aligned Tags')\n",
    "axs[0].set_title('Perfectly Aligned')\n",
    "\n",
    "axs[1].scatter(np.log2(mat.loc[:, mat.columns.str.contains('tag_only.*mm10')].mean(1)+1),\n",
    "               np.log2(mat.loc[:, mat.columns.str.contains('tag_only.*balbcj')].mean(1)+1),\n",
    "               s=2,\n",
    "               rasterized=True)\n",
    "\n",
    "axs[1].text(0.5,11.5, 'R: %.2f' % pearsonr(\n",
    "    np.log2(mat.loc[:, mat.columns.str.contains('tag_only.*mm10')].mean(1)+1),\n",
    "    np.log2(mat.loc[:, mat.columns.str.contains('tag_only.*balbcj')].mean(1)+1))[0],\n",
    "    fontsize=10)\n",
    "\n",
    "axs[1].set_xlabel('C57 Aligned Tags')\n",
    "# axs[1].set_ylabel('BALB Aligned Tags')\n",
    "axs[1].set_title('Mutation Spanning')\n",
    "\n",
    "plt.savefig('./figures/perfect_vs_mutation_scatter_comparison.pdf',\n",
    "            bbox_inches='tight')"
   ]
  },
  {
   "cell_type": "code",
   "execution_count": null,
   "metadata": {},
   "outputs": [],
   "source": []
  }
 ],
 "metadata": {
  "kernelspec": {
   "display_name": "dataviz",
   "language": "python",
   "name": "dataviz"
  },
  "language_info": {
   "codemirror_mode": {
    "name": "ipython",
    "version": 3
   },
   "file_extension": ".py",
   "mimetype": "text/x-python",
   "name": "python",
   "nbconvert_exporter": "python",
   "pygments_lexer": "ipython3",
   "version": "3.7.5"
  }
 },
 "nbformat": 4,
 "nbformat_minor": 2
}
