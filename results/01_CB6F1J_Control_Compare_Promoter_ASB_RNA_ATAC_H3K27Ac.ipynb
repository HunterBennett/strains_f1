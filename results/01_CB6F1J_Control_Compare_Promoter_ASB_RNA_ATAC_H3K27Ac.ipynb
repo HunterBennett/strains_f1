{
 "cells": [
  {
   "cell_type": "markdown",
   "id": "endangered-liability",
   "metadata": {},
   "source": [
    "Hunter Bennett | Glass Lab | 15 June 2021"
   ]
  },
  {
   "cell_type": "code",
   "execution_count": 1,
   "id": "radio-password",
   "metadata": {},
   "outputs": [],
   "source": [
    "### header ###\n",
    "__author__ = \"Hunter Bennett\"\n",
    "__license__ = \"BSD\"\n",
    "__email__ = \"hunter.r.bennett@gmail.com\"\n",
    "%load_ext autoreload\n",
    "%autoreload 2\n",
    "### imports ###\n",
    "import sys\n",
    "%matplotlib inline\n",
    "import os\n",
    "import re\n",
    "import glob\n",
    "import pandas as pd\n",
    "import numpy as np\n",
    "import matplotlib\n",
    "import matplotlib.pyplot as plt \n",
    "import seaborn as sns\n",
    "from scipy.stats import pearsonr # for correlation\n",
    "\n",
    "# import custom functions\n",
    "import sys\n",
    "sys.path.insert(0, '/home/h1bennet/code/')\n",
    "from hbUtils import ngs_qc, quantile_normalize_df\n",
    "from plotting_scripts import label_point, pca_rpkm_mat, get_diff_volcano\n",
    "from homer_preprocessing import import_homer_diffgene, read_annotated_peaks, import_homer_diffpeak, pull_comparisons_get_diff"
   ]
  },
  {
   "cell_type": "code",
   "execution_count": 2,
   "id": "finite-payroll",
   "metadata": {},
   "outputs": [],
   "source": [
    "#### PLOTTING PARAMETERS FOR MANUSCRIPT ####\n",
    "# # get matplotlib to save readable fonts\n",
    "matplotlib.rcParams['pdf.fonttype'] = 42\n",
    "matplotlib.rcParams['ps.fonttype'] = 42\n",
    "matplotlib.rcParams['font.size'] = 6\n",
    "matplotlib.rcParams['savefig.dpi'] = 500\n",
    "\n",
    "\n",
    "# line widths\n",
    "matplotlib.rcParams['axes.linewidth'] = 1\n",
    "matplotlib.rcParams['xtick.major.width'] = 1\n",
    "matplotlib.rcParams['ytick.major.width'] = 1\n",
    "\n",
    "# adjust defualt color for plots to black\n",
    "# normal default is a dark gray\n",
    "COLOR = 'black'\n",
    "matplotlib.rcParams['text.color'] = COLOR\n",
    "matplotlib.rcParams['axes.labelcolor'] = COLOR\n",
    "matplotlib.rcParams['xtick.color'] = COLOR\n",
    "matplotlib.rcParams['ytick.color'] = COLOR\n",
    "matplotlib.rcParams['axes.edgecolor'] = COLOR\n",
    "\n",
    "#### PLOT PARAMETERS FOR THIS PLOT ####"
   ]
  },
  {
   "cell_type": "code",
   "execution_count": 3,
   "id": "medium-radiation",
   "metadata": {},
   "outputs": [],
   "source": [
    "atacDirectory = '/home/h1bennet/strains/data/ATAC/control_f1/'\n",
    "h3k27acDirectory = '/home/h1bennet/strains/data/H3K27Ac/control_f1/'\n",
    "workingDirectory = '/home/h1bennet/strains_f1/results/01_CB6F1_MultiOmic/'\n",
    "if not os.path.isdir(workingDirectory):\n",
    "    os.mkdir(workingDirectory)\n",
    "os.chdir(workingDirectory)"
   ]
  },
  {
   "cell_type": "code",
   "execution_count": 4,
   "id": "worldwide-choice",
   "metadata": {},
   "outputs": [],
   "source": [
    "atac_balb = np.sort(glob.glob(atacDirectory+'/*only_muts*balbcj*'))\n",
    "atac_c57 = np.sort(glob.glob(atacDirectory+'/*only_muts*mm10*'))\n",
    "h3k27ac_balb = np.sort(glob.glob(h3k27acDirectory+'/*only_muts*balbcj*'))\n",
    "h3k27ac_c57 = np.sort(glob.glob(h3k27acDirectory+'/*only_muts*mm10*'))\n",
    "\n",
    "tagdirs = list(atac_balb) + list(atac_c57) + list(h3k27ac_balb) + list(h3k27ac_c57)"
   ]
  },
  {
   "cell_type": "code",
   "execution_count": 5,
   "id": "positive-senate",
   "metadata": {
    "scrolled": true
   },
   "outputs": [],
   "source": [
    "with open('./annotatePromoters_homer_new.sh', 'w') as f:\n",
    "    annotate_prom = ['annotatePeaks.pl', 'tss', 'mm10', '-d \\\\\\n',\n",
    "                       ' \\\\\\n'.join(tagdirs), '>',\n",
    "                       './mm10_promoters_f1_atac_h3k27ac_new.txt &\\n\\n']\n",
    "\n",
    "    \n",
    "    f.write(' '.join(annotate_prom))    \n",
    "    \n",
    "    f.close()"
   ]
  },
  {
   "cell_type": "code",
   "execution_count": 6,
   "id": "racial-christianity",
   "metadata": {},
   "outputs": [],
   "source": [
    "with open('./annotatePromoters_homer_pc3.sh', 'w') as f:\n",
    "    annotate_prom = ['annotatePeaks.pl', 'tss', 'mm10', '-pc 3', '-d \\\\\\n',\n",
    "                       ' \\\\\\n'.join(tagdirs), '>',\n",
    "                       './mm10_promoters_f1_atac_h3k27ac_pc3.txt &\\n\\n']\n",
    "\n",
    "    \n",
    "    f.write(' '.join(annotate_prom))    \n",
    "    \n",
    "    f.close()"
   ]
  },
  {
   "cell_type": "markdown",
   "id": "close-federal",
   "metadata": {},
   "source": [
    "# read in annotated peaks"
   ]
  },
  {
   "cell_type": "code",
   "execution_count": 7,
   "id": "possible-permit",
   "metadata": {},
   "outputs": [],
   "source": [
    "df = pd.read_csv('./mm10_promoters_f1_atac_h3k27ac_onlymuts.txt',\n",
    "                 sep='\\t', index_col=0)\n",
    "df.index = df.index.rename('RefseqID')\n",
    "df = df.reset_index().set_index('Gene Name')\n",
    "\n",
    "df_mat = df.loc[:, df.columns.str.contains('Tag Count in given bp')]\n",
    "# clean columns\n",
    "df_mat.columns = df_mat.columns.str.split('/').str[-1]"
   ]
  },
  {
   "cell_type": "markdown",
   "id": "thermal-instruction",
   "metadata": {},
   "source": [
    "## Filter low tag promoters\n",
    "For some reason nan are showing up here... should figure out eventually"
   ]
  },
  {
   "cell_type": "code",
   "execution_count": 8,
   "id": "removable-synthetic",
   "metadata": {},
   "outputs": [
    {
     "name": "stdout",
     "output_type": "stream",
     "text": [
      "c57bl6j_atac_average\n",
      "Index(['tag_only_muts_mouse_cb6f1j_Male_Kupffer_ATAC_Chow_healthyoung_CB61A_TDT_l20210213_CTAGTACG_TCGACTAG_S7_L001_trim30.mm10.bowtie2.sam Tag Count in given bp (2285795.0 Total, normalization factor = 4.37, effective total = 10000000)',\n",
      "       'tag_only_muts_mouse_cb6f1j_Male_Kupffer_ATAC_Chow_healthyoung_CB61B_TDT_l20210213_TTCTGCCT_TTCTAGCT_S8_L001_trim30.mm10.bowtie2.sam Tag Count in given bp (1494908.0 Total, normalization factor = 6.69, effective total = 10000000)',\n",
      "       'tag_only_muts_mouse_cb6f1j_Male_Kupffer_ATAC_Chow_healthyoung_CB61C_TDT_l20210213_GCTCAGGA_CCTAGAGT_S9_L001_trim30.mm10.bowtie2.sam Tag Count in given bp (1665214.5 Total, normalization factor = 6.01, effective total = 10000000)',\n",
      "       'tag_only_muts_mouse_cb6f1j_Male_Kupffer_ATAC_Chow_healthyoung_CB61D_TDT_l20210213_AGGAGTCC_GCGTAAGA_S10_L001_trim30.mm10.bowtie2.sam Tag Count in given bp (1826844.5 Total, normalization factor = 5.47, effective total = 10000000)'],\n",
      "      dtype='object')\n",
      "balbcj_atac_average\n",
      "Index(['tag_only_muts_mouse_cb6f1j_Male_Kupffer_ATAC_Chow_healthyoung_CB61A_TDT_l20210213_CTAGTACG_TCGACTAG_S7_L001_trim30.balbcj.bowtie2_shifted_from_BALBCJ.sam Tag Count in given bp (2249122.5 Total, normalization factor = 4.45, effective total = 10000000)',\n",
      "       'tag_only_muts_mouse_cb6f1j_Male_Kupffer_ATAC_Chow_healthyoung_CB61B_TDT_l20210213_TTCTGCCT_TTCTAGCT_S8_L001_trim30.balbcj.bowtie2_shifted_from_BALBCJ.sam Tag Count in given bp (1461021.5 Total, normalization factor = 6.84, effective total = 10000000)',\n",
      "       'tag_only_muts_mouse_cb6f1j_Male_Kupffer_ATAC_Chow_healthyoung_CB61C_TDT_l20210213_GCTCAGGA_CCTAGAGT_S9_L001_trim30.balbcj.bowtie2_shifted_from_BALBCJ.sam Tag Count in given bp (1624543.5 Total, normalization factor = 6.16, effective total = 10000000)',\n",
      "       'tag_only_muts_mouse_cb6f1j_Male_Kupffer_ATAC_Chow_healthyoung_CB61D_TDT_l20210213_AGGAGTCC_GCGTAAGA_S10_L001_trim30.balbcj.bowtie2_shifted_from_BALBCJ.sam Tag Count in given bp (1799818.0 Total, normalization factor = 5.56, effective total = 10000000)'],\n",
      "      dtype='object')\n",
      "N IDR Peaks: 41585\n",
      "N Peaks Passing Thresh: 6727\n"
     ]
    }
   ],
   "source": [
    "greps = ['ATAC.*mm10',\n",
    "         'ATAC.*balbcj']\n",
    "\n",
    "colnames = ['c57bl6j_atac_average',\n",
    "            'balbcj_atac_average']\n",
    "\n",
    "# extract passing peak set\n",
    "thresh = 8\n",
    "n_passing_thresh = 3\n",
    "thresh_passing_peaks = []\n",
    "avg_tags_dict = {}\n",
    "for colname, grep in zip(colnames, greps):\n",
    "    print(colname)\n",
    "    print(df_mat.loc[:, (df_mat.columns.str.contains(grep))].columns)\n",
    "    bool_peaks = (df_mat.loc[:, (df_mat.columns.str.contains(grep))] > thresh).sum(1)>n_passing_thresh\n",
    "    thresh_passing_peaks.extend(df_mat.index[bool_peaks].tolist())\n",
    "atac_passing_peaks = set(thresh_passing_peaks)\n",
    "\n",
    "print(\"N IDR Peaks:\", df_mat.shape[0])\n",
    "print(\"N Peaks Passing Thresh:\", len(set(thresh_passing_peaks)))\n",
    "\n",
    "for colname, grep in zip(colnames, greps):\n",
    "    avg_tags_dict[colname] = df_mat.loc[atac_passing_peaks, df_mat.columns.str.contains(grep)].mean(1)\n",
    "    \n",
    "avg_tags_df_atac = pd.DataFrame(avg_tags_dict)"
   ]
  },
  {
   "cell_type": "code",
   "execution_count": 9,
   "id": "molecular-tourism",
   "metadata": {},
   "outputs": [
    {
     "name": "stdout",
     "output_type": "stream",
     "text": [
      "c57bl6j_h3k27ac_average\n",
      "Index(['tag_only_muts_mouse_cb6f1j_Male_Kupffer_ChIP_H3K27ac_Chow_healthyoung_CB61A_TDT_l20201212_AGTTCAGG_CCAACAGA_S23_L001.mm10.bowtie2.sam Tag Count in given bp (2042827.5 Total, normalization factor = 4.90, effective total = 10000000)',\n",
      "       'tag_only_muts_mouse_cb6f1j_Male_Kupffer_ChIP_H3K27ac_Chow_healthyoung_CB61BC_TDT_l20201212_GACCTGAA_TTGGTGAG_S24_L001.mm10.bowtie2.sam Tag Count in given bp (2801089.5 Total, normalization factor = 3.57, effective total = 10000000)',\n",
      "       'tag_only_muts_mouse_cb6f1j_Male_Kupffer_ChIP_H3K27ac_Chow_healthyoung_CB61D_TDT_l20201212_TCTCTACT_CGCGGTTC_S25_L001.mm10.bowtie2.sam Tag Count in given bp (2204889.0 Total, normalization factor = 4.54, effective total = 10000000)'],\n",
      "      dtype='object')\n",
      "balbcj_h3k27ac_average\n",
      "Index(['tag_only_muts_mouse_cb6f1j_Male_Kupffer_ChIP_H3K27ac_Chow_healthyoung_CB61A_TDT_l20201212_AGTTCAGG_CCAACAGA_S23_L001.balbcj.bowtie2_shifted_from_BALBCJ.sam Tag Count in given bp (1946407.0 Total, normalization factor = 5.14, effective total = 10000000)',\n",
      "       'tag_only_muts_mouse_cb6f1j_Male_Kupffer_ChIP_H3K27ac_Chow_healthyoung_CB61BC_TDT_l20201212_GACCTGAA_TTGGTGAG_S24_L001.balbcj.bowtie2_shifted_from_BALBCJ.sam Tag Count in given bp (2649986.5 Total, normalization factor = 3.77, effective total = 10000000)',\n",
      "       'tag_only_muts_mouse_cb6f1j_Male_Kupffer_ChIP_H3K27ac_Chow_healthyoung_CB61D_TDT_l20201212_TCTCTACT_CGCGGTTC_S25_L001.balbcj.bowtie2_shifted_from_BALBCJ.sam Tag Count in given bp (2083917.0 Total, normalization factor = 4.80, effective total = 10000000)'],\n",
      "      dtype='object')\n",
      "N IDR Peaks: 41585\n",
      "N Peaks Passing Thresh: 7126\n"
     ]
    }
   ],
   "source": [
    "greps = [# 'tag_perfect.*mm10',\n",
    "         # 'tag_perfect.*balbcj',\n",
    "         'H3K27.*mm10',\n",
    "         'H3K27.*balbcj']\n",
    "\n",
    "colnames = ['c57bl6j_h3k27ac_average',\n",
    "            'balbcj_h3k27ac_average']\n",
    "\n",
    "thresh = 8\n",
    "n_passing_thresh = 2\n",
    "thresh_passing_peaks = []\n",
    "avg_tags_dict = {}\n",
    "for colname, grep in zip(colnames, greps):\n",
    "    print(colname)\n",
    "    print(df_mat.loc[:, (df_mat.columns.str.contains(grep))].columns)\n",
    "    bool_peaks = (df_mat.loc[:, (df_mat.columns.str.contains(grep))] > thresh).sum(1)>n_passing_thresh\n",
    "    thresh_passing_peaks.extend(df_mat.index[bool_peaks].tolist())\n",
    "    \n",
    "h3k27ac_passing_peaks = set(thresh_passing_peaks)\n",
    "\n",
    "print(\"N IDR Peaks:\", df_mat.shape[0])\n",
    "print(\"N Peaks Passing Thresh:\", len(set(thresh_passing_peaks)))\n",
    "\n",
    "for colname, grep in zip(colnames, greps):\n",
    "    avg_tags_dict[colname] = df_mat.loc[h3k27ac_passing_peaks, df_mat.columns.str.contains(grep)].mean(1)\n",
    "    \n",
    "avg_tags_df_h3k27ac = pd.DataFrame(avg_tags_dict)"
   ]
  },
  {
   "cell_type": "markdown",
   "id": "deluxe-juice",
   "metadata": {},
   "source": [
    "## Extract average expression values"
   ]
  },
  {
   "cell_type": "code",
   "execution_count": 10,
   "id": "infectious-daniel",
   "metadata": {},
   "outputs": [],
   "source": [
    "greps = ['ATAC.*balbc.*',\n",
    "         'ATAC.*mm10.*',\n",
    "         'H3K27.*balbc.*',\n",
    "         'H3K27.*mm10.*']\n",
    "\n",
    "colnames = ['balbcj_atac_average',\n",
    "            'c57bl6j_atac_average',\n",
    "            'balbcj_h3k27ac_average',\n",
    "            'c57bl6j_h3k27ac_average']\n"
   ]
  },
  {
   "cell_type": "markdown",
   "id": "naked-association",
   "metadata": {},
   "source": [
    "### Filter duplicates"
   ]
  },
  {
   "cell_type": "code",
   "execution_count": 11,
   "id": "happy-framing",
   "metadata": {},
   "outputs": [],
   "source": [
    "avg_tags_df_atac.loc[:, 'mean_tags'] = avg_tags_df_atac.mean(1)\n",
    "avg_tags_df_atac = avg_tags_df_atac.sort_values('mean_tags', ascending=False).reset_index()\n",
    "avg_tags_df_atac = avg_tags_df_atac.drop_duplicates(subset='Gene Name',\n",
    "                                                    keep='first')\n",
    "avg_tags_df_atac = avg_tags_df_atac.drop(columns='mean_tags')\n",
    "\n",
    "\n",
    "avg_tags_df_atac = avg_tags_df_atac.set_index('Gene Name')"
   ]
  },
  {
   "cell_type": "code",
   "execution_count": 12,
   "id": "failing-adobe",
   "metadata": {},
   "outputs": [],
   "source": [
    "avg_tags_df_h3k27ac.loc[:, 'mean_tags'] = avg_tags_df_h3k27ac.mean(1)\n",
    "avg_tags_df_h3k27ac = avg_tags_df_h3k27ac.sort_values('mean_tags', ascending=False).reset_index()\n",
    "avg_tags_df_h3k27ac = avg_tags_df_h3k27ac.drop_duplicates(subset='Gene Name',\n",
    "                                                    keep='first')\n",
    "avg_tags_df_h3k27ac = avg_tags_df_h3k27ac.drop(columns='mean_tags')\n",
    "\n",
    "avg_tags_df_h3k27ac = avg_tags_df_h3k27ac.set_index('Gene Name')"
   ]
  },
  {
   "cell_type": "code",
   "execution_count": 13,
   "id": "arbitrary-glucose",
   "metadata": {},
   "outputs": [],
   "source": [
    "tpm_mat = pd.read_csv('/home/ttroutman/strainsKupffer/rnaKupfferF1/rnaQuan/rawT.txt',\n",
    "                      sep='\\t', index_col=0)\n",
    "tpm_mat = tpm_mat.loc[:, tpm_mat.columns.str.contains('variants')]\n",
    "\n",
    "# clean columns\n",
    "tpm_mat.columns = tpm_mat.columns.str.split('/').str[-1]"
   ]
  },
  {
   "cell_type": "markdown",
   "id": "floating-cabin",
   "metadata": {},
   "source": [
    "### Extract average"
   ]
  },
  {
   "cell_type": "code",
   "execution_count": 14,
   "id": "painted-board",
   "metadata": {},
   "outputs": [],
   "source": [
    "groups = ['balbcj_variants',\n",
    "          'c57bl6j_variants']"
   ]
  },
  {
   "cell_type": "code",
   "execution_count": 15,
   "id": "increasing-arnold",
   "metadata": {},
   "outputs": [
    {
     "name": "stdout",
     "output_type": "stream",
     "text": [
      "N Genes: 23608\n",
      "N Genes Passing Thresh: 3899\n"
     ]
    }
   ],
   "source": [
    "thresh = 4\n",
    "n_passing_thresh = 3\n",
    "thresh_passing_genes = []\n",
    "avg_tpm_dict = {}\n",
    "for group in groups:\n",
    "    # print(df_mat.loc[:, (df_mat.columns.str.contains(grep))].columns)\n",
    "    bool_peaks = (tpm_mat.loc[:, (tpm_mat.columns.str.contains(group))] > thresh).sum(1)>n_passing_thresh\n",
    "    thresh_passing_genes.extend(tpm_mat.index[bool_peaks].tolist())\n",
    "\n",
    "\n",
    "print(\"N Genes:\", tpm_mat.shape[0])\n",
    "print(\"N Genes Passing Thresh:\", len(set(thresh_passing_genes)))\n",
    "\n",
    "\n",
    "for group in groups:\n",
    "    avg = tpm_mat.loc[set(thresh_passing_genes), tpm_mat.columns.str.contains(group)].mean(1)\n",
    "    avg_tpm_dict[group] = avg\n",
    "    \n",
    "avg_tpm_df = pd.DataFrame(avg_tpm_dict)"
   ]
  },
  {
   "cell_type": "markdown",
   "id": "premium-token",
   "metadata": {},
   "source": [
    "# Calculate allelic fraction in all dfs"
   ]
  },
  {
   "cell_type": "code",
   "execution_count": 16,
   "id": "considered-ethernet",
   "metadata": {},
   "outputs": [],
   "source": [
    "avg_tags_df_atac['balbcj_h3k27_allelic_fraction'] = avg_tags_df_atac.balbcj_atac_average / avg_tags_df_atac.sum(1)\n",
    "avg_tags_df_h3k27ac['balbcj_atac_allelic_fraction'] = avg_tags_df_h3k27ac.balbcj_h3k27ac_average / avg_tags_df_h3k27ac.sum(1)\n",
    "avg_tpm_df['balbcj_rna_allelic_fraction'] = avg_tpm_df.balbcj_variants / avg_tpm_df.sum(1)"
   ]
  },
  {
   "cell_type": "markdown",
   "id": "bearing-funds",
   "metadata": {},
   "source": [
    "## calculate log2fc"
   ]
  },
  {
   "cell_type": "code",
   "execution_count": 17,
   "id": "electoral-insurance",
   "metadata": {},
   "outputs": [
    {
     "name": "stderr",
     "output_type": "stream",
     "text": [
      "/gpfs/data01/glasslab/home/h1bennet/.conda/envs/dataviz/lib/python3.7/site-packages/pandas/core/series.py:856: RuntimeWarning: divide by zero encountered in log2\n",
      "  result = getattr(ufunc, method)(*inputs, **kwargs)\n"
     ]
    }
   ],
   "source": [
    "avg_tags_df_atac['balbcj_atac_log2fc'] = np.log2(avg_tags_df_atac.balbcj_atac_average / avg_tags_df_atac.c57bl6j_atac_average)\n",
    "avg_tags_df_h3k27ac['balbcj_h3k27_log2fc'] = np.log2(avg_tags_df_h3k27ac.balbcj_h3k27ac_average / avg_tags_df_h3k27ac.c57bl6j_h3k27ac_average)\n",
    "avg_tpm_df['balbcj_rna_log2fc'] = np.log2(avg_tpm_df.balbcj_variants / avg_tpm_df.c57bl6j_variants)"
   ]
  },
  {
   "cell_type": "markdown",
   "id": "functional-architecture",
   "metadata": {},
   "source": [
    "# Make H3K27Ac and RNA DF"
   ]
  },
  {
   "cell_type": "code",
   "execution_count": 18,
   "id": "juvenile-inside",
   "metadata": {},
   "outputs": [],
   "source": [
    "if not os.path.isdir('./figures'):\n",
    "    os.mkdir('./figures')"
   ]
  },
  {
   "cell_type": "code",
   "execution_count": 19,
   "id": "above-angle",
   "metadata": {},
   "outputs": [],
   "source": [
    "h3k27_rna_df = avg_tpm_df.merge(avg_tags_df_h3k27ac, how='inner',\n",
    "                                left_index=True, right_index=True)\n",
    "# filter infinite values\n",
    "h3k27_rna_df.replace([np.inf, -np.inf], np.nan, inplace=True)\n",
    "h3k27_rna_df.dropna(inplace=True)"
   ]
  },
  {
   "cell_type": "code",
   "execution_count": 20,
   "id": "painful-amino",
   "metadata": {
    "scrolled": true
   },
   "outputs": [
    {
     "data": {
      "image/png": "[encoded data removed]",
      "text/plain": [
       "<Figure size 108x108 with 1 Axes>"
      ]
     },
     "metadata": {
      "needs_background": "light"
     },
     "output_type": "display_data"
    }
   ],
   "source": [
    "fig, ax = plt.subplots(figsize=(1.5,1.5))\n",
    "\n",
    "ax.plot([-10,10],[-10,10],\n",
    "        c='k',\n",
    "        linewidth=0.5,\n",
    "        zorder=0)\n",
    "ax.axhline(0, c='k', linewidth=0.5, zorder=0)\n",
    "ax.axvline(0, c='k', linewidth=0.5, zorder=0)\n",
    "\n",
    "ax.scatter(h3k27_rna_df.balbcj_rna_log2fc,\n",
    "           h3k27_rna_df.balbcj_h3k27_log2fc,\n",
    "           s=1,\n",
    "           c='#969696',\n",
    "           zorder=1)\n",
    "ax.set_xlim([-8,8])\n",
    "ax.set_ylim([-8,8])\n",
    "ax.set_xlabel('Log2 TPM\\n(BALBcJ/C57Bl6j)')\n",
    "ax.set_ylabel('Log2 H3K27Ac\\n(BALBcJ/C57Bl6j)')\n",
    "# Hide the right and top spines\n",
    "ax.spines['right'].set_visible(False)\n",
    "ax.spines['top'].set_visible(False)\n",
    "\n",
    "# calculate pearson r\n",
    "r, pval = pearsonr(h3k27_rna_df.balbcj_rna_log2fc,\n",
    "                   h3k27_rna_df.balbcj_h3k27_log2fc)\n",
    "\n",
    "#annotate pearson r\n",
    "ax.text(-7, 7, 'r=%.2f' % r);\n",
    "\n",
    "plt.savefig('./figures/rna_h3k27ac_asb_scatter.png',\n",
    "            bbox_inches='tight')"
   ]
  },
  {
   "cell_type": "code",
   "execution_count": 21,
   "id": "mechanical-rescue",
   "metadata": {},
   "outputs": [],
   "source": [
    "atac_rna_df = avg_tpm_df.merge(avg_tags_df_atac, how='inner',\n",
    "                                left_index=True, right_index=True)\n",
    "\n",
    "# filter infinite values\n",
    "atac_rna_df.replace([np.inf, -np.inf], np.nan, inplace=True)\n",
    "atac_rna_df.dropna(inplace=True)"
   ]
  },
  {
   "cell_type": "code",
   "execution_count": 22,
   "id": "efficient-sending",
   "metadata": {},
   "outputs": [
    {
     "data": {
      "image/png": "[encoded data removed]",
      "text/plain": [
       "<Figure size 108x108 with 1 Axes>"
      ]
     },
     "metadata": {
      "needs_background": "light"
     },
     "output_type": "display_data"
    }
   ],
   "source": [
    "fig, ax = plt.subplots(figsize=(1.5,1.5))\n",
    "\n",
    "ax.plot([-10,10],[-10,10],\n",
    "        c='k',\n",
    "        linewidth=0.5,\n",
    "        zorder=0)\n",
    "ax.axhline(0, c='k', linewidth=0.5, zorder=0)\n",
    "ax.axvline(0, c='k', linewidth=0.5, zorder=0)\n",
    "\n",
    "ax.scatter(atac_rna_df.balbcj_rna_log2fc,\n",
    "           atac_rna_df.balbcj_atac_log2fc,\n",
    "           s=1,\n",
    "           c='#969696',\n",
    "           zorder=1)\n",
    "ax.set_xlim([-8,8])\n",
    "ax.set_ylim([-8,8])\n",
    "ax.set_xlabel('Log2 TPM\\n(BALBcJ/C57Bl6j)')\n",
    "ax.set_ylabel('Log2 ATAC\\n(BALBcJ/C57Bl6j)')\n",
    "# Hide the right and top spines\n",
    "ax.spines['right'].set_visible(False)\n",
    "ax.spines['top'].set_visible(False)\n",
    "\n",
    "# calculate pearson r\n",
    "r, pval = pearsonr(atac_rna_df.balbcj_rna_log2fc,\n",
    "                   atac_rna_df.balbcj_atac_log2fc)\n",
    "\n",
    "#annotate pearson r\n",
    "ax.text(-7, 7, 'r=%.2f' % r);\n",
    "\n",
    "plt.savefig('./figures/rna_atac_asb_scatter.png',\n",
    "            bbox_inches='tight')"
   ]
  },
  {
   "cell_type": "code",
   "execution_count": 32,
   "id": "impressive-myanmar",
   "metadata": {},
   "outputs": [],
   "source": [
    "atac_h3k27ac_df = avg_tags_df_atac.merge(avg_tags_df_h3k27ac, how='inner',\n",
    "                                         left_index=True, right_index=True)\n",
    "\n",
    "# filter infinite values\n",
    "atac_h3k27ac_df.replace([np.inf, -np.inf], np.nan, inplace=True)\n",
    "atac_h3k27ac_df.dropna(inplace=True)"
   ]
  },
  {
   "cell_type": "code",
   "execution_count": 33,
   "id": "amended-locator",
   "metadata": {},
   "outputs": [
    {
     "data": {
      "text/plain": [
       "Index(['c57bl6j_atac_average', 'balbcj_atac_average',\n",
       "       'balbcj_h3k27_allelic_fraction', 'balbcj_atac_log2fc',\n",
       "       'c57bl6j_h3k27ac_average', 'balbcj_h3k27ac_average',\n",
       "       'balbcj_atac_allelic_fraction', 'balbcj_h3k27_log2fc'],\n",
       "      dtype='object')"
      ]
     },
     "execution_count": 33,
     "metadata": {},
     "output_type": "execute_result"
    }
   ],
   "source": [
    "atac_h3k27ac_df.columns"
   ]
  },
  {
   "cell_type": "code",
   "execution_count": 35,
   "id": "current-order",
   "metadata": {},
   "outputs": [
    {
     "data": {
      "image/png": "[encoded data removed]",
      "text/plain": [
       "<Figure size 108x108 with 1 Axes>"
      ]
     },
     "metadata": {
      "needs_background": "light"
     },
     "output_type": "display_data"
    }
   ],
   "source": [
    "fig, ax = plt.subplots(figsize=(1.5,1.5))\n",
    "\n",
    "ax.plot([-10,10],[-10,10],\n",
    "        c='k',\n",
    "        linewidth=0.5,\n",
    "        zorder=0)\n",
    "ax.axhline(0, c='k', linewidth=0.5, zorder=0)\n",
    "ax.axvline(0, c='k', linewidth=0.5, zorder=0)\n",
    "\n",
    "ax.scatter(atac_h3k27ac_df.balbcj_atac_log2fc,\n",
    "           atac_h3k27ac_df.balbcj_h3k27_log2fc,\n",
    "           s=1,\n",
    "           c='#969696',\n",
    "           zorder=1)\n",
    "ax.set_xlim([-8,8])\n",
    "ax.set_ylim([-8,8])\n",
    "ax.set_xlabel('Log2 TPM\\n(BALBcJ/C57Bl6j)')\n",
    "ax.set_ylabel('Log2 h3k27ac\\n(BALBcJ/C57Bl6j)')\n",
    "# Hide the right and top spines\n",
    "ax.spines['right'].set_visible(False)\n",
    "ax.spines['top'].set_visible(False)\n",
    "\n",
    "# calculate pearson r\n",
    "r, pval = pearsonr(atac_h3k27ac_df.balbcj_atac_log2fc,\n",
    "                   atac_h3k27ac_df.balbcj_h3k27_log2fc)\n",
    "\n",
    "#annotate pearson r\n",
    "ax.text(-7, 7, 'r=%.2f' % r);\n",
    "\n",
    "plt.savefig('./figures/atac_h3k27ac_asb_scatter.png',\n",
    "            bbox_inches='tight')"
   ]
  },
  {
   "cell_type": "markdown",
   "id": "alleged-pound",
   "metadata": {},
   "source": [
    "# color by biased promoter"
   ]
  },
  {
   "cell_type": "code",
   "execution_count": 23,
   "id": "derived-garbage",
   "metadata": {},
   "outputs": [],
   "source": [
    "diffDir = '/home/ttroutman/strainsKupffer/rnaKupfferF1/rnaDiff/'\n",
    "rnaQuan = '/home/ttroutman/strainsKupffer/rnaKupfferF1/rnaQuan/rawT.txt'\n"
   ]
  },
  {
   "cell_type": "code",
   "execution_count": 24,
   "id": "serious-gilbert",
   "metadata": {},
   "outputs": [
    {
     "name": "stdout",
     "output_type": "stream",
     "text": [
      "ge all transcripts (23608, 20)\n",
      "Diff Gene selected transcripts (7667, 7)\n",
      "ge selected transcripts (7667, 20)\n"
     ]
    }
   ],
   "source": [
    "diff_gene_control, tpm_control, tpm_mat_control, tpm_mat_quant_control = import_homer_diffgene(\n",
    "    diffDir+'/balbcj_control.vs.c57bl6j_control.scatter.txt',\n",
    "    rnaQuan)\n"
   ]
  },
  {
   "cell_type": "code",
   "execution_count": 25,
   "id": "capital-patio",
   "metadata": {},
   "outputs": [],
   "source": [
    "color_dict = {'nonsig':'#636363',\n",
    "              'c57':'#31a354',\n",
    "              'balb':'#3182bd'}\n",
    "log2fc = np.log2(2)\n",
    "padj = 0.05"
   ]
  },
  {
   "cell_type": "code",
   "execution_count": 26,
   "id": "efficient-puzzle",
   "metadata": {},
   "outputs": [],
   "source": [
    "colors = []\n",
    "for gene in h3k27_rna_df.index.tolist():\n",
    "    try:\n",
    "        if ((diff_gene_control.loc[gene, 'log2FoldChange'] <= -log2fc) & (diff_gene_control.loc[gene, 'padj'] < 0.05)):\n",
    "            colors.append(color_dict['balb'])\n",
    "        elif ((diff_gene_control.loc[gene, 'log2FoldChange'] >= log2fc) & (diff_gene_control.loc[gene, 'padj'] < 0.05)):\n",
    "            colors.append(color_dict['c57'])\n",
    "        else:\n",
    "            colors.append(color_dict['nonsig'])\n",
    "    except KeyError:\n",
    "        colors.append(color_dict['nonsig'])"
   ]
  },
  {
   "cell_type": "code",
   "execution_count": 27,
   "id": "white-ethics",
   "metadata": {},
   "outputs": [
    {
     "data": {
      "image/png": "[encoded data removed]",
      "text/plain": [
       "<Figure size 108x108 with 1 Axes>"
      ]
     },
     "metadata": {
      "needs_background": "light"
     },
     "output_type": "display_data"
    }
   ],
   "source": [
    "fig, ax = plt.subplots(figsize=(1.5,1.5))\n",
    "\n",
    "ax.plot([-10,10],[-10,10],\n",
    "        c='k',\n",
    "        linewidth=0.5,\n",
    "        zorder=0)\n",
    "ax.axhline(0, c='k', linewidth=0.5, zorder=0)\n",
    "ax.axvline(0, c='k', linewidth=0.5, zorder=0)\n",
    "\n",
    "ax.scatter(h3k27_rna_df.balbcj_rna_log2fc,\n",
    "           h3k27_rna_df.balbcj_h3k27_log2fc,\n",
    "           s=1,\n",
    "           c=colors,\n",
    "           zorder=1)\n",
    "ax.set_xlim([-8,8])\n",
    "ax.set_ylim([-8,8])\n",
    "ax.set_xlabel('Log2 TPM\\n(BALBcJ/C57Bl6j)')\n",
    "ax.set_ylabel('Log2 H3K27Ac\\n(BALBcJ/C57Bl6j)')\n",
    "# Hide the right and top spines\n",
    "ax.spines['right'].set_visible(False)\n",
    "ax.spines['top'].set_visible(False)\n",
    "\n",
    "# calculate pearson r\n",
    "r, pval = pearsonr(h3k27_rna_df.balbcj_rna_log2fc,\n",
    "                   h3k27_rna_df.balbcj_h3k27_log2fc)\n",
    "\n",
    "#annotate pearson r\n",
    "ax.text(-7, 7, 'r=%.2f' % r, fontsize=6);\n",
    "\n",
    "plt.savefig('./figures/rna_h3k27ac_asb_scatter_color_diff_prom.pdf',\n",
    "            bbox_inches='tight')"
   ]
  },
  {
   "cell_type": "code",
   "execution_count": 28,
   "id": "established-shark",
   "metadata": {},
   "outputs": [],
   "source": [
    "colors = []\n",
    "for gene in atac_rna_df.index.tolist():\n",
    "    try:\n",
    "        if ((diff_gene_control.loc[gene, 'log2FoldChange'] <= -log2fc) & (diff_gene_control.loc[gene, 'padj'] < 0.05)):\n",
    "            colors.append(color_dict['balb'])\n",
    "        elif ((diff_gene_control.loc[gene, 'log2FoldChange'] >= log2fc) & (diff_gene_control.loc[gene, 'padj'] < 0.05)):\n",
    "            colors.append(color_dict['c57'])\n",
    "        else:\n",
    "            colors.append(color_dict['nonsig'])\n",
    "    except KeyError:\n",
    "        colors.append(color_dict['nonsig'])"
   ]
  },
  {
   "cell_type": "code",
   "execution_count": 29,
   "id": "trained-anthony",
   "metadata": {},
   "outputs": [
    {
     "data": {
      "image/png": "[encoded data removed]",
      "text/plain": [
       "<Figure size 108x108 with 1 Axes>"
      ]
     },
     "metadata": {
      "needs_background": "light"
     },
     "output_type": "display_data"
    }
   ],
   "source": [
    "fig, ax = plt.subplots(figsize=(1.5,1.5))\n",
    "\n",
    "ax.plot([-10,10],[-10,10],\n",
    "        c='k',\n",
    "        linewidth=0.5,\n",
    "        zorder=0)\n",
    "ax.axhline(0, c='k', linewidth=0.5, zorder=0)\n",
    "ax.axvline(0, c='k', linewidth=0.5, zorder=0)\n",
    "\n",
    "ax.scatter(atac_rna_df.balbcj_rna_log2fc,\n",
    "           atac_rna_df.balbcj_atac_log2fc,\n",
    "           s=1,\n",
    "           c=colors,\n",
    "           zorder=1)\n",
    "ax.set_xlim([-8,8])\n",
    "ax.set_ylim([-8,8])\n",
    "ax.set_xlabel('Log2 TPM\\n(BALBcJ/C57Bl6j)')\n",
    "ax.set_ylabel('Log2 ATAC\\n(BALBcJ/C57Bl6j)')\n",
    "# Hide the right and top spines\n",
    "ax.spines['right'].set_visible(False)\n",
    "ax.spines['top'].set_visible(False)\n",
    "\n",
    "# calculate pearson r\n",
    "r, pval = pearsonr(atac_rna_df.balbcj_rna_log2fc,\n",
    "                   atac_rna_df.balbcj_atac_log2fc)\n",
    "\n",
    "#annotate pearson r\n",
    "ax.text(-7, 7, 'r=%.2f' % r);\n",
    "\n",
    "plt.savefig('./figures/rna_atac_asb_scatter_color_diff_prom.pdf',\n",
    "            bbox_inches='tight')"
   ]
  },
  {
   "cell_type": "code",
   "execution_count": 37,
   "id": "checked-telling",
   "metadata": {},
   "outputs": [],
   "source": [
    "colors = []\n",
    "for gene in atac_h3k27ac_df.index.tolist():\n",
    "    try:\n",
    "        if ((diff_gene_control.loc[gene, 'log2FoldChange'] <= -log2fc) & (diff_gene_control.loc[gene, 'padj'] < 0.05)):\n",
    "            colors.append(color_dict['balb'])\n",
    "        elif ((diff_gene_control.loc[gene, 'log2FoldChange'] >= log2fc) & (diff_gene_control.loc[gene, 'padj'] < 0.05)):\n",
    "            colors.append(color_dict['c57'])\n",
    "        else:\n",
    "            colors.append(color_dict['nonsig'])\n",
    "    except KeyError:\n",
    "        colors.append(color_dict['nonsig'])"
   ]
  },
  {
   "cell_type": "code",
   "execution_count": 39,
   "id": "fossil-gazette",
   "metadata": {},
   "outputs": [
    {
     "data": {
      "image/png": "[encoded data removed]",
      "text/plain": [
       "<Figure size 108x108 with 1 Axes>"
      ]
     },
     "metadata": {
      "needs_background": "light"
     },
     "output_type": "display_data"
    }
   ],
   "source": [
    "fig, ax = plt.subplots(figsize=(1.5,1.5))\n",
    "\n",
    "ax.plot([-10,10],[-10,10],\n",
    "        c='k',\n",
    "        linewidth=0.5,\n",
    "        zorder=0)\n",
    "ax.axhline(0, c='k', linewidth=0.5, zorder=0)\n",
    "ax.axvline(0, c='k', linewidth=0.5, zorder=0)\n",
    "\n",
    "ax.scatter(atac_h3k27ac_df.balbcj_atac_log2fc,\n",
    "           atac_h3k27ac_df.balbcj_h3k27_log2fc,\n",
    "           s=1,\n",
    "           c=colors,\n",
    "           zorder=1)\n",
    "ax.set_xlim([-8,8])\n",
    "ax.set_ylim([-8,8])\n",
    "ax.set_xlabel('Log2 TPM\\n(BALBcJ/C57Bl6j)')\n",
    "ax.set_ylabel('Log2 h3k27ac\\n(BALBcJ/C57Bl6j)')\n",
    "# Hide the right and top spines\n",
    "ax.spines['right'].set_visible(False)\n",
    "ax.spines['top'].set_visible(False)\n",
    "\n",
    "# calculate pearson r\n",
    "r, pval = pearsonr(atac_h3k27ac_df.balbcj_atac_log2fc,\n",
    "                   atac_h3k27ac_df.balbcj_h3k27_log2fc)\n",
    "\n",
    "#annotate pearson r\n",
    "ax.text(-7, 7, 'r=%.2f' % r);\n",
    "\n",
    "plt.savefig('./figures/atac_h3k27ac_asb_scatter_color_diff_prom.pdf',\n",
    "            bbox_inches='tight')"
   ]
  },
  {
   "cell_type": "code",
   "execution_count": null,
   "id": "greenhouse-summer",
   "metadata": {},
   "outputs": [],
   "source": []
  }
 ],
 "metadata": {
  "kernelspec": {
   "display_name": "dataviz",
   "language": "python",
   "name": "dataviz"
  },
  "language_info": {
   "codemirror_mode": {
    "name": "ipython",
    "version": 3
   },
   "file_extension": ".py",
   "mimetype": "text/x-python",
   "name": "python",
   "nbconvert_exporter": "python",
   "pygments_lexer": "ipython3",
   "version": "3.7.5"
  }
 },
 "nbformat": 4,
 "nbformat_minor": 5
}
