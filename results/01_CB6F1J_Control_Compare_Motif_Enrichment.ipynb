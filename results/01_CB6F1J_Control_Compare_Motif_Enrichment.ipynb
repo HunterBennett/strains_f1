{
 "cells": [
  {
   "cell_type": "markdown",
   "id": "approximate-slide",
   "metadata": {},
   "source": [
    "Hunter Bennett | Strains Project | June 16 2021"
   ]
  },
  {
   "cell_type": "code",
   "execution_count": 1,
   "id": "african-belize",
   "metadata": {},
   "outputs": [],
   "source": [
    "### header ###\n",
    "__author__ = \"Hunter Bennett\"\n",
    "__license__ = \"BSD\"\n",
    "__email__ = \"hunter.r.bennett@gmail.com\"\n",
    "%load_ext autoreload\n",
    "%autoreload 2\n",
    "### imports ###\n",
    "import sys\n",
    "%matplotlib inline\n",
    "import os\n",
    "import re\n",
    "import glob\n",
    "import pandas as pd\n",
    "import numpy as np\n",
    "import matplotlib\n",
    "import matplotlib.pyplot as plt \n",
    "import seaborn as sns\n",
    "\n",
    "# import custom functions\n",
    "import sys\n",
    "sys.path.insert(0, '/home/h1bennet/code/')\n",
    "from hbUtils import ngs_qc, quantile_normalize_df\n",
    "from plotting_scripts import label_point, pca_rpkm_mat, get_diff_volcano\n",
    "from homer_preprocessing import read_annotated_peaks, import_homer_diffpeak, pull_comparisons_get_diff"
   ]
  },
  {
   "cell_type": "code",
   "execution_count": 2,
   "id": "reverse-vision",
   "metadata": {},
   "outputs": [],
   "source": [
    "#### PLOTTING PARAMETERS FOR MANUSCRIPT ####\n",
    "# # get matplotlib to save readable fonts\n",
    "matplotlib.rcParams['pdf.fonttype'] = 42\n",
    "matplotlib.rcParams['ps.fonttype'] = 42\n",
    "matplotlib.rcParams['font.size'] = 6\n",
    "matplotlib.rcParams['savefig.dpi'] = 500\n",
    "\n",
    "# line widths\n",
    "matplotlib.rcParams['axes.linewidth'] = 1\n",
    "matplotlib.rcParams['xtick.major.width'] = 1\n",
    "matplotlib.rcParams['ytick.major.width'] = 1\n",
    "\n",
    "# adjust defualt color for plots to black\n",
    "# normal default is a dark gray\n",
    "COLOR = 'black'\n",
    "matplotlib.rcParams['text.color'] = COLOR\n",
    "matplotlib.rcParams['axes.labelcolor'] = COLOR\n",
    "matplotlib.rcParams['xtick.color'] = COLOR\n",
    "matplotlib.rcParams['ytick.color'] = COLOR\n",
    "matplotlib.rcParams['axes.edgecolor'] = COLOR\n",
    "\n",
    "#### PLOT PARAMETERS FOR THIS PLOT ####"
   ]
  },
  {
   "cell_type": "code",
   "execution_count": 3,
   "id": "noticed-stopping",
   "metadata": {},
   "outputs": [],
   "source": [
    "# dataDirectory = '/home/h1bennet/strains/data/ATAC/control_cohort2/'\n",
    "workingDirectory = '/home/h1bennet/strains_f1/results/01_CB6F1_MultiOmic/'\n",
    "if not os.path.isdir(workingDirectory):\n",
    "    os.mkdir(workingDirectory)\n",
    "os.chdir(workingDirectory)"
   ]
  },
  {
   "cell_type": "code",
   "execution_count": 4,
   "id": "incredible-basin",
   "metadata": {},
   "outputs": [],
   "source": [
    "if not os.path.isdir('./motif_enrichment_scatters/'):\n",
    "    os.mkdir('./motif_enrichment_scatters/')"
   ]
  },
  {
   "cell_type": "code",
   "execution_count": 5,
   "id": "vocational-toner",
   "metadata": {},
   "outputs": [],
   "source": [
    "known_motif_pval_dict = {}\n",
    "for f in np.sort(glob.glob('../00_CB6F1_Control_ATAC/motif_calling/*/knownResults.txt')):\n",
    "    # read in signifance values using pandas\n",
    "    frame = pd.read_csv(f, sep='\\t', index_col=0)\n",
    "    \n",
    "    # remove duplicates\n",
    "    frame = frame[~frame.index.duplicated(keep='first')]\n",
    "    pval = frame.iloc[:, 2]\n",
    "    \n",
    "    # extract name of sample\n",
    "    sample = f.split('/')[-2]\n",
    "    \n",
    "    # store in dict\n",
    "    known_motif_pval_dict[sample] = pval    \n",
    "    \n",
    "# create data frame\n",
    "known_motif_pval_frame_atac = pd.DataFrame(known_motif_pval_dict)\n",
    "\n",
    "# sort by average p value\n",
    "known_motif_pval_frame_atac = known_motif_pval_frame_atac.reindex(known_motif_pval_frame_atac.mean(axis=1).sort_values().index.tolist())\n",
    "\n",
    "# known_motif_pval_frame.to_csv('./homer_known_motifs_all.txt', sep='\\t')"
   ]
  },
  {
   "cell_type": "code",
   "execution_count": 6,
   "id": "expensive-ontario",
   "metadata": {},
   "outputs": [],
   "source": [
    "known_motif_pval_dict = {}\n",
    "for f in np.sort(glob.glob('../00_CB6F1_Control/motif_calling/*/knownResults.txt')):\n",
    "    # read in signifance values using pandas\n",
    "    frame = pd.read_csv(f, sep='\\t', index_col=0)\n",
    "    \n",
    "    # remove duplicates\n",
    "    frame = frame[~frame.index.duplicated(keep='first')]\n",
    "    pval = frame.iloc[:, 2]\n",
    "    \n",
    "    # extract name of sample\n",
    "    sample = f.split('/')[-2]\n",
    "    \n",
    "    # store in dict\n",
    "    known_motif_pval_dict[sample] = pval    \n",
    "    \n",
    "# create data frame\n",
    "known_motif_pval_frame_h3k27ac = pd.DataFrame(known_motif_pval_dict)\n",
    "\n",
    "# sort by average p value\n",
    "known_motif_pval_frame_h3k27ac = known_motif_pval_frame_h3k27ac.reindex(known_motif_pval_frame_h3k27ac.mean(axis=1).sort_values().index.tolist())\n"
   ]
  },
  {
   "cell_type": "markdown",
   "id": "european-selling",
   "metadata": {},
   "source": [
    "# Make combo scatter"
   ]
  },
  {
   "cell_type": "code",
   "execution_count": 7,
   "id": "metallic-hurricane",
   "metadata": {},
   "outputs": [],
   "source": [
    "from scipy.stats import spearmanr, pearsonr"
   ]
  },
  {
   "cell_type": "code",
   "execution_count": 8,
   "id": "generic-baghdad",
   "metadata": {},
   "outputs": [],
   "source": [
    "viridis = matplotlib.cm.get_cmap('viridis')\n",
    "colors = [viridis(0.6), viridis(0.2), viridis(0.4)]"
   ]
  },
  {
   "cell_type": "code",
   "execution_count": null,
   "id": "senior-necessity",
   "metadata": {},
   "outputs": [],
   "source": []
  },
  {
   "cell_type": "code",
   "execution_count": 10,
   "id": "hired-canon",
   "metadata": {
    "scrolled": true
   },
   "outputs": [
    {
     "data": {
      "image/png": "[encoded data removed]",
      "text/plain": [
       "<Figure size 144x288 with 6 Axes>"
      ]
     },
     "metadata": {
      "needs_background": "light"
     },
     "output_type": "display_data"
    }
   ],
   "source": [
    "\n",
    "fig, axs = plt.subplots(3, 2, figsize=(2,4),\n",
    "                        sharex=True,\n",
    "                        sharey=True)\n",
    "plt.subplots_adjust(hspace=0.4)\n",
    "\n",
    "for settype, color, ax, in zip(['cis', 'mixed', 'trans'], colors, axs[:, 0]):\n",
    "\n",
    "    ax.scatter(-known_motif_pval_frame_atac.loc[:, 'atac_%s_balb_hunterFCThenPadj_motifs' % settype],\n",
    "                   -known_motif_pval_frame_atac.loc[:, 'atac_%s_c57_hunterFCThenPadj_motifs'% settype],\n",
    "                   s=1,\n",
    "                   c=[color])\n",
    "    \n",
    "    corr = spearmanr(-known_motif_pval_frame_atac.loc[:, 'atac_%s_balb_hunterFCThenPadj_motifs' % settype],\n",
    "                            -known_motif_pval_frame_atac.loc[:, 'atac_%s_c57_hunterFCThenPadj_motifs'% settype])\n",
    "    \n",
    "    ax.text(6.0, 7.5, 'Rho:\\n%.2f' % corr.correlation)\n",
    "    \n",
    "    # ax.set_ylabel('C57BL/6J')\n",
    "    ax.set_title(settype)\n",
    "\n",
    "for settype, color, ax, in zip(['cis', 'mixed', 'trans'], colors, axs[:, 1]):\n",
    "\n",
    "    ax.scatter(-known_motif_pval_frame_h3k27ac.loc[:, 'h3k27ac_%s_balb_hunterFCThenPadj_motifs' % settype],\n",
    "                   -known_motif_pval_frame_h3k27ac.loc[:, 'h3k27ac_%s_c57_hunterFCThenPadj_motifs'% settype],\n",
    "                   s=1,\n",
    "                   c=[color])\n",
    "    \n",
    "    corr = spearmanr(-known_motif_pval_frame_h3k27ac.loc[:, 'h3k27ac_%s_balb_hunterFCThenPadj_motifs' % settype],\n",
    "                            -known_motif_pval_frame_h3k27ac.loc[:, 'h3k27ac_%s_c57_hunterFCThenPadj_motifs'% settype])\n",
    "    \n",
    "    ax.text(6.0, 7.5, 'Rho:\\n%.2f' % corr.correlation)\n",
    "    \n",
    "    # ax.set_ylabel('C57BL/6J')\n",
    "    ax.set_title(settype)\n",
    "    \n",
    "# axs[2,0].set_xlabel('BALB/cJ')\n",
    "# axs[2,1].set_xlabel('BALB/cJ')\n",
    "\n",
    "plt.savefig('./motif_enrichment_scatters/shared_motif_enrichment_scatter.pdf',\n",
    "            bbox_inches='tight')"
   ]
  },
  {
   "cell_type": "code",
   "execution_count": 12,
   "id": "relevant-taste",
   "metadata": {},
   "outputs": [
    {
     "data": {
      "text/plain": [
       "Index(['atac_cis_balb_hunterFCThenPadj_distal_motifs',\n",
       "       'atac_cis_c57_hunterFCThenPadj_distal_motifs',\n",
       "       'atac_mixed_balb_hunterFCThenPadj_distal_motifs',\n",
       "       'atac_mixed_c57_hunterFCThenPadj_distal_motifs',\n",
       "       'atac_trans_balb_hunterFCThenPadj_distal_motifs',\n",
       "       'atac_trans_c57_hunterFCThenPadj_distal_motifs'],\n",
       "      dtype='object')"
      ]
     },
     "execution_count": 12,
     "metadata": {},
     "output_type": "execute_result"
    }
   ],
   "source": [
    "df_atac.columns"
   ]
  },
  {
   "cell_type": "code",
   "execution_count": 13,
   "id": "innocent-control",
   "metadata": {},
   "outputs": [
    {
     "data": {
      "image/png": "[encoded data removed]",
      "text/plain": [
       "<Figure size 144x288 with 6 Axes>"
      ]
     },
     "metadata": {
      "needs_background": "light"
     },
     "output_type": "display_data"
    }
   ],
   "source": [
    "fig, axs = plt.subplots(3, 2, figsize=(2,4),\n",
    "                        sharex=True,\n",
    "                        sharey=True)\n",
    "plt.subplots_adjust(hspace=0.4)\n",
    "\n",
    "for settype, color, ax, in zip(['cis', 'mixed', 'trans'], colors, axs[:, 0]):\n",
    "    \n",
    "    # filter data - only comparisons we are considering\n",
    "    df_atac = known_motif_pval_frame_atac.loc[:, known_motif_pval_frame_atac.columns.str.contains('hunterFCThenPadj')]\n",
    "    df_atac = df_atac.loc[:, ~df_atac.columns.str.contains('distal')]\n",
    "    # require one to be significant\n",
    "    df_atac = df_atac.loc[(df_atac < np.log(0.05)).any(1), :]\n",
    "\n",
    "    ax.scatter(-df_atac.loc[:, 'atac_%s_balb_hunterFCThenPadj_motifs' % settype],\n",
    "               -df_atac.loc[:, 'atac_%s_c57_hunterFCThenPadj_motifs'% settype],\n",
    "               s=1,\n",
    "               c=[color])\n",
    "    \n",
    "    corr = spearmanr(df_atac.loc[:, 'atac_%s_balb_hunterFCThenPadj_motifs' % settype],\n",
    "                     df_atac.loc[:, 'atac_%s_c57_hunterFCThenPadj_motifs'% settype])\n",
    "    \n",
    "    ax.text(6.0, 7.5, 'Rho:\\n%.2f' % corr[0])\n",
    "    \n",
    "    # ax.set_ylabel('C57BL/6J')\n",
    "    ax.set_title(settype)\n",
    "\n",
    "for settype, color, ax, in zip(['cis', 'mixed', 'trans'], colors, axs[:, 1]):\n",
    "    \n",
    "    # filter data - only comparisons we are considering\n",
    "    df_h3k27ac = known_motif_pval_frame_h3k27ac.loc[:, known_motif_pval_frame_h3k27ac.columns.str.contains('hunterFCThenPadj')]\n",
    "    df_h3k27ac = df_h3k27ac.loc[:, ~df_h3k27ac.columns.str.contains('distal')]\n",
    "    # require one to be significant\n",
    "    df_h3k27ac = df_h3k27ac.loc[(df_h3k27ac < np.log(0.05)).any(1), :]\n",
    "\n",
    "    ax.scatter(-df_h3k27ac.loc[:, 'h3k27ac_%s_balb_hunterFCThenPadj_motifs' % settype],\n",
    "               -df_h3k27ac.loc[:, 'h3k27ac_%s_c57_hunterFCThenPadj_motifs'% settype],\n",
    "               s=1,\n",
    "               c=[color])\n",
    "    \n",
    "    corr = spearmanr(df_h3k27ac.loc[:, 'h3k27ac_%s_balb_hunterFCThenPadj_motifs' % settype],\n",
    "                    df_h3k27ac.loc[:, 'h3k27ac_%s_c57_hunterFCThenPadj_motifs'% settype])\n",
    "    \n",
    "    ax.text(6.0, 7.5, 'Rho:\\n%.2f' % corr[0])\n",
    "    \n",
    "    # ax.set_ylabel('C57BL/6J')\n",
    "    ax.set_title(settype)\n",
    "    \n",
    "# axs[2,0].set_xlabel('BALB/cJ')\n",
    "# axs[2,1].set_xlabel('BALB/cJ')\n",
    "\n",
    "plt.savefig('./motif_enrichment_scatters/shared_motif_enrichment_scatter_filtered.pdf',\n",
    "            bbox_inches='tight')"
   ]
  },
  {
   "cell_type": "code",
   "execution_count": null,
   "id": "angry-berlin",
   "metadata": {},
   "outputs": [],
   "source": []
  }
 ],
 "metadata": {
  "kernelspec": {
   "display_name": "dataviz",
   "language": "python",
   "name": "dataviz"
  },
  "language_info": {
   "codemirror_mode": {
    "name": "ipython",
    "version": 3
   },
   "file_extension": ".py",
   "mimetype": "text/x-python",
   "name": "python",
   "nbconvert_exporter": "python",
   "pygments_lexer": "ipython3",
   "version": "3.7.5"
  }
 },
 "nbformat": 4,
 "nbformat_minor": 5
}
