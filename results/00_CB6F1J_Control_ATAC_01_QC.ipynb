{
 "cells": [
  {
   "cell_type": "markdown",
   "id": "sudden-inflation",
   "metadata": {},
   "source": [
    "Hunter Bennett | Glass Lab | June 03 2021  \n",
    "Kupffer cell strains project  \n",
    "  \n",
    "\n",
    "Preliminary goal here is to start to understand the epigenetic F1 data so we can start to analyze it and incorporate into our paper. In this case we will look at the F1 H3K27Ac ChIP-seq data."
   ]
  },
  {
   "cell_type": "markdown",
   "id": "decimal-consciousness",
   "metadata": {},
   "source": [
    "# Import packages"
   ]
  },
  {
   "cell_type": "code",
   "execution_count": 2,
   "id": "allied-hamilton",
   "metadata": {},
   "outputs": [],
   "source": [
    "### header ###\n",
    "__author__ = \"Hunter Bennett\"\n",
    "__license__ = \"BSD\"\n",
    "__email__ = \"hunter.r.bennett@gmail.com\"\n",
    "%load_ext autoreload\n",
    "%autoreload 2\n",
    "### imports ###\n",
    "import sys\n",
    "%matplotlib inline\n",
    "import os\n",
    "import re\n",
    "import glob\n",
    "import pandas as pd\n",
    "import numpy as np\n",
    "import matplotlib\n",
    "import matplotlib.pyplot as plt \n",
    "import seaborn as sns\n",
    "matplotlib.rcParams['savefig.dpi'] = 500\n",
    "\n",
    "# clustering packages\n",
    "import scipy\n",
    "import scipy.cluster.hierarchy as sch\n",
    "import scipy.spatial.distance as dist\n",
    "\n",
    "# import custom functions\n",
    "import sys\n",
    "sys.path.insert(0, '/home/h1bennet/code/')\n",
    "from hbUtils import ngs_qc, quantile_normalize_df\n",
    "from plotting_scripts import label_point, pca_rpkm_mat, get_diff_volcano\n",
    "from homer_preprocessing import read_annotated_peaks, import_homer_diffpeak, pull_comparisons_get_diff"
   ]
  },
  {
   "cell_type": "markdown",
   "id": "inner-complaint",
   "metadata": {},
   "source": [
    "### Set Matplotlib Plotting Parameters"
   ]
  },
  {
   "cell_type": "code",
   "execution_count": 3,
   "id": "baking-tiger",
   "metadata": {},
   "outputs": [],
   "source": [
    "# #### PLOTTING PARAMETERS FOR MANUSCRIPT ####\n",
    "# # # get matplotlib to save readable fonts\n",
    "# matplotlib.rcParams['pdf.fonttype'] = 42\n",
    "# matplotlib.rcParams['ps.fonttype'] = 42\n",
    "# matplotlib.rcParams['font.size'] = 8\n",
    "\n",
    "# # line widths\n",
    "# matplotlib.rcParams['axes.linewidth'] = 1\n",
    "# matplotlib.rcParams['xtick.major.width'] = 1\n",
    "# matplotlib.rcParams['ytick.major.width'] = 1\n",
    "\n",
    "# # adjust defualt color for plots to black\n",
    "# # normal default is a dark gray\n",
    "# COLOR = 'black'\n",
    "# matplotlib.rcParams['text.color'] = COLOR\n",
    "# matplotlib.rcParams['axes.labelcolor'] = COLOR\n",
    "# matplotlib.rcParams['xtick.color'] = COLOR\n",
    "# matplotlib.rcParams['ytick.color'] = COLOR\n",
    "# matplotlib.rcParams['axes.edgecolor'] = COLOR\n",
    "\n",
    "# #### PLOT PARAMETERS FOR THIS PLOT ####"
   ]
  },
  {
   "cell_type": "markdown",
   "id": "senior-ribbon",
   "metadata": {},
   "source": [
    "### Set working directory"
   ]
  },
  {
   "cell_type": "code",
   "execution_count": 4,
   "id": "established-secret",
   "metadata": {},
   "outputs": [],
   "source": [
    "dataDirectory = '/home/h1bennet/strains/data/ATAC/control_f1/'\n",
    "workingDirectory = '/home/h1bennet/strains_f1/results/00_CB6F1_Control_ATAC/'\n",
    "if not os.path.isdir(workingDirectory):\n",
    "    os.mkdir(workingDirectory)\n",
    "os.chdir(workingDirectory)\n"
   ]
  },
  {
   "cell_type": "markdown",
   "id": "colonial-middle",
   "metadata": {},
   "source": [
    "Lets start by taking a look at the data on the browser in an organized way."
   ]
  },
  {
   "cell_type": "markdown",
   "id": "lesser-district",
   "metadata": {},
   "source": [
    "    makeMultiWigHub.pl hrb_strains_f1_atac_perfect mm10 \\\n",
    "    -color 49,163,84 49,163,84 49,163,84 49,163,84 \\\n",
    "    49,130,189 49,130,189 49,130,189 49,130,189 \\\n",
    "    -force -d \\\n",
    "    /home/h1bennet/strains/data/ATAC/control_f1/tag_perfect_reads_mouse_cb6f1j_Male_Kupffer_ATAC_Chow_healthyoung_CB61A_TDT_l20210213_CTAGTACG_TCGACTAG_S7_L001_trim30.mm10.bowtie2.sam \\\n",
    "    /home/h1bennet/strains/data/ATAC/control_f1/tag_perfect_reads_mouse_cb6f1j_Male_Kupffer_ATAC_Chow_healthyoung_CB61B_TDT_l20210213_TTCTGCCT_TTCTAGCT_S8_L001_trim30.mm10.bowtie2.sam \\\n",
    "    /home/h1bennet/strains/data/ATAC/control_f1/tag_perfect_reads_mouse_cb6f1j_Male_Kupffer_ATAC_Chow_healthyoung_CB61C_TDT_l20210213_GCTCAGGA_CCTAGAGT_S9_L001_trim30.mm10.bowtie2.sam \\\n",
    "    /home/h1bennet/strains/data/ATAC/control_f1/tag_perfect_reads_mouse_cb6f1j_Male_Kupffer_ATAC_Chow_healthyoung_CB61D_TDT_l20210213_AGGAGTCC_GCGTAAGA_S10_L001_trim30.mm10.bowtie2.sam \\\n",
    "    /home/h1bennet/strains/data/ATAC/control_f1/tag_perfect_reads_mouse_cb6f1j_Male_Kupffer_ATAC_Chow_healthyoung_CB61A_TDT_l20210213_CTAGTACG_TCGACTAG_S7_L001_trim30.balbcj.bowtie2_shifted_from_BALBCJ.sam \\\n",
    "    /home/h1bennet/strains/data/ATAC/control_f1/tag_perfect_reads_mouse_cb6f1j_Male_Kupffer_ATAC_Chow_healthyoung_CB61B_TDT_l20210213_TTCTGCCT_TTCTAGCT_S8_L001_trim30.balbcj.bowtie2_shifted_from_BALBCJ.sam \\\n",
    "    /home/h1bennet/strains/data/ATAC/control_f1/tag_perfect_reads_mouse_cb6f1j_Male_Kupffer_ATAC_Chow_healthyoung_CB61C_TDT_l20210213_GCTCAGGA_CCTAGAGT_S9_L001_trim30.balbcj.bowtie2_shifted_from_BALBCJ.sam \\\n",
    "    /home/h1bennet/strains/data/ATAC/control_f1/tag_perfect_reads_mouse_cb6f1j_Male_Kupffer_ATAC_Chow_healthyoung_CB61D_TDT_l20210213_AGGAGTCC_GCGTAAGA_S10_L001_trim30.balbcj.bowtie2_shifted_from_BALBCJ.sam\n",
    "   "
   ]
  },
  {
   "cell_type": "markdown",
   "id": "molecular-interpretation",
   "metadata": {},
   "source": [
    "    makeMultiWigHub.pl hrb_strains_f1_atac_onlymuts mm10 \\\n",
    "        -color 49,163,84 49,163,84 49,163,84 49,163,84 \\\n",
    "        49,130,189 49,130,189 49,130,189 49,130,189 \\\n",
    "        -force -d \\\n",
    "         /home/h1bennet/strains/data/ATAC/control_f1/tag_only_muts_mouse_cb6f1j_Male_Kupffer_ATAC_Chow_healthyoung_CB61A_TDT_l20210213_CTAGTACG_TCGACTAG_S7_L001_trim30.mm10.bowtie2.sam \\\n",
    "        /home/h1bennet/strains/data/ATAC/control_f1/tag_only_muts_mouse_cb6f1j_Male_Kupffer_ATAC_Chow_healthyoung_CB61B_TDT_l20210213_TTCTGCCT_TTCTAGCT_S8_L001_trim30.mm10.bowtie2.sam \\\n",
    "        /home/h1bennet/strains/data/ATAC/control_f1/tag_only_muts_mouse_cb6f1j_Male_Kupffer_ATAC_Chow_healthyoung_CB61C_TDT_l20210213_GCTCAGGA_CCTAGAGT_S9_L001_trim30.mm10.bowtie2.sam \\\n",
    "        /home/h1bennet/strains/data/ATAC/control_f1/tag_only_muts_mouse_cb6f1j_Male_Kupffer_ATAC_Chow_healthyoung_CB61D_TDT_l20210213_AGGAGTCC_GCGTAAGA_S10_L001_trim30.mm10.bowtie2.sam \\\n",
    "        /home/h1bennet/strains/data/ATAC/control_f1/tag_only_muts_mouse_cb6f1j_Male_Kupffer_ATAC_Chow_healthyoung_CB61A_TDT_l20210213_CTAGTACG_TCGACTAG_S7_L001_trim30.balbcj.bowtie2_shifted_from_BALBCJ.sam \\\n",
    "        /home/h1bennet/strains/data/ATAC/control_f1/tag_only_muts_mouse_cb6f1j_Male_Kupffer_ATAC_Chow_healthyoung_CB61B_TDT_l20210213_TTCTGCCT_TTCTAGCT_S8_L001_trim30.balbcj.bowtie2_shifted_from_BALBCJ.sam \\\n",
    "        /home/h1bennet/strains/data/ATAC/control_f1/tag_only_muts_mouse_cb6f1j_Male_Kupffer_ATAC_Chow_healthyoung_CB61C_TDT_l20210213_GCTCAGGA_CCTAGAGT_S9_L001_trim30.balbcj.bowtie2_shifted_from_BALBCJ.sam \\\n",
    "        /home/h1bennet/strains/data/ATAC/control_f1/tag_only_muts_mouse_cb6f1j_Male_Kupffer_ATAC_Chow_healthyoung_CB61D_TDT_l20210213_AGGAGTCC_GCGTAAGA_S10_L001_trim30.balbcj.bowtie2_shifted_from_BALBCJ.sam"
   ]
  },
  {
   "cell_type": "code",
   "execution_count": 9,
   "id": "national-respondent",
   "metadata": {},
   "outputs": [],
   "source": [
    "perfect_c57bl6j_control_paths = list(np.sort(glob.glob(dataDirectory+'/tag_perfect*mm10*')))\n",
    "perfect_balbcj_control_paths = list(np.sort(glob.glob(dataDirectory+'/tag_perfect*balbcj*')))\n",
    "onlymuts_c57bl6j_paths = list(np.sort(glob.glob(dataDirectory+'/tag_only_muts*mm10*')))\n",
    "onlymuts_balbcj_paths = list(np.sort(glob.glob(dataDirectory+'/tag_only_muts*balbcj*')))\n",
    "\n",
    "perfect_c57bl6j_control_ids = [i.split('/')[-1].split('_')[10] for i in perfect_c57bl6j_control_paths]\n",
    "perfect_balbcj_control_ids = [i.split('/')[-1].split('_')[10] for i in perfect_balbcj_control_paths]\n",
    "onlymuts_c57bl6j_ids = [i.split('/')[-1].split('_')[10] for i in onlymuts_c57bl6j_paths]\n",
    "onlymuts_balbcj_ids = [i.split('/')[-1].split('_')[10] for i in onlymuts_balbcj_paths]"
   ]
  },
  {
   "cell_type": "code",
   "execution_count": 10,
   "id": "correct-waterproof",
   "metadata": {},
   "outputs": [],
   "source": [
    "ids = ['perfect_c57bl6j_control_paths',\n",
    "       'perfect_balbcj_control_paths',\n",
    "       'onlymuts_c57bl6j_paths',\n",
    "       'onlymuts_balbcj_paths'\n",
    "      ]\n",
    "\n",
    "colors = ['#31a354',\n",
    "          '#3182bd',\n",
    "          '#006d2c',\n",
    "          '#08519c'\n",
    "         ]\n",
    "\n",
    "paths = [';'.join(perfect_c57bl6j_control_paths),\n",
    "         ';'.join(perfect_balbcj_control_paths),\n",
    "         ';'.join(onlymuts_c57bl6j_paths),\n",
    "         ';'.join(onlymuts_balbcj_paths)\n",
    "        ]\n",
    "\n",
    "short_ids = [';'.join(perfect_c57bl6j_control_ids),\n",
    "             ';'.join(perfect_balbcj_control_ids),\n",
    "             ';'.join(onlymuts_c57bl6j_ids),\n",
    "             ';'.join(onlymuts_balbcj_ids)\n",
    "            ]\n",
    "\n",
    "pd.DataFrame([ids,colors,paths,short_ids]).T.to_csv('./sampleDef.txt',\n",
    "                                                    sep='\\t',\n",
    "                                                    header=False,\n",
    "                                                    index=False)"
   ]
  },
  {
   "cell_type": "code",
   "execution_count": 11,
   "id": "weird-casting",
   "metadata": {},
   "outputs": [
    {
     "data": {
      "text/html": [
       "<div>\n",
       "<style scoped>\n",
       "    .dataframe tbody tr th:only-of-type {\n",
       "        vertical-align: middle;\n",
       "    }\n",
       "\n",
       "    .dataframe tbody tr th {\n",
       "        vertical-align: top;\n",
       "    }\n",
       "\n",
       "    .dataframe thead th {\n",
       "        text-align: right;\n",
       "    }\n",
       "</style>\n",
       "<table border=\"1\" class=\"dataframe\">\n",
       "  <thead>\n",
       "    <tr style=\"text-align: right;\">\n",
       "      <th></th>\n",
       "      <th>0</th>\n",
       "      <th>1</th>\n",
       "      <th>2</th>\n",
       "      <th>3</th>\n",
       "    </tr>\n",
       "  </thead>\n",
       "  <tbody>\n",
       "    <tr>\n",
       "      <th>0</th>\n",
       "      <td>perfect_c57bl6j_control_paths</td>\n",
       "      <td>#31a354</td>\n",
       "      <td>/home/h1bennet/strains/data/ATAC/control_f1/ta...</td>\n",
       "      <td>CB61A;CB61B;CB61C;CB61D</td>\n",
       "    </tr>\n",
       "    <tr>\n",
       "      <th>1</th>\n",
       "      <td>perfect_balbcj_control_paths</td>\n",
       "      <td>#3182bd</td>\n",
       "      <td>/home/h1bennet/strains/data/ATAC/control_f1/ta...</td>\n",
       "      <td>CB61A;CB61B;CB61C;CB61D</td>\n",
       "    </tr>\n",
       "    <tr>\n",
       "      <th>2</th>\n",
       "      <td>onlymuts_c57bl6j_paths</td>\n",
       "      <td>#006d2c</td>\n",
       "      <td>/home/h1bennet/strains/data/ATAC/control_f1/ta...</td>\n",
       "      <td>CB61A;CB61B;CB61C;CB61D</td>\n",
       "    </tr>\n",
       "    <tr>\n",
       "      <th>3</th>\n",
       "      <td>onlymuts_balbcj_paths</td>\n",
       "      <td>#08519c</td>\n",
       "      <td>/home/h1bennet/strains/data/ATAC/control_f1/ta...</td>\n",
       "      <td>CB61A;CB61B;CB61C;CB61D</td>\n",
       "    </tr>\n",
       "  </tbody>\n",
       "</table>\n",
       "</div>"
      ],
      "text/plain": [
       "                               0        1  \\\n",
       "0  perfect_c57bl6j_control_paths  #31a354   \n",
       "1   perfect_balbcj_control_paths  #3182bd   \n",
       "2         onlymuts_c57bl6j_paths  #006d2c   \n",
       "3          onlymuts_balbcj_paths  #08519c   \n",
       "\n",
       "                                                   2                        3  \n",
       "0  /home/h1bennet/strains/data/ATAC/control_f1/ta...  CB61A;CB61B;CB61C;CB61D  \n",
       "1  /home/h1bennet/strains/data/ATAC/control_f1/ta...  CB61A;CB61B;CB61C;CB61D  \n",
       "2  /home/h1bennet/strains/data/ATAC/control_f1/ta...  CB61A;CB61B;CB61C;CB61D  \n",
       "3  /home/h1bennet/strains/data/ATAC/control_f1/ta...  CB61A;CB61B;CB61C;CB61D  "
      ]
     },
     "execution_count": 11,
     "metadata": {},
     "output_type": "execute_result"
    }
   ],
   "source": [
    "pd.DataFrame([ids,colors,paths,short_ids]).T"
   ]
  },
  {
   "cell_type": "markdown",
   "id": "minimal-weight",
   "metadata": {},
   "source": [
    "    source activate r-ouyangPipe\n",
    "\n",
    "    alignStats.R ./sampleDef.txt > qcStats.txt"
   ]
  },
  {
   "cell_type": "markdown",
   "id": "german-detail",
   "metadata": {},
   "source": [
    "# plot QC info"
   ]
  },
  {
   "cell_type": "code",
   "execution_count": 12,
   "id": "married-trauma",
   "metadata": {},
   "outputs": [],
   "source": [
    "qc = pd.read_csv('./qcStats.txt', sep='\\t', index_col=0)\n",
    "qc.index.rename('sample', inplace=True)\n",
    "qc = qc.reset_index()"
   ]
  },
  {
   "cell_type": "code",
   "execution_count": 13,
   "id": "structural-spanking",
   "metadata": {},
   "outputs": [
    {
     "data": {
      "image/png": "[encoded data removed]",
      "text/plain": [
       "<Figure size 1152x864 with 12 Axes>"
      ]
     },
     "metadata": {
      "needs_background": "light"
     },
     "output_type": "display_data"
    }
   ],
   "source": [
    "fig, axs = plt.subplots(3, 4, figsize=(16, 12), sharex=True)\n",
    "plt.subplots_adjust(wspace=0.4)\n",
    "\n",
    "for col, ax in zip(qc.columns[1:], axs.flat):\n",
    "    sns.barplot(x='sample', y=col, data=qc, ax=ax)"
   ]
  },
  {
   "cell_type": "code",
   "execution_count": null,
   "id": "hollywood-seven",
   "metadata": {},
   "outputs": [],
   "source": []
  }
 ],
 "metadata": {
  "kernelspec": {
   "display_name": "dataviz",
   "language": "python",
   "name": "dataviz"
  },
  "language_info": {
   "codemirror_mode": {
    "name": "ipython",
    "version": 3
   },
   "file_extension": ".py",
   "mimetype": "text/x-python",
   "name": "python",
   "nbconvert_exporter": "python",
   "pygments_lexer": "ipython3",
   "version": "3.7.5"
  }
 },
 "nbformat": 4,
 "nbformat_minor": 5
}
